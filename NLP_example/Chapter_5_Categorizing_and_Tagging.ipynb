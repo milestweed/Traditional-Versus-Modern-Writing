{
 "cells": [
  {
   "cell_type": "markdown",
   "id": "collaborative-ideal",
   "metadata": {},
   "source": [
    "# Categorizing and Tagging Words\n",
    "\n",
    "The process of classifying  words as **parts-of-speech** and labeling them accordingly. Parts-of-speech are also known as **word classes** or **lexical categories**. The collection of tags used for a particular class is known as a **tagset**.\n",
    "\n",
    "## Using a Tagger"
   ]
  },
  {
   "cell_type": "code",
   "execution_count": 2,
   "id": "ultimate-millennium",
   "metadata": {
    "scrolled": false
   },
   "outputs": [
    {
     "data": {
      "text/plain": [
       "[('And', 'CC'),\n",
       " ('now', 'RB'),\n",
       " ('for', 'IN'),\n",
       " ('something', 'NN'),\n",
       " ('completely', 'RB'),\n",
       " ('different', 'JJ')]"
      ]
     },
     "execution_count": 2,
     "metadata": {},
     "output_type": "execute_result"
    }
   ],
   "source": [
    "import nltk, re\n",
    "text = nltk.word_tokenize(\"And now for something completely different\")\n",
    "nltk.pos_tag(text)"
   ]
  },
  {
   "cell_type": "code",
   "execution_count": 3,
   "id": "regulation-cursor",
   "metadata": {},
   "outputs": [
    {
     "name": "stdout",
     "output_type": "stream",
     "text": [
      "RB: adverb\n",
      "    occasionally unabatingly maddeningly adventurously professedly\n",
      "    stirringly prominently technologically magisterially predominately\n",
      "    swiftly fiscally pitilessly ...\n"
     ]
    }
   ],
   "source": [
    "# There is documentation for the tags\n",
    "nltk.help.upenn_tagset('RB')"
   ]
  },
  {
   "cell_type": "code",
   "execution_count": 4,
   "id": "cardiac-spanish",
   "metadata": {},
   "outputs": [],
   "source": [
    "# Another example but containing homonyms\n",
    "text = nltk.word_tokenize(\"They refuse topermit us to obtain the refuse permit\")"
   ]
  },
  {
   "cell_type": "code",
   "execution_count": 5,
   "id": "scheduled-chrome",
   "metadata": {},
   "outputs": [
    {
     "data": {
      "text/plain": [
       "[('They', 'PRP'),\n",
       " ('refuse', 'VBP'),\n",
       " ('topermit', 'VBP'),\n",
       " ('us', 'PRP'),\n",
       " ('to', 'TO'),\n",
       " ('obtain', 'VB'),\n",
       " ('the', 'DT'),\n",
       " ('refuse', 'NN'),\n",
       " ('permit', 'NN')]"
      ]
     },
     "execution_count": 5,
     "metadata": {},
     "output_type": "execute_result"
    }
   ],
   "source": [
    "nltk.pos_tag(text)"
   ]
  },
  {
   "cell_type": "code",
   "execution_count": 6,
   "id": "heard-jackson",
   "metadata": {},
   "outputs": [],
   "source": [
    "text = nltk.Text(word.lower() for word in nltk.corpus.brown.words())"
   ]
  },
  {
   "cell_type": "code",
   "execution_count": 7,
   "id": "functioning-secret",
   "metadata": {},
   "outputs": [
    {
     "name": "stdout",
     "output_type": "stream",
     "text": [
      "man time day year car moment world house family child country boy\n",
      "state job place way war girl work word\n"
     ]
    }
   ],
   "source": [
    "# Finds mostly nouns\n",
    "text.similar(\"woman\")"
   ]
  },
  {
   "cell_type": "code",
   "execution_count": 8,
   "id": "fleet-campaign",
   "metadata": {},
   "outputs": [
    {
     "name": "stdout",
     "output_type": "stream",
     "text": [
      "made said done put had seen found given left heard was been brought\n",
      "set got that took in told felt\n"
     ]
    }
   ],
   "source": [
    "# Finds mostly verbs\n",
    "text.similar('bought')"
   ]
  },
  {
   "cell_type": "code",
   "execution_count": 9,
   "id": "conventional-timing",
   "metadata": {},
   "outputs": [
    {
     "name": "stdout",
     "output_type": "stream",
     "text": [
      "in on to of and for with from at by that into as up out down through\n",
      "is all about\n"
     ]
    }
   ],
   "source": [
    "# Finds mostly prepositions\n",
    "text.similar('over')"
   ]
  },
  {
   "cell_type": "code",
   "execution_count": 10,
   "id": "revised-wells",
   "metadata": {},
   "outputs": [
    {
     "name": "stdout",
     "output_type": "stream",
     "text": [
      "a his this their its her an that our any all one these my in your no\n",
      "some other and\n"
     ]
    }
   ],
   "source": [
    "# Finds several determiners\n",
    "text.similar('the')"
   ]
  },
  {
   "cell_type": "markdown",
   "id": "prescribed-investing",
   "metadata": {},
   "source": [
    "# Tagged Corpora\n",
    "By convention represented using a tuple consisting of the token and the tag. Can be created using nltk.tag.str2tuple()"
   ]
  },
  {
   "cell_type": "code",
   "execution_count": 11,
   "id": "seasonal-syndicate",
   "metadata": {},
   "outputs": [
    {
     "data": {
      "text/plain": [
       "('fly', 'NN')"
      ]
     },
     "execution_count": 11,
     "metadata": {},
     "output_type": "execute_result"
    }
   ],
   "source": [
    "tagged_token = nltk.tag.str2tuple('fly/NN')\n",
    "tagged_token"
   ]
  },
  {
   "cell_type": "code",
   "execution_count": 12,
   "id": "outdoor-vaccine",
   "metadata": {},
   "outputs": [
    {
     "data": {
      "text/plain": [
       "'fly'"
      ]
     },
     "execution_count": 12,
     "metadata": {},
     "output_type": "execute_result"
    }
   ],
   "source": [
    "tagged_token[0]"
   ]
  },
  {
   "cell_type": "code",
   "execution_count": 13,
   "id": "independent-corporation",
   "metadata": {},
   "outputs": [
    {
     "data": {
      "text/plain": [
       "'NN'"
      ]
     },
     "execution_count": 13,
     "metadata": {},
     "output_type": "execute_result"
    }
   ],
   "source": [
    "tagged_token[1]"
   ]
  },
  {
   "cell_type": "markdown",
   "id": "extra-acrobat",
   "metadata": {},
   "source": [
    "List of tagged tokens can be created directly from a string."
   ]
  },
  {
   "cell_type": "code",
   "execution_count": 14,
   "id": "honey-parking",
   "metadata": {},
   "outputs": [],
   "source": [
    "sent = '''\n",
    "        The/AT grand/JJ jury/NN commented/VBD on/IN a/AT number/NN of/IN\n",
    "        other/AP topics/NNS ,/, AMONG/IN them/PPO the/AT Atlanta/NP and/CC\n",
    "        Fulton/NP-tl County/NN-tl purchasing/VBG departments/NNS which/WDT it/PPS\n",
    "        said/VBD ``/`` ARE/BER well/QL operated/VBN and/CC follow/VB generally/RB\n",
    "        accepted/VBN practices/NNS which/WDT inure/VB to/IN the/AT best/JJT\n",
    "        interest/NN of/IN both/ABX governments/NNS ''/'' ./.\n",
    "        '''"
   ]
  },
  {
   "cell_type": "code",
   "execution_count": 15,
   "id": "insured-beauty",
   "metadata": {},
   "outputs": [
    {
     "data": {
      "text/plain": [
       "[('The', 'AT'),\n",
       " ('grand', 'JJ'),\n",
       " ('jury', 'NN'),\n",
       " ('commented', 'VBD'),\n",
       " ('on', 'IN'),\n",
       " ('a', 'AT'),\n",
       " ('number', 'NN'),\n",
       " ('of', 'IN'),\n",
       " ('other', 'AP'),\n",
       " ('topics', 'NNS'),\n",
       " (',', ','),\n",
       " ('AMONG', 'IN'),\n",
       " ('them', 'PPO'),\n",
       " ('the', 'AT'),\n",
       " ('Atlanta', 'NP'),\n",
       " ('and', 'CC'),\n",
       " ('Fulton', 'NP-TL'),\n",
       " ('County', 'NN-TL'),\n",
       " ('purchasing', 'VBG'),\n",
       " ('departments', 'NNS'),\n",
       " ('which', 'WDT'),\n",
       " ('it', 'PPS'),\n",
       " ('said', 'VBD'),\n",
       " ('``', '``'),\n",
       " ('ARE', 'BER'),\n",
       " ('well', 'QL'),\n",
       " ('operated', 'VBN'),\n",
       " ('and', 'CC'),\n",
       " ('follow', 'VB'),\n",
       " ('generally', 'RB'),\n",
       " ('accepted', 'VBN'),\n",
       " ('practices', 'NNS'),\n",
       " ('which', 'WDT'),\n",
       " ('inure', 'VB'),\n",
       " ('to', 'IN'),\n",
       " ('the', 'AT'),\n",
       " ('best', 'JJT'),\n",
       " ('interest', 'NN'),\n",
       " ('of', 'IN'),\n",
       " ('both', 'ABX'),\n",
       " ('governments', 'NNS'),\n",
       " (\"''\", \"''\"),\n",
       " ('.', '.')]"
      ]
     },
     "execution_count": 15,
     "metadata": {},
     "output_type": "execute_result"
    }
   ],
   "source": [
    "[nltk.tag.str2tuple(t) for t in sent.split()]"
   ]
  },
  {
   "cell_type": "code",
   "execution_count": 16,
   "id": "fifty-dealing",
   "metadata": {},
   "outputs": [
    {
     "data": {
      "text/plain": [
       "[('The', 'AT'), ('Fulton', 'NP-TL'), ...]"
      ]
     },
     "execution_count": 16,
     "metadata": {},
     "output_type": "execute_result"
    }
   ],
   "source": [
    "# Several of the corpora have been tagged\n",
    "nltk.corpus.brown.tagged_words()"
   ]
  },
  {
   "cell_type": "code",
   "execution_count": 17,
   "id": "substantial-patio",
   "metadata": {},
   "outputs": [
    {
     "data": {
      "text/plain": [
       "[('The', 'DET'), ('Fulton', 'NOUN'), ...]"
      ]
     },
     "execution_count": 17,
     "metadata": {},
     "output_type": "execute_result"
    }
   ],
   "source": [
    "# ...and have simplified versions.\n",
    "nltk.corpus.brown.tagged_words(tagset = \"universal\")"
   ]
  },
  {
   "cell_type": "markdown",
   "id": "headed-milan",
   "metadata": {},
   "source": [
    "![](simp_pos.png)"
   ]
  },
  {
   "cell_type": "code",
   "execution_count": 18,
   "id": "different-graduation",
   "metadata": {},
   "outputs": [
    {
     "data": {
      "text/plain": [
       "[('now', 'RB'), ('im', 'PRP'), ('left', 'VBD'), ...]"
      ]
     },
     "execution_count": 18,
     "metadata": {},
     "output_type": "execute_result"
    }
   ],
   "source": [
    "nltk.corpus.nps_chat.tagged_words()"
   ]
  },
  {
   "cell_type": "code",
   "execution_count": 19,
   "id": "shaped-kidney",
   "metadata": {},
   "outputs": [
    {
     "data": {
      "text/plain": [
       "[('Confidence', 'NN'), ('in', 'IN'), ('the', 'DT'), ...]"
      ]
     },
     "execution_count": 19,
     "metadata": {},
     "output_type": "execute_result"
    }
   ],
   "source": [
    "nltk.corpus.conll2000.tagged_words()"
   ]
  },
  {
   "cell_type": "code",
   "execution_count": 20,
   "id": "written-montana",
   "metadata": {},
   "outputs": [
    {
     "data": {
      "text/plain": [
       "[('Pierre', 'NNP'), ('Vinken', 'NNP'), (',', ','), ...]"
      ]
     },
     "execution_count": 20,
     "metadata": {},
     "output_type": "execute_result"
    }
   ],
   "source": [
    "nltk.corpus.treebank.tagged_words()"
   ]
  },
  {
   "cell_type": "markdown",
   "id": "tender-irrigation",
   "metadata": {},
   "source": [
    "Finding the common tag in the news category of the brown corpus"
   ]
  },
  {
   "cell_type": "code",
   "execution_count": 21,
   "id": "passing-reference",
   "metadata": {},
   "outputs": [],
   "source": [
    "from nltk.corpus import brown\n",
    "brown_news_tagged = brown.tagged_words(categories='news', tagset='universal')"
   ]
  },
  {
   "cell_type": "code",
   "execution_count": 22,
   "id": "widespread-lounge",
   "metadata": {},
   "outputs": [],
   "source": [
    "tag_fd = nltk.FreqDist(tag for (word, tag) in brown_news_tagged)"
   ]
  },
  {
   "cell_type": "code",
   "execution_count": 23,
   "id": "electoral-architecture",
   "metadata": {},
   "outputs": [
    {
     "data": {
      "text/plain": [
       "dict_keys(['DET', 'NOUN', 'ADJ', 'VERB', 'ADP', '.', 'ADV', 'CONJ', 'PRT', 'PRON', 'NUM', 'X'])"
      ]
     },
     "execution_count": 23,
     "metadata": {},
     "output_type": "execute_result"
    }
   ],
   "source": [
    "tag_fd.keys()"
   ]
  },
  {
   "cell_type": "code",
   "execution_count": 36,
   "id": "thirty-fraud",
   "metadata": {},
   "outputs": [
    {
     "data": {
      "text/plain": [
       "[('DET', 11389),\n",
       " ('NOUN', 30654),\n",
       " ('ADJ', 6706),\n",
       " ('VERB', 14399),\n",
       " ('ADP', 12355),\n",
       " ('.', 11928),\n",
       " ('ADV', 3349),\n",
       " ('CONJ', 2717),\n",
       " ('PRT', 2264),\n",
       " ('PRON', 2535),\n",
       " ('NUM', 2166),\n",
       " ('X', 92)]"
      ]
     },
     "execution_count": 36,
     "metadata": {},
     "output_type": "execute_result"
    }
   ],
   "source": [
    "[x for x in tag_fd.items()]"
   ]
  },
  {
   "cell_type": "code",
   "execution_count": null,
   "id": "downtown-defeat",
   "metadata": {},
   "outputs": [],
   "source": [
    "tag_fd.plot(cumulative=True)"
   ]
  },
  {
   "cell_type": "code",
   "execution_count": null,
   "id": "satisfied-tennis",
   "metadata": {},
   "outputs": [],
   "source": [
    "# Most common verb in news text\n",
    "wsj = nltk.corpus.treebank.tagged_words(tagset='universal')"
   ]
  },
  {
   "cell_type": "code",
   "execution_count": null,
   "id": "adolescent-block",
   "metadata": {},
   "outputs": [],
   "source": [
    "word_tag_fd = nltk.FreqDist(wsj)"
   ]
  },
  {
   "cell_type": "code",
   "execution_count": null,
   "id": "advanced-kingdom",
   "metadata": {},
   "outputs": [],
   "source": [
    "[word +'/'+tag for (word, tag) in word_tag_fd if tag.startswith('V')]"
   ]
  },
  {
   "cell_type": "markdown",
   "id": "experienced-latin",
   "metadata": {},
   "source": [
    "# Automatic Tagging\n"
   ]
  }
 ],
 "metadata": {
  "kernelspec": {
   "display_name": "Python 3",
   "language": "python",
   "name": "python3"
  },
  "language_info": {
   "codemirror_mode": {
    "name": "ipython",
    "version": 3
   },
   "file_extension": ".py",
   "mimetype": "text/x-python",
   "name": "python",
   "nbconvert_exporter": "python",
   "pygments_lexer": "ipython3",
   "version": "3.8.8"
  }
 },
 "nbformat": 4,
 "nbformat_minor": 5
}
