{
 "cells": [
  {
   "cell_type": "code",
   "execution_count": 4,
   "id": "included-welding",
   "metadata": {},
   "outputs": [],
   "source": [
    "import nltk"
   ]
  },
  {
   "cell_type": "code",
   "execution_count": 8,
   "id": "christian-greece",
   "metadata": {},
   "outputs": [
    {
     "name": "stderr",
     "output_type": "stream",
     "text": [
      "[nltk_data] Downloading package punkt to /home/mtweed/nltk_data...\n",
      "[nltk_data]   Unzipping tokenizers/punkt.zip.\n"
     ]
    },
    {
     "data": {
      "text/plain": [
       "True"
      ]
     },
     "execution_count": 8,
     "metadata": {},
     "output_type": "execute_result"
    }
   ],
   "source": [
    "#nltk.download('punkt')"
   ]
  },
  {
   "cell_type": "code",
   "execution_count": 4,
   "id": "future-frame",
   "metadata": {},
   "outputs": [
    {
     "data": {
      "text/plain": [
       "['austen-emma.txt',\n",
       " 'austen-persuasion.txt',\n",
       " 'austen-sense.txt',\n",
       " 'bible-kjv.txt',\n",
       " 'blake-poems.txt',\n",
       " 'bryant-stories.txt',\n",
       " 'burgess-busterbrown.txt',\n",
       " 'carroll-alice.txt',\n",
       " 'chesterton-ball.txt',\n",
       " 'chesterton-brown.txt',\n",
       " 'chesterton-thursday.txt',\n",
       " 'edgeworth-parents.txt',\n",
       " 'melville-moby_dick.txt',\n",
       " 'milton-paradise.txt',\n",
       " 'shakespeare-caesar.txt',\n",
       " 'shakespeare-hamlet.txt',\n",
       " 'shakespeare-macbeth.txt',\n",
       " 'whitman-leaves.txt']"
      ]
     },
     "execution_count": 4,
     "metadata": {},
     "output_type": "execute_result"
    }
   ],
   "source": [
    "nltk.corpus.gutenberg.fileids()"
   ]
  },
  {
   "cell_type": "code",
   "execution_count": 5,
   "id": "front-defensive",
   "metadata": {},
   "outputs": [],
   "source": [
    "emma = nltk.corpus.gutenberg.words('austen-emma.txt')"
   ]
  },
  {
   "cell_type": "code",
   "execution_count": 6,
   "id": "renewable-bennett",
   "metadata": {},
   "outputs": [
    {
     "data": {
      "text/plain": [
       "192427"
      ]
     },
     "execution_count": 6,
     "metadata": {},
     "output_type": "execute_result"
    }
   ],
   "source": [
    "len(emma)"
   ]
  },
  {
   "cell_type": "markdown",
   "id": "ready-disaster",
   "metadata": {},
   "source": [
    "The following displays the ***average word length***, the ***average sentence length*** and the number of times each vocabulary item appears"
   ]
  },
  {
   "cell_type": "code",
   "execution_count": 10,
   "id": "headed-florist",
   "metadata": {},
   "outputs": [
    {
     "name": "stdout",
     "output_type": "stream",
     "text": [
      "4 24 26 austen-emma.txt\n",
      "4 26 16 austen-persuasion.txt\n",
      "4 28 22 austen-sense.txt\n",
      "4 33 79 bible-kjv.txt\n",
      "4 19 5 blake-poems.txt\n",
      "4 19 14 bryant-stories.txt\n",
      "4 17 12 burgess-busterbrown.txt\n",
      "4 20 12 carroll-alice.txt\n",
      "4 20 11 chesterton-ball.txt\n",
      "4 22 11 chesterton-brown.txt\n",
      "4 18 10 chesterton-thursday.txt\n",
      "4 20 24 edgeworth-parents.txt\n",
      "4 25 15 melville-moby_dick.txt\n",
      "4 52 10 milton-paradise.txt\n",
      "4 11 8 shakespeare-caesar.txt\n",
      "4 12 7 shakespeare-hamlet.txt\n",
      "4 12 6 shakespeare-macbeth.txt\n",
      "4 36 12 whitman-leaves.txt\n"
     ]
    }
   ],
   "source": [
    "from nltk.corpus import gutenberg\n",
    "for fileid in gutenberg.fileids()\n",
    "    num_chars = len(gutenberg.raw(fileid))\n",
    "    num_words = len(gutenberg.words(fileid))\n",
    "    num_sents = len(gutenberg.sents(fileid))\n",
    "    num_vocab = len(set([w.lower() for w in gutenberg.words(fileid)]))\n",
    "    print(int(num_chars/num_words), \n",
    "          int(num_words/num_sents), \n",
    "          int(num_words/num_vocab), \n",
    "          fileid)"
   ]
  },
  {
   "cell_type": "code",
   "execution_count": 11,
   "id": "operational-compilation",
   "metadata": {},
   "outputs": [
    {
     "data": {
      "text/plain": [
       "38153"
      ]
     },
     "execution_count": 11,
     "metadata": {},
     "output_type": "execute_result"
    }
   ],
   "source": [
    "len(gutenberg.raw('blake-poems.txt'))"
   ]
  },
  {
   "cell_type": "markdown",
   "id": "moral-alert",
   "metadata": {},
   "source": [
    "Returning the longest sentences"
   ]
  },
  {
   "cell_type": "code",
   "execution_count": 12,
   "id": "honey-generation",
   "metadata": {},
   "outputs": [],
   "source": [
    "macbeth_sentences = gutenberg.sents('shakespeare-macbeth.txt')"
   ]
  },
  {
   "cell_type": "code",
   "execution_count": 13,
   "id": "forced-september",
   "metadata": {},
   "outputs": [
    {
     "data": {
      "text/plain": [
       "[['[', 'The', 'Tragedie', 'of', 'Macbeth', 'by', 'William', 'Shakespeare', '1603', ']'], ['Actus', 'Primus', '.'], ...]"
      ]
     },
     "execution_count": 13,
     "metadata": {},
     "output_type": "execute_result"
    }
   ],
   "source": [
    "macbeth_sentences"
   ]
  },
  {
   "cell_type": "code",
   "execution_count": 19,
   "id": "micro-inquiry",
   "metadata": {},
   "outputs": [],
   "source": [
    "longest_len = max([len(s) for s in macbeth_sentences])"
   ]
  },
  {
   "cell_type": "code",
   "execution_count": 20,
   "id": "defined-training",
   "metadata": {},
   "outputs": [
    {
     "data": {
      "text/plain": [
       "[['Doubtfull',\n",
       "  'it',\n",
       "  'stood',\n",
       "  ',',\n",
       "  'As',\n",
       "  'two',\n",
       "  'spent',\n",
       "  'Swimmers',\n",
       "  ',',\n",
       "  'that',\n",
       "  'doe',\n",
       "  'cling',\n",
       "  'together',\n",
       "  ',',\n",
       "  'And',\n",
       "  'choake',\n",
       "  'their',\n",
       "  'Art',\n",
       "  ':',\n",
       "  'The',\n",
       "  'mercilesse',\n",
       "  'Macdonwald',\n",
       "  '(',\n",
       "  'Worthie',\n",
       "  'to',\n",
       "  'be',\n",
       "  'a',\n",
       "  'Rebell',\n",
       "  ',',\n",
       "  'for',\n",
       "  'to',\n",
       "  'that',\n",
       "  'The',\n",
       "  'multiplying',\n",
       "  'Villanies',\n",
       "  'of',\n",
       "  'Nature',\n",
       "  'Doe',\n",
       "  'swarme',\n",
       "  'vpon',\n",
       "  'him',\n",
       "  ')',\n",
       "  'from',\n",
       "  'the',\n",
       "  'Westerne',\n",
       "  'Isles',\n",
       "  'Of',\n",
       "  'Kernes',\n",
       "  'and',\n",
       "  'Gallowgrosses',\n",
       "  'is',\n",
       "  'supply',\n",
       "  \"'\",\n",
       "  'd',\n",
       "  ',',\n",
       "  'And',\n",
       "  'Fortune',\n",
       "  'on',\n",
       "  'his',\n",
       "  'damned',\n",
       "  'Quarry',\n",
       "  'smiling',\n",
       "  ',',\n",
       "  'Shew',\n",
       "  \"'\",\n",
       "  'd',\n",
       "  'like',\n",
       "  'a',\n",
       "  'Rebells',\n",
       "  'Whore',\n",
       "  ':',\n",
       "  'but',\n",
       "  'all',\n",
       "  \"'\",\n",
       "  's',\n",
       "  'too',\n",
       "  'weake',\n",
       "  ':',\n",
       "  'For',\n",
       "  'braue',\n",
       "  'Macbeth',\n",
       "  '(',\n",
       "  'well',\n",
       "  'hee',\n",
       "  'deserues',\n",
       "  'that',\n",
       "  'Name',\n",
       "  ')',\n",
       "  'Disdayning',\n",
       "  'Fortune',\n",
       "  ',',\n",
       "  'with',\n",
       "  'his',\n",
       "  'brandisht',\n",
       "  'Steele',\n",
       "  ',',\n",
       "  'Which',\n",
       "  'smoak',\n",
       "  \"'\",\n",
       "  'd',\n",
       "  'with',\n",
       "  'bloody',\n",
       "  'execution',\n",
       "  '(',\n",
       "  'Like',\n",
       "  'Valours',\n",
       "  'Minion',\n",
       "  ')',\n",
       "  'caru',\n",
       "  \"'\",\n",
       "  'd',\n",
       "  'out',\n",
       "  'his',\n",
       "  'passage',\n",
       "  ',',\n",
       "  'Till',\n",
       "  'hee',\n",
       "  'fac',\n",
       "  \"'\",\n",
       "  'd',\n",
       "  'the',\n",
       "  'Slaue',\n",
       "  ':',\n",
       "  'Which',\n",
       "  'neu',\n",
       "  \"'\",\n",
       "  'r',\n",
       "  'shooke',\n",
       "  'hands',\n",
       "  ',',\n",
       "  'nor',\n",
       "  'bad',\n",
       "  'farwell',\n",
       "  'to',\n",
       "  'him',\n",
       "  ',',\n",
       "  'Till',\n",
       "  'he',\n",
       "  'vnseam',\n",
       "  \"'\",\n",
       "  'd',\n",
       "  'him',\n",
       "  'from',\n",
       "  'the',\n",
       "  'Naue',\n",
       "  'toth',\n",
       "  \"'\",\n",
       "  'Chops',\n",
       "  ',',\n",
       "  'And',\n",
       "  'fix',\n",
       "  \"'\",\n",
       "  'd',\n",
       "  'his',\n",
       "  'Head',\n",
       "  'vpon',\n",
       "  'our',\n",
       "  'Battlements']]"
      ]
     },
     "execution_count": 20,
     "metadata": {},
     "output_type": "execute_result"
    }
   ],
   "source": [
    "[s for s in macbeth_sentences if len(s) == longest_len]"
   ]
  },
  {
   "cell_type": "markdown",
   "id": "passing-brass",
   "metadata": {},
   "source": [
    "## Web and Chat Text\n",
    "\n",
    "How to work with less formal content"
   ]
  },
  {
   "cell_type": "code",
   "execution_count": 1,
   "id": "genetic-frost",
   "metadata": {},
   "outputs": [],
   "source": [
    "from nltk.corpus import webtext"
   ]
  },
  {
   "cell_type": "code",
   "execution_count": 2,
   "id": "swedish-humidity",
   "metadata": {},
   "outputs": [
    {
     "name": "stdout",
     "output_type": "stream",
     "text": [
      "firefox.txt Cookie Manager: \"Don't allow sites that set removed cookies to se ...\n",
      "grail.txt SCENE 1: [wind] [clop clop clop] \n",
      "KING ARTHUR: Whoa there!  [clop ...\n",
      "overheard.txt White guy: So, do you have any plans for this evening?\n",
      "Asian girl ...\n",
      "pirates.txt PIRATES OF THE CARRIBEAN: DEAD MAN'S CHEST, by Ted Elliott & Terr ...\n",
      "singles.txt 25 SEXY MALE, seeks attrac older single lady, for discreet encoun ...\n",
      "wine.txt Lovely delicate, fragrant Rhone wine. Polished leather and strawb ...\n"
     ]
    }
   ],
   "source": [
    "for fileid in webtext.fileids():\n",
    "    print(fileid, webtext.raw(fileid)[:65],'...')"
   ]
  },
  {
   "cell_type": "code",
   "execution_count": 3,
   "id": "explicit-impact",
   "metadata": {},
   "outputs": [],
   "source": [
    "from nltk.corpus import nps_chat"
   ]
  },
  {
   "cell_type": "code",
   "execution_count": 4,
   "id": "taken-runner",
   "metadata": {},
   "outputs": [],
   "source": [
    "chatroom = nps_chat.posts('10-19-20s_706posts.xml')"
   ]
  },
  {
   "cell_type": "code",
   "execution_count": 17,
   "id": "disciplinary-crossing",
   "metadata": {},
   "outputs": [
    {
     "data": {
      "text/plain": [
       "['A', 'gold', 'jeep', 'charm', 'for', 'my', 'necklace', 'U30']"
      ]
     },
     "execution_count": 17,
     "metadata": {},
     "output_type": "execute_result"
    }
   ],
   "source": [
    "[s for s in chatroom if len(s) > 7][20]"
   ]
  },
  {
   "cell_type": "markdown",
   "id": "exotic-romance",
   "metadata": {},
   "source": [
    "## Brown Corpus \n",
    "\n",
    "1961 - first million word corpus of English with text from 500 sources categorized by genre. Good for studying systematic differences betweed genres (***stylistics***)"
   ]
  },
  {
   "cell_type": "markdown",
   "id": "received-brush",
   "metadata": {},
   "source": [
    "![](brown_corpus.png)"
   ]
  },
  {
   "cell_type": "code",
   "execution_count": 18,
   "id": "local-shipping",
   "metadata": {},
   "outputs": [],
   "source": [
    "from nltk.corpus import brown"
   ]
  },
  {
   "cell_type": "code",
   "execution_count": 19,
   "id": "floral-bones",
   "metadata": {},
   "outputs": [
    {
     "data": {
      "text/plain": [
       "['adventure',\n",
       " 'belles_lettres',\n",
       " 'editorial',\n",
       " 'fiction',\n",
       " 'government',\n",
       " 'hobbies',\n",
       " 'humor',\n",
       " 'learned',\n",
       " 'lore',\n",
       " 'mystery',\n",
       " 'news',\n",
       " 'religion',\n",
       " 'reviews',\n",
       " 'romance',\n",
       " 'science_fiction']"
      ]
     },
     "execution_count": 19,
     "metadata": {},
     "output_type": "execute_result"
    }
   ],
   "source": [
    "brown.categories()"
   ]
  },
  {
   "cell_type": "code",
   "execution_count": 20,
   "id": "framed-transsexual",
   "metadata": {},
   "outputs": [
    {
     "data": {
      "text/plain": [
       "['The', 'Fulton', 'County', 'Grand', 'Jury', 'said', ...]"
      ]
     },
     "execution_count": 20,
     "metadata": {},
     "output_type": "execute_result"
    }
   ],
   "source": [
    "brown.words(categories='news')"
   ]
  },
  {
   "cell_type": "code",
   "execution_count": 21,
   "id": "printable-pound",
   "metadata": {},
   "outputs": [
    {
     "data": {
      "text/plain": [
       "['Does', 'our', 'society', 'have', 'a', 'runaway', ',', ...]"
      ]
     },
     "execution_count": 21,
     "metadata": {},
     "output_type": "execute_result"
    }
   ],
   "source": [
    "brown.words(fileids=['cg22'])"
   ]
  },
  {
   "cell_type": "code",
   "execution_count": 22,
   "id": "sealed-opinion",
   "metadata": {},
   "outputs": [
    {
     "data": {
      "text/plain": [
       "[['The', 'Fulton', 'County', 'Grand', 'Jury', 'said', 'Friday', 'an', 'investigation', 'of', \"Atlanta's\", 'recent', 'primary', 'election', 'produced', '``', 'no', 'evidence', \"''\", 'that', 'any', 'irregularities', 'took', 'place', '.'], ['The', 'jury', 'further', 'said', 'in', 'term-end', 'presentments', 'that', 'the', 'City', 'Executive', 'Committee', ',', 'which', 'had', 'over-all', 'charge', 'of', 'the', 'election', ',', '``', 'deserves', 'the', 'praise', 'and', 'thanks', 'of', 'the', 'City', 'of', 'Atlanta', \"''\", 'for', 'the', 'manner', 'in', 'which', 'the', 'election', 'was', 'conducted', '.'], ...]"
      ]
     },
     "execution_count": 22,
     "metadata": {},
     "output_type": "execute_result"
    }
   ],
   "source": [
    "brown.sents(categories=['news','editorial','reviews'])"
   ]
  },
  {
   "cell_type": "markdown",
   "id": "irish-indication",
   "metadata": {},
   "source": [
    "Comparing genres using modal verbs"
   ]
  },
  {
   "cell_type": "code",
   "execution_count": 23,
   "id": "copyrighted-sunglasses",
   "metadata": {},
   "outputs": [],
   "source": [
    "news_text = brown.words(categories='news')"
   ]
  },
  {
   "cell_type": "code",
   "execution_count": 26,
   "id": "cordless-acoustic",
   "metadata": {},
   "outputs": [],
   "source": [
    "fdist = nltk.FreqDist([w.lower() for w in news_text])"
   ]
  },
  {
   "cell_type": "code",
   "execution_count": 27,
   "id": "drawn-beatles",
   "metadata": {},
   "outputs": [],
   "source": [
    "modals = ['can','could','may','might','must','will']"
   ]
  },
  {
   "cell_type": "code",
   "execution_count": 28,
   "id": "driving-playback",
   "metadata": {},
   "outputs": [
    {
     "name": "stdout",
     "output_type": "stream",
     "text": [
      "can: 94\n",
      "could: 87\n",
      "may: 93\n",
      "might: 38\n",
      "must: 53\n",
      "will: 389\n"
     ]
    }
   ],
   "source": [
    "for m in modals:\n",
    "    print(m + \":\",fdist[m])"
   ]
  },
  {
   "cell_type": "markdown",
   "id": "flexible-weekly",
   "metadata": {},
   "source": [
    "Now obtain counts for each genre of interest using NLTK's conditional fequency distribution."
   ]
  },
  {
   "cell_type": "code",
   "execution_count": 29,
   "id": "hydraulic-implement",
   "metadata": {},
   "outputs": [],
   "source": [
    "cfd = nltk.ConditionalFreqDist(\n",
    "            (genre, word)\n",
    "            for genre in brown.categories()\n",
    "            for word in brown.words(categories=genre))"
   ]
  },
  {
   "cell_type": "code",
   "execution_count": 30,
   "id": "comprehensive-tower",
   "metadata": {},
   "outputs": [],
   "source": [
    "genres = ['news','religion','hobbies','science_fiction','romance','humor']"
   ]
  },
  {
   "cell_type": "code",
   "execution_count": 31,
   "id": "danish-appeal",
   "metadata": {},
   "outputs": [],
   "source": [
    "modals = ['can','could','may','might','must','will']"
   ]
  },
  {
   "cell_type": "code",
   "execution_count": 32,
   "id": "detailed-liechtenstein",
   "metadata": {},
   "outputs": [
    {
     "name": "stdout",
     "output_type": "stream",
     "text": [
      "                  can could   may might  must  will \n",
      "           news    93    86    66    38    50   389 \n",
      "       religion    82    59    78    12    54    71 \n",
      "        hobbies   268    58   131    22    83   264 \n",
      "science_fiction    16    49     4    12     8    16 \n",
      "        romance    74   193    11    51    45    43 \n",
      "          humor    16    30     8     8     9    13 \n"
     ]
    }
   ],
   "source": [
    "cfd.tabulate(conditions=genres, samples=modals)"
   ]
  },
  {
   "cell_type": "markdown",
   "id": "proper-simple",
   "metadata": {},
   "source": [
    "## Reuters Corpus\n",
    "\n",
    "10,788 news documents witha total of 1.3 million words classified into  90 topics grouped into training and testing sets."
   ]
  },
  {
   "cell_type": "code",
   "execution_count": 33,
   "id": "miniature-cycle",
   "metadata": {},
   "outputs": [],
   "source": [
    "from nltk.corpus import reuters"
   ]
  },
  {
   "cell_type": "code",
   "execution_count": 35,
   "id": "manufactured-perfume",
   "metadata": {},
   "outputs": [
    {
     "data": {
      "text/plain": [
       "['test/14826',\n",
       " 'test/14828',\n",
       " 'test/14829',\n",
       " 'test/14832',\n",
       " 'test/14833',\n",
       " 'test/14839',\n",
       " 'test/14840',\n",
       " 'test/14841',\n",
       " 'test/14842',\n",
       " 'test/14843']"
      ]
     },
     "execution_count": 35,
     "metadata": {},
     "output_type": "execute_result"
    }
   ],
   "source": [
    "reuters.fileids()[:10]"
   ]
  },
  {
   "cell_type": "code",
   "execution_count": 41,
   "id": "alleged-terry",
   "metadata": {},
   "outputs": [
    {
     "data": {
      "text/plain": [
       "['acq',\n",
       " 'alum',\n",
       " 'barley',\n",
       " 'bop',\n",
       " 'carcass',\n",
       " 'castor-oil',\n",
       " 'cocoa',\n",
       " 'coconut',\n",
       " 'coconut-oil',\n",
       " 'coffee']"
      ]
     },
     "execution_count": 41,
     "metadata": {},
     "output_type": "execute_result"
    }
   ],
   "source": [
    "reuters.categories()[:10]"
   ]
  },
  {
   "cell_type": "markdown",
   "id": "entertaining-fundamental",
   "metadata": {},
   "source": [
    "Categories are overlapping for this corpus."
   ]
  },
  {
   "cell_type": "code",
   "execution_count": 37,
   "id": "skilled-aspect",
   "metadata": {},
   "outputs": [
    {
     "data": {
      "text/plain": [
       "['barley', 'corn', 'grain', 'wheat']"
      ]
     },
     "execution_count": 37,
     "metadata": {},
     "output_type": "execute_result"
    }
   ],
   "source": [
    "reuters.categories('training/9865')"
   ]
  },
  {
   "cell_type": "code",
   "execution_count": 38,
   "id": "boolean-civilian",
   "metadata": {},
   "outputs": [
    {
     "data": {
      "text/plain": [
       "['barley', 'corn', 'grain', 'money-fx', 'wheat']"
      ]
     },
     "execution_count": 38,
     "metadata": {},
     "output_type": "execute_result"
    }
   ],
   "source": [
    "reuters.categories(['training/9865','training/9880'])"
   ]
  },
  {
   "cell_type": "code",
   "execution_count": 40,
   "id": "gorgeous-paris",
   "metadata": {},
   "outputs": [
    {
     "data": {
      "text/plain": [
       "['test/15618',\n",
       " 'test/15649',\n",
       " 'test/15676',\n",
       " 'test/15728',\n",
       " 'test/15871',\n",
       " 'test/15875',\n",
       " 'test/15952',\n",
       " 'test/17767',\n",
       " 'test/17769',\n",
       " 'test/18024']"
      ]
     },
     "execution_count": 40,
     "metadata": {},
     "output_type": "execute_result"
    }
   ],
   "source": [
    "reuters.fileids('barley')[:10]"
   ]
  },
  {
   "cell_type": "code",
   "execution_count": 43,
   "id": "forced-family",
   "metadata": {},
   "outputs": [
    {
     "data": {
      "text/plain": [
       "['test/14832',\n",
       " 'test/14858',\n",
       " 'test/15033',\n",
       " 'test/15043',\n",
       " 'test/15106',\n",
       " 'test/15287',\n",
       " 'test/15341',\n",
       " 'test/15618',\n",
       " 'test/15648',\n",
       " 'test/15649']"
      ]
     },
     "execution_count": 43,
     "metadata": {},
     "output_type": "execute_result"
    }
   ],
   "source": [
    "reuters.fileids(['barley','corn'])[:10]"
   ]
  },
  {
   "cell_type": "code",
   "execution_count": 44,
   "id": "specific-convenience",
   "metadata": {},
   "outputs": [
    {
     "data": {
      "text/plain": [
       "['FRENCH',\n",
       " 'FREE',\n",
       " 'MARKET',\n",
       " 'CEREAL',\n",
       " 'EXPORT',\n",
       " 'BIDS',\n",
       " 'DETAILED',\n",
       " 'French',\n",
       " 'operators',\n",
       " 'have',\n",
       " 'requested',\n",
       " 'licences',\n",
       " 'to',\n",
       " 'export']"
      ]
     },
     "execution_count": 44,
     "metadata": {},
     "output_type": "execute_result"
    }
   ],
   "source": [
    "reuters.words('training/9865')[:14]"
   ]
  },
  {
   "cell_type": "code",
   "execution_count": 45,
   "id": "intensive-tournament",
   "metadata": {},
   "outputs": [
    {
     "data": {
      "text/plain": [
       "['FRENCH', 'FREE', 'MARKET', 'CEREAL', 'EXPORT', ...]"
      ]
     },
     "execution_count": 45,
     "metadata": {},
     "output_type": "execute_result"
    }
   ],
   "source": [
    "reuters.words(['training/9865','training/9880'])"
   ]
  },
  {
   "cell_type": "code",
   "execution_count": 46,
   "id": "humanitarian-turner",
   "metadata": {},
   "outputs": [
    {
     "data": {
      "text/plain": [
       "['FRENCH', 'FREE', 'MARKET', 'CEREAL', 'EXPORT', ...]"
      ]
     },
     "execution_count": 46,
     "metadata": {},
     "output_type": "execute_result"
    }
   ],
   "source": [
    "reuters.words(categories='barley')"
   ]
  },
  {
   "cell_type": "code",
   "execution_count": 47,
   "id": "cosmetic-cooperative",
   "metadata": {},
   "outputs": [
    {
     "data": {
      "text/plain": [
       "['THAI', 'TRADE', 'DEFICIT', 'WIDENS', 'IN', 'FIRST', ...]"
      ]
     },
     "execution_count": 47,
     "metadata": {},
     "output_type": "execute_result"
    }
   ],
   "source": [
    "reuters.words(categories=['barley','corn'])"
   ]
  },
  {
   "cell_type": "markdown",
   "id": "affiliated-daniel",
   "metadata": {},
   "source": [
    "## Inaugural Address Corpus"
   ]
  },
  {
   "cell_type": "code",
   "execution_count": 48,
   "id": "human-rotation",
   "metadata": {},
   "outputs": [],
   "source": [
    "from nltk.corpus import inaugural"
   ]
  },
  {
   "cell_type": "code",
   "execution_count": 49,
   "id": "organizational-benchmark",
   "metadata": {},
   "outputs": [
    {
     "data": {
      "text/plain": [
       "['1789-Washington.txt',\n",
       " '1793-Washington.txt',\n",
       " '1797-Adams.txt',\n",
       " '1801-Jefferson.txt',\n",
       " '1805-Jefferson.txt',\n",
       " '1809-Madison.txt',\n",
       " '1813-Madison.txt',\n",
       " '1817-Monroe.txt',\n",
       " '1821-Monroe.txt',\n",
       " '1825-Adams.txt',\n",
       " '1829-Jackson.txt',\n",
       " '1833-Jackson.txt',\n",
       " '1837-VanBuren.txt',\n",
       " '1841-Harrison.txt',\n",
       " '1845-Polk.txt',\n",
       " '1849-Taylor.txt',\n",
       " '1853-Pierce.txt',\n",
       " '1857-Buchanan.txt',\n",
       " '1861-Lincoln.txt',\n",
       " '1865-Lincoln.txt',\n",
       " '1869-Grant.txt',\n",
       " '1873-Grant.txt',\n",
       " '1877-Hayes.txt',\n",
       " '1881-Garfield.txt',\n",
       " '1885-Cleveland.txt',\n",
       " '1889-Harrison.txt',\n",
       " '1893-Cleveland.txt',\n",
       " '1897-McKinley.txt',\n",
       " '1901-McKinley.txt',\n",
       " '1905-Roosevelt.txt',\n",
       " '1909-Taft.txt',\n",
       " '1913-Wilson.txt',\n",
       " '1917-Wilson.txt',\n",
       " '1921-Harding.txt',\n",
       " '1925-Coolidge.txt',\n",
       " '1929-Hoover.txt',\n",
       " '1933-Roosevelt.txt',\n",
       " '1937-Roosevelt.txt',\n",
       " '1941-Roosevelt.txt',\n",
       " '1945-Roosevelt.txt',\n",
       " '1949-Truman.txt',\n",
       " '1953-Eisenhower.txt',\n",
       " '1957-Eisenhower.txt',\n",
       " '1961-Kennedy.txt',\n",
       " '1965-Johnson.txt',\n",
       " '1969-Nixon.txt',\n",
       " '1973-Nixon.txt',\n",
       " '1977-Carter.txt',\n",
       " '1981-Reagan.txt',\n",
       " '1985-Reagan.txt',\n",
       " '1989-Bush.txt',\n",
       " '1993-Clinton.txt',\n",
       " '1997-Clinton.txt',\n",
       " '2001-Bush.txt',\n",
       " '2005-Bush.txt',\n",
       " '2009-Obama.txt',\n",
       " '2013-Obama.txt',\n",
       " '2017-Trump.txt']"
      ]
     },
     "execution_count": 49,
     "metadata": {},
     "output_type": "execute_result"
    }
   ],
   "source": [
    "inaugural.fileids()"
   ]
  },
  {
   "cell_type": "code",
   "execution_count": 50,
   "id": "harmful-river",
   "metadata": {},
   "outputs": [
    {
     "data": {
      "text/plain": [
       "['1789',\n",
       " '1793',\n",
       " '1797',\n",
       " '1801',\n",
       " '1805',\n",
       " '1809',\n",
       " '1813',\n",
       " '1817',\n",
       " '1821',\n",
       " '1825',\n",
       " '1829',\n",
       " '1833',\n",
       " '1837',\n",
       " '1841',\n",
       " '1845',\n",
       " '1849',\n",
       " '1853',\n",
       " '1857',\n",
       " '1861',\n",
       " '1865',\n",
       " '1869',\n",
       " '1873',\n",
       " '1877',\n",
       " '1881',\n",
       " '1885',\n",
       " '1889',\n",
       " '1893',\n",
       " '1897',\n",
       " '1901',\n",
       " '1905',\n",
       " '1909',\n",
       " '1913',\n",
       " '1917',\n",
       " '1921',\n",
       " '1925',\n",
       " '1929',\n",
       " '1933',\n",
       " '1937',\n",
       " '1941',\n",
       " '1945',\n",
       " '1949',\n",
       " '1953',\n",
       " '1957',\n",
       " '1961',\n",
       " '1965',\n",
       " '1969',\n",
       " '1973',\n",
       " '1977',\n",
       " '1981',\n",
       " '1985',\n",
       " '1989',\n",
       " '1993',\n",
       " '1997',\n",
       " '2001',\n",
       " '2005',\n",
       " '2009',\n",
       " '2013',\n",
       " '2017']"
      ]
     },
     "execution_count": 50,
     "metadata": {},
     "output_type": "execute_result"
    }
   ],
   "source": [
    "[fileid[:4] for fileid in inaugural.fileids()]"
   ]
  },
  {
   "cell_type": "markdown",
   "id": "intense-mongolia",
   "metadata": {},
   "source": [
    "The words America and citizen over time."
   ]
  },
  {
   "cell_type": "code",
   "execution_count": 52,
   "id": "lucky-ceremony",
   "metadata": {},
   "outputs": [],
   "source": [
    "cfd = nltk.ConditionalFreqDist(\n",
    "            (target, fileid[:4])\n",
    "            for fileid in inaugural.fileids()\n",
    "            for w in inaugural.words(fileid)\n",
    "            for target in ['america','citizen']\n",
    "            if w.lower().startswith(target))"
   ]
  },
  {
   "cell_type": "code",
   "execution_count": 54,
   "id": "beautiful-episode",
   "metadata": {},
   "outputs": [],
   "source": [
    "import matplotlib.pyplot as plt"
   ]
  },
  {
   "cell_type": "code",
   "execution_count": 57,
   "id": "neither-thunder",
   "metadata": {},
   "outputs": [
    {
     "data": {
      "image/png": "[encoded data removed]",
      "text/plain": [
       "<Figure size 1080x720 with 1 Axes>"
      ]
     },
     "metadata": {
      "needs_background": "light"
     },
     "output_type": "display_data"
    },
    {
     "data": {
      "text/plain": [
       "<Figure size 432x288 with 0 Axes>"
      ]
     },
     "metadata": {},
     "output_type": "display_data"
    }
   ],
   "source": [
    "plt.figure(figsize=(15,10))\n",
    "cfd.plot()\n",
    "plt.tight_layout()"
   ]
  },
  {
   "cell_type": "markdown",
   "id": "mechanical-raleigh",
   "metadata": {},
   "source": [
    "![](basic_corpus_methods.png)"
   ]
  },
  {
   "cell_type": "markdown",
   "id": "operating-right",
   "metadata": {},
   "source": [
    "## Loading A New Corpus\n",
    "\n",
    "From a text file"
   ]
  },
  {
   "cell_type": "code",
   "execution_count": 58,
   "id": "typical-academy",
   "metadata": {},
   "outputs": [],
   "source": [
    "from nltk.corpus import PlaintextCorpusReader"
   ]
  },
  {
   "cell_type": "code",
   "execution_count": 59,
   "id": "moral-fitness",
   "metadata": {},
   "outputs": [],
   "source": [
    "corpus_root = ''"
   ]
  },
  {
   "cell_type": "code",
   "execution_count": 72,
   "id": "ordinary-bearing",
   "metadata": {},
   "outputs": [],
   "source": [
    "wordlists = PlaintextCorpusReader(corpus_root, 'test.txt')"
   ]
  },
  {
   "cell_type": "code",
   "execution_count": 73,
   "id": "amino-ethernet",
   "metadata": {},
   "outputs": [
    {
     "data": {
      "text/plain": [
       "['test.txt']"
      ]
     },
     "execution_count": 73,
     "metadata": {},
     "output_type": "execute_result"
    }
   ],
   "source": [
    "wordlists.fileids()"
   ]
  },
  {
   "cell_type": "code",
   "execution_count": 74,
   "id": "gentle-cycle",
   "metadata": {},
   "outputs": [
    {
     "data": {
      "text/plain": [
       "['This', 'is', 'a', 'sample', 'text', 'file', 'to', ...]"
      ]
     },
     "execution_count": 74,
     "metadata": {},
     "output_type": "execute_result"
    }
   ],
   "source": [
    "wordlists.words('test.txt')"
   ]
  },
  {
   "cell_type": "markdown",
   "id": "danish-listing",
   "metadata": {},
   "source": [
    "## Counting Words by Genre"
   ]
  },
  {
   "cell_type": "code",
   "execution_count": 75,
   "id": "younger-rendering",
   "metadata": {},
   "outputs": [],
   "source": [
    "cdf = nltk.ConditionalFreqDist(\n",
    "            (genre, word)\n",
    "            for genre in brown.categories()\n",
    "            for word in brown.words(categories=genre))"
   ]
  },
  {
   "cell_type": "markdown",
   "id": "adjustable-senior",
   "metadata": {},
   "source": [
    "**Breakdown**"
   ]
  },
  {
   "cell_type": "code",
   "execution_count": 76,
   "id": "protecting-sensitivity",
   "metadata": {},
   "outputs": [],
   "source": [
    "genre_word = [(genre,word)\n",
    "             for genre in ['news','romance']\n",
    "             for word in brown.words(categories=genre)]"
   ]
  },
  {
   "cell_type": "code",
   "execution_count": 78,
   "id": "becoming-porcelain",
   "metadata": {
    "scrolled": true
   },
   "outputs": [
    {
     "data": {
      "text/plain": [
       "[('news', 'The'),\n",
       " ('news', 'Fulton'),\n",
       " ('news', 'County'),\n",
       " ('news', 'Grand'),\n",
       " ('news', 'Jury'),\n",
       " ('news', 'said'),\n",
       " ('news', 'Friday'),\n",
       " ('news', 'an'),\n",
       " ('news', 'investigation'),\n",
       " ('news', 'of')]"
      ]
     },
     "execution_count": 78,
     "metadata": {},
     "output_type": "execute_result"
    }
   ],
   "source": [
    "genre_word[:10]"
   ]
  },
  {
   "cell_type": "code",
   "execution_count": 80,
   "id": "liable-verse",
   "metadata": {},
   "outputs": [
    {
     "data": {
      "text/plain": [
       "[('romance', 'Washington'),\n",
       " ('romance', 'episode'),\n",
       " ('romance', \"''\"),\n",
       " ('romance', '.'),\n",
       " ('romance', '``'),\n",
       " ('romance', \"I'm\"),\n",
       " ('romance', 'afraid'),\n",
       " ('romance', 'not'),\n",
       " ('romance', \"''\"),\n",
       " ('romance', '.')]"
      ]
     },
     "execution_count": 80,
     "metadata": {},
     "output_type": "execute_result"
    }
   ],
   "source": [
    "genre_word[-10:]"
   ]
  },
  {
   "cell_type": "code",
   "execution_count": 79,
   "id": "perceived-visit",
   "metadata": {},
   "outputs": [
    {
     "data": {
      "text/plain": [
       "170576"
      ]
     },
     "execution_count": 79,
     "metadata": {},
     "output_type": "execute_result"
    }
   ],
   "source": [
    "len(genre_word)"
   ]
  },
  {
   "cell_type": "markdown",
   "id": "constant-clinic",
   "metadata": {},
   "source": [
    "This list is used to create the conditional frequency distribution."
   ]
  },
  {
   "cell_type": "code",
   "execution_count": 81,
   "id": "relevant-empire",
   "metadata": {},
   "outputs": [],
   "source": [
    "cfd = nltk.ConditionalFreqDist(genre_word)"
   ]
  },
  {
   "cell_type": "code",
   "execution_count": 82,
   "id": "conditional-hawaiian",
   "metadata": {},
   "outputs": [
    {
     "data": {
      "text/plain": [
       "<ConditionalFreqDist with 2 conditions>"
      ]
     },
     "execution_count": 82,
     "metadata": {},
     "output_type": "execute_result"
    }
   ],
   "source": [
    "cfd"
   ]
  },
  {
   "cell_type": "code",
   "execution_count": 84,
   "id": "wired-milwaukee",
   "metadata": {},
   "outputs": [
    {
     "data": {
      "text/plain": [
       "['news', 'romance']"
      ]
     },
     "execution_count": 84,
     "metadata": {},
     "output_type": "execute_result"
    }
   ],
   "source": [
    "cfd.conditions()"
   ]
  },
  {
   "cell_type": "markdown",
   "id": "increasing-display",
   "metadata": {},
   "source": [
    "**Plotting and Tabulating**"
   ]
  },
  {
   "cell_type": "code",
   "execution_count": 85,
   "id": "studied-belarus",
   "metadata": {},
   "outputs": [],
   "source": [
    "from nltk.corpus import inaugural"
   ]
  },
  {
   "cell_type": "code",
   "execution_count": 89,
   "id": "unknown-palestine",
   "metadata": {},
   "outputs": [],
   "source": [
    "cfd = nltk.ConditionalFreqDist(\n",
    "            (target, fileid[:4])\n",
    "            for fileid in inaugural.fileids()\n",
    "            for w in inaugural.words(fileid)\n",
    "            for target in ['america','citizen']\n",
    "            if w.lower().startswith(target))"
   ]
  },
  {
   "cell_type": "code",
   "execution_count": 90,
   "id": "wooden-daisy",
   "metadata": {},
   "outputs": [
    {
     "data": {
      "image/png": "[encoded data removed]",
      "text/plain": [
       "<Figure size 432x288 with 1 Axes>"
      ]
     },
     "metadata": {
      "needs_background": "light"
     },
     "output_type": "display_data"
    },
    {
     "data": {
      "text/plain": [
       "<AxesSubplot:xlabel='Samples', ylabel='Counts'>"
      ]
     },
     "execution_count": 90,
     "metadata": {},
     "output_type": "execute_result"
    }
   ],
   "source": [
    "cfd.plot()"
   ]
  },
  {
   "cell_type": "markdown",
   "id": "recent-circle",
   "metadata": {},
   "source": [
    "Conditioning on the name of the language."
   ]
  },
  {
   "cell_type": "code",
   "execution_count": 92,
   "id": "interesting-deficit",
   "metadata": {},
   "outputs": [],
   "source": [
    "from nltk.corpus import udhr"
   ]
  },
  {
   "cell_type": "code",
   "execution_count": 93,
   "id": "binding-logistics",
   "metadata": {},
   "outputs": [],
   "source": [
    "languages = ['Chickasaw','English','German_Deutsch',\n",
    "             'Greenlandic_Inuktikut','Hungarian_Magyar','Ibibio_Efik']"
   ]
  },
  {
   "cell_type": "code",
   "execution_count": 95,
   "id": "swiss-assist",
   "metadata": {},
   "outputs": [],
   "source": [
    "cfd = nltk.ConditionalFreqDist(\n",
    "            (lang, len(word))\n",
    "            for lang in languages\n",
    "            for word in udhr.words(lang + '-Latin1'))"
   ]
  },
  {
   "cell_type": "code",
   "execution_count": 97,
   "id": "different-scout",
   "metadata": {},
   "outputs": [
    {
     "name": "stdout",
     "output_type": "stream",
     "text": [
      "                  0    1    2    3    4    5    6    7    8    9 \n",
      "       English    0  185  525  883  997 1166 1283 1440 1558 1638 \n",
      "German_Deutsch    0  171  263  614  717  894 1013 1110 1213 1275 \n"
     ]
    }
   ],
   "source": [
    "cfd.tabulate(conditions = ['English','German_Deutsch'],\n",
    "            samples=range(10), cumulative = True)"
   ]
  },
  {
   "cell_type": "markdown",
   "id": "pursuant-effectiveness",
   "metadata": {},
   "source": [
    "## Generating Random Text with Bigrams"
   ]
  },
  {
   "cell_type": "code",
   "execution_count": 98,
   "id": "acting-database",
   "metadata": {},
   "outputs": [],
   "source": [
    "sent = ['In','the','beginning','God','created','the','heaven',\n",
    "       'and','the','earth','.']"
   ]
  },
  {
   "cell_type": "code",
   "execution_count": 100,
   "id": "about-memorial",
   "metadata": {},
   "outputs": [
    {
     "data": {
      "text/plain": [
       "[('In', 'the'),\n",
       " ('the', 'beginning'),\n",
       " ('beginning', 'God'),\n",
       " ('God', 'created'),\n",
       " ('created', 'the'),\n",
       " ('the', 'heaven'),\n",
       " ('heaven', 'and'),\n",
       " ('and', 'the'),\n",
       " ('the', 'earth'),\n",
       " ('earth', '.')]"
      ]
     },
     "execution_count": 100,
     "metadata": {},
     "output_type": "execute_result"
    }
   ],
   "source": [
    "list(nltk.bigrams(sent))"
   ]
  },
  {
   "cell_type": "markdown",
   "id": "emerging-break",
   "metadata": {},
   "source": [
    "Each word is treated as a condition "
   ]
  },
  {
   "cell_type": "code",
   "execution_count": 102,
   "id": "metropolitan-balloon",
   "metadata": {},
   "outputs": [],
   "source": [
    "def generate_model(cfdist, word, num=15):\n",
    "    for i in range(num):\n",
    "        print(word)\n",
    "        word = cfdist[word].max()"
   ]
  },
  {
   "cell_type": "code",
   "execution_count": 103,
   "id": "breathing-stack",
   "metadata": {},
   "outputs": [],
   "source": [
    "text = nltk.corpus.genesis.words('english-kjv.txt')"
   ]
  },
  {
   "cell_type": "code",
   "execution_count": 104,
   "id": "standing-people",
   "metadata": {},
   "outputs": [],
   "source": [
    "bigrams = nltk.bigrams(text)"
   ]
  },
  {
   "cell_type": "code",
   "execution_count": 105,
   "id": "breathing-reference",
   "metadata": {},
   "outputs": [],
   "source": [
    "cfd = nltk.ConditionalFreqDist(bigrams)"
   ]
  },
  {
   "cell_type": "code",
   "execution_count": 106,
   "id": "earned-defense",
   "metadata": {},
   "outputs": [
    {
     "name": "stdout",
     "output_type": "stream",
     "text": [
      "<FreqDist with 6 samples and 16 outcomes>\n"
     ]
    }
   ],
   "source": [
    "print(cfd['living'])"
   ]
  },
  {
   "cell_type": "code",
   "execution_count": 107,
   "id": "confirmed-resolution",
   "metadata": {},
   "outputs": [
    {
     "name": "stdout",
     "output_type": "stream",
     "text": [
      "living\n",
      "creature\n",
      "that\n",
      "he\n",
      "said\n",
      ",\n",
      "and\n",
      "the\n",
      "land\n",
      "of\n",
      "the\n",
      "land\n",
      "of\n",
      "the\n",
      "land\n"
     ]
    }
   ],
   "source": [
    "generate_model(cfd, 'living')"
   ]
  },
  {
   "cell_type": "markdown",
   "id": "fleet-taiwan",
   "metadata": {},
   "source": [
    "![](cfd_methods.png)"
   ]
  },
  {
   "cell_type": "markdown",
   "id": "legislative-emperor",
   "metadata": {},
   "source": [
    "**Lexical diversity score function**"
   ]
  },
  {
   "cell_type": "code",
   "execution_count": 111,
   "id": "relative-parish",
   "metadata": {},
   "outputs": [],
   "source": [
    "def lexical_diversity(my_text_data):\n",
    "    word_count = len(my_text_data)\n",
    "    vocab_size = len(set(my_text_data))\n",
    "    diversity_score = word_count / vocab_size\n",
    "    return diversity_score"
   ]
  },
  {
   "cell_type": "markdown",
   "id": "least-reaction",
   "metadata": {},
   "source": [
    "**Plural function**"
   ]
  },
  {
   "cell_type": "code",
   "execution_count": 114,
   "id": "light-wyoming",
   "metadata": {},
   "outputs": [],
   "source": [
    "def plural(word):\n",
    "    if word.endswith('y'):\n",
    "        return word[:-1] + 'ies'\n",
    "    elif word[-1] in 'sx' or word[-2:] in ['sh','ch']:\n",
    "        return word + 'es'\n",
    "    elif word.endswith('an'):\n",
    "        return word[:-2] + 'en'\n",
    "    else:\n",
    "        return word + 's'"
   ]
  },
  {
   "cell_type": "code",
   "execution_count": 115,
   "id": "institutional-wisdom",
   "metadata": {},
   "outputs": [
    {
     "data": {
      "text/plain": [
       "'fairies'"
      ]
     },
     "execution_count": 115,
     "metadata": {},
     "output_type": "execute_result"
    }
   ],
   "source": [
    "plural('fairy')"
   ]
  },
  {
   "cell_type": "code",
   "execution_count": 117,
   "id": "sublime-heart",
   "metadata": {},
   "outputs": [
    {
     "data": {
      "text/plain": [
       "'women'"
      ]
     },
     "execution_count": 117,
     "metadata": {},
     "output_type": "execute_result"
    }
   ],
   "source": [
    "plural('woman')"
   ]
  },
  {
   "cell_type": "markdown",
   "id": "overall-characteristic",
   "metadata": {},
   "source": [
    "## Lexical Resources\n",
    "\n",
    "Collections of words/or and phrases along with associated information such as part-of-speech and sense definitions. A lexical entry consists of a ***headword*** (known as a ***lemma***)\n",
    "\n",
    "Example (homonyms):\n",
    "\n",
    "**saw**$_1$\\[verb\\],past tense of see.\n",
    "\n",
    "**saw**$_2$\\[verb\\],cutting instrument."
   ]
  },
  {
   "cell_type": "markdown",
   "id": "olympic-think",
   "metadata": {},
   "source": [
    "## Wordlist Corpora\n",
    "\n",
    "Some corpora are nothing more than wordlists.\n",
    "**Words Corpus** is used by some spell checkers."
   ]
  },
  {
   "cell_type": "code",
   "execution_count": 118,
   "id": "prepared-desire",
   "metadata": {},
   "outputs": [],
   "source": [
    "def unusual_words(text):\n",
    "    text_vocab = set(w.lower() for w in text if w.isalpha())\n",
    "    english_vocab = set(w.lower() for w in nltk.corpus.words.words())\n",
    "    unusual = text_vocab.difference(english_vocab)\n",
    "    return sorted(unusual)"
   ]
  },
  {
   "cell_type": "code",
   "execution_count": 120,
   "id": "seventh-virgin",
   "metadata": {},
   "outputs": [
    {
     "data": {
      "text/plain": [
       "['abbeyland',\n",
       " 'abhorred',\n",
       " 'abilities',\n",
       " 'abounded',\n",
       " 'abridgement',\n",
       " 'abused',\n",
       " 'abuses',\n",
       " 'accents',\n",
       " 'accepting',\n",
       " 'accommodations']"
      ]
     },
     "execution_count": 120,
     "metadata": {},
     "output_type": "execute_result"
    }
   ],
   "source": [
    "unusual_words(nltk.corpus.gutenberg.words('austen-sense.txt'))[:10]"
   ]
  },
  {
   "cell_type": "code",
   "execution_count": 122,
   "id": "painted-terminal",
   "metadata": {},
   "outputs": [
    {
     "data": {
      "text/plain": [
       "['aaaaaaaaaaaaaaaaa',\n",
       " 'aaahhhh',\n",
       " 'abortions',\n",
       " 'abou',\n",
       " 'abourted',\n",
       " 'abs',\n",
       " 'ack',\n",
       " 'acros',\n",
       " 'actualy',\n",
       " 'adams']"
      ]
     },
     "execution_count": 122,
     "metadata": {},
     "output_type": "execute_result"
    }
   ],
   "source": [
    "unusual_words(nltk.corpus.nps_chat.words())[:10]"
   ]
  },
  {
   "cell_type": "markdown",
   "id": "cooked-journalist",
   "metadata": {},
   "source": [
    "**Stopwords Corpus** is high-frequency words such as ***the***, ***to***, and ***and***, etc."
   ]
  },
  {
   "cell_type": "code",
   "execution_count": 123,
   "id": "filled-columbia",
   "metadata": {},
   "outputs": [],
   "source": [
    "from nltk.corpus import stopwords"
   ]
  },
  {
   "cell_type": "code",
   "execution_count": 125,
   "id": "earlier-registrar",
   "metadata": {},
   "outputs": [
    {
     "data": {
      "text/plain": [
       "['i', 'me', 'my', 'myself', 'we', 'our', 'ours', 'ourselves', 'you', \"you're\"]"
      ]
     },
     "execution_count": 125,
     "metadata": {},
     "output_type": "execute_result"
    }
   ],
   "source": [
    "stopwords.words('english')[:10]"
   ]
  },
  {
   "cell_type": "markdown",
   "id": "mexican-charleston",
   "metadata": {},
   "source": [
    "**Non-stopword fraction function**"
   ]
  },
  {
   "cell_type": "code",
   "execution_count": 128,
   "id": "catholic-sender",
   "metadata": {},
   "outputs": [],
   "source": [
    "def content_fraction(text):\n",
    "    stopwords = nltk.corpus.stopwords.words('english')\n",
    "    content = [w for w in text if w.lower() not in stopwords]\n",
    "    return len(content) / len(text)"
   ]
  },
  {
   "cell_type": "code",
   "execution_count": 129,
   "id": "missing-seventh",
   "metadata": {},
   "outputs": [
    {
     "data": {
      "text/plain": [
       "0.735240435097661"
      ]
     },
     "execution_count": 129,
     "metadata": {},
     "output_type": "execute_result"
    }
   ],
   "source": [
    "content_fraction(nltk.corpus.reuters.words())"
   ]
  },
  {
   "cell_type": "markdown",
   "id": "accurate-participation",
   "metadata": {},
   "source": [
    "**Puzzle**\n",
    "\\begin{align*}\n",
    "\\text{EGI}\\\\\n",
    "\\text{V}\\textbf{R}\\text{V}\\\\\n",
    "\\text{ONL}\n",
    "\\end{align*}\n",
    "How many words of four or more letters can be made using each letter only once per word and the word must contan the center letter. There must be at least one nine letter word. No plurals ending in s, no forien words, and no proper nouns. (21:good, 32:very good, 42:excellent)"
   ]
  },
  {
   "cell_type": "code",
   "execution_count": 130,
   "id": "identified-visiting",
   "metadata": {},
   "outputs": [],
   "source": [
    "puzzle_letters = nltk.FreqDist('egivrvonl')"
   ]
  },
  {
   "cell_type": "code",
   "execution_count": 131,
   "id": "modular-course",
   "metadata": {},
   "outputs": [],
   "source": [
    "obligatory = 'r'"
   ]
  },
  {
   "cell_type": "code",
   "execution_count": 132,
   "id": "turkish-genius",
   "metadata": {},
   "outputs": [],
   "source": [
    "wordlist = nltk.corpus.words.words()"
   ]
  },
  {
   "cell_type": "code",
   "execution_count": 133,
   "id": "relevant-aruba",
   "metadata": {},
   "outputs": [
    {
     "data": {
      "text/plain": [
       "['glover',\n",
       " 'gorlin',\n",
       " 'govern',\n",
       " 'grovel',\n",
       " 'ignore',\n",
       " 'involver',\n",
       " 'lienor',\n",
       " 'linger',\n",
       " 'longer',\n",
       " 'lovering',\n",
       " 'noiler',\n",
       " 'overling',\n",
       " 'region',\n",
       " 'renvoi',\n",
       " 'revolving',\n",
       " 'ringle',\n",
       " 'roving',\n",
       " 'violer',\n",
       " 'virole']"
      ]
     },
     "execution_count": 133,
     "metadata": {},
     "output_type": "execute_result"
    }
   ],
   "source": [
    "[w for w in wordlist if len(w) >= 6\n",
    "                        and obligatory in w\n",
    "                        and nltk.FreqDist(w) <= puzzle_letters]"
   ]
  },
  {
   "cell_type": "markdown",
   "id": "banner-creator",
   "metadata": {},
   "source": [
    "## Words corpus\n",
    "\n",
    "Contains 8,000 first names categorized by gender."
   ]
  },
  {
   "cell_type": "code",
   "execution_count": 134,
   "id": "fourth-found",
   "metadata": {},
   "outputs": [],
   "source": [
    "names = nltk.corpus.names"
   ]
  },
  {
   "cell_type": "code",
   "execution_count": 135,
   "id": "instrumental-updating",
   "metadata": {},
   "outputs": [
    {
     "data": {
      "text/plain": [
       "['female.txt', 'male.txt']"
      ]
     },
     "execution_count": 135,
     "metadata": {},
     "output_type": "execute_result"
    }
   ],
   "source": [
    "names.fileids()"
   ]
  },
  {
   "cell_type": "code",
   "execution_count": 136,
   "id": "verified-genetics",
   "metadata": {},
   "outputs": [],
   "source": [
    "male_names = names.words('male.txt')"
   ]
  },
  {
   "cell_type": "code",
   "execution_count": 137,
   "id": "referenced-fighter",
   "metadata": {},
   "outputs": [],
   "source": [
    "female_names = names.words('female.txt')"
   ]
  },
  {
   "cell_type": "markdown",
   "id": "current-basics",
   "metadata": {},
   "source": [
    "**Names that are in both gender files**"
   ]
  },
  {
   "cell_type": "code",
   "execution_count": 138,
   "id": "adverse-trick",
   "metadata": {},
   "outputs": [
    {
     "data": {
      "text/plain": [
       "['Abbey',\n",
       " 'Abbie',\n",
       " 'Abby',\n",
       " 'Addie',\n",
       " 'Adrian',\n",
       " 'Adrien',\n",
       " 'Ajay',\n",
       " 'Alex',\n",
       " 'Alexis',\n",
       " 'Alfie',\n",
       " 'Ali',\n",
       " 'Alix',\n",
       " 'Allie',\n",
       " 'Allyn',\n",
       " 'Andie',\n",
       " 'Andrea',\n",
       " 'Andy',\n",
       " 'Angel',\n",
       " 'Angie',\n",
       " 'Ariel',\n",
       " 'Ashley',\n",
       " 'Aubrey',\n",
       " 'Augustine',\n",
       " 'Austin',\n",
       " 'Averil',\n",
       " 'Barrie',\n",
       " 'Barry',\n",
       " 'Beau',\n",
       " 'Bennie',\n",
       " 'Benny',\n",
       " 'Bernie',\n",
       " 'Bert',\n",
       " 'Bertie',\n",
       " 'Bill',\n",
       " 'Billie',\n",
       " 'Billy',\n",
       " 'Blair',\n",
       " 'Blake',\n",
       " 'Bo',\n",
       " 'Bobbie',\n",
       " 'Bobby',\n",
       " 'Brandy',\n",
       " 'Brett',\n",
       " 'Britt',\n",
       " 'Brook',\n",
       " 'Brooke',\n",
       " 'Brooks',\n",
       " 'Bryn',\n",
       " 'Cal',\n",
       " 'Cam',\n",
       " 'Cammy',\n",
       " 'Carey',\n",
       " 'Carlie',\n",
       " 'Carlin',\n",
       " 'Carmine',\n",
       " 'Carroll',\n",
       " 'Cary',\n",
       " 'Caryl',\n",
       " 'Casey',\n",
       " 'Cass',\n",
       " 'Cat',\n",
       " 'Cecil',\n",
       " 'Chad',\n",
       " 'Chris',\n",
       " 'Chrissy',\n",
       " 'Christian',\n",
       " 'Christie',\n",
       " 'Christy',\n",
       " 'Clair',\n",
       " 'Claire',\n",
       " 'Clare',\n",
       " 'Claude',\n",
       " 'Clem',\n",
       " 'Clemmie',\n",
       " 'Cody',\n",
       " 'Connie',\n",
       " 'Constantine',\n",
       " 'Corey',\n",
       " 'Corrie',\n",
       " 'Cory',\n",
       " 'Courtney',\n",
       " 'Cris',\n",
       " 'Daffy',\n",
       " 'Dale',\n",
       " 'Dallas',\n",
       " 'Dana',\n",
       " 'Dani',\n",
       " 'Daniel',\n",
       " 'Dannie',\n",
       " 'Danny',\n",
       " 'Darby',\n",
       " 'Darcy',\n",
       " 'Darryl',\n",
       " 'Daryl',\n",
       " 'Deane',\n",
       " 'Del',\n",
       " 'Dell',\n",
       " 'Demetris',\n",
       " 'Dennie',\n",
       " 'Denny',\n",
       " 'Devin',\n",
       " 'Devon',\n",
       " 'Dion',\n",
       " 'Dionis',\n",
       " 'Dominique',\n",
       " 'Donnie',\n",
       " 'Donny',\n",
       " 'Dorian',\n",
       " 'Dory',\n",
       " 'Drew',\n",
       " 'Eddie',\n",
       " 'Eddy',\n",
       " 'Edie',\n",
       " 'Elisha',\n",
       " 'Emmy',\n",
       " 'Erin',\n",
       " 'Esme',\n",
       " 'Evelyn',\n",
       " 'Felice',\n",
       " 'Fran',\n",
       " 'Francis',\n",
       " 'Frank',\n",
       " 'Frankie',\n",
       " 'Franky',\n",
       " 'Fred',\n",
       " 'Freddie',\n",
       " 'Freddy',\n",
       " 'Gabriel',\n",
       " 'Gabriell',\n",
       " 'Gail',\n",
       " 'Gale',\n",
       " 'Gay',\n",
       " 'Gayle',\n",
       " 'Gene',\n",
       " 'George',\n",
       " 'Georgia',\n",
       " 'Georgie',\n",
       " 'Geri',\n",
       " 'Germaine',\n",
       " 'Gerri',\n",
       " 'Gerry',\n",
       " 'Gill',\n",
       " 'Ginger',\n",
       " 'Glen',\n",
       " 'Glenn',\n",
       " 'Grace',\n",
       " 'Gretchen',\n",
       " 'Gus',\n",
       " 'Haleigh',\n",
       " 'Haley',\n",
       " 'Hannibal',\n",
       " 'Harley',\n",
       " 'Hazel',\n",
       " 'Heath',\n",
       " 'Henrie',\n",
       " 'Hilary',\n",
       " 'Hillary',\n",
       " 'Holly',\n",
       " 'Ike',\n",
       " 'Ikey',\n",
       " 'Ira',\n",
       " 'Isa',\n",
       " 'Isador',\n",
       " 'Isadore',\n",
       " 'Jackie',\n",
       " 'Jaime',\n",
       " 'Jamie',\n",
       " 'Jan',\n",
       " 'Jean',\n",
       " 'Jere',\n",
       " 'Jermaine',\n",
       " 'Jerrie',\n",
       " 'Jerry',\n",
       " 'Jess',\n",
       " 'Jesse',\n",
       " 'Jessie',\n",
       " 'Jo',\n",
       " 'Jodi',\n",
       " 'Jodie',\n",
       " 'Jody',\n",
       " 'Joey',\n",
       " 'Jordan',\n",
       " 'Juanita',\n",
       " 'Jude',\n",
       " 'Judith',\n",
       " 'Judy',\n",
       " 'Julie',\n",
       " 'Justin',\n",
       " 'Karel',\n",
       " 'Kellen',\n",
       " 'Kelley',\n",
       " 'Kelly',\n",
       " 'Kelsey',\n",
       " 'Kerry',\n",
       " 'Kim',\n",
       " 'Kip',\n",
       " 'Kirby',\n",
       " 'Kit',\n",
       " 'Kris',\n",
       " 'Kyle',\n",
       " 'Lane',\n",
       " 'Lanny',\n",
       " 'Lauren',\n",
       " 'Laurie',\n",
       " 'Lee',\n",
       " 'Leigh',\n",
       " 'Leland',\n",
       " 'Lesley',\n",
       " 'Leslie',\n",
       " 'Lin',\n",
       " 'Lind',\n",
       " 'Lindsay',\n",
       " 'Lindsey',\n",
       " 'Lindy',\n",
       " 'Lonnie',\n",
       " 'Loren',\n",
       " 'Lorne',\n",
       " 'Lorrie',\n",
       " 'Lou',\n",
       " 'Luce',\n",
       " 'Lyn',\n",
       " 'Lynn',\n",
       " 'Maddie',\n",
       " 'Maddy',\n",
       " 'Marietta',\n",
       " 'Marion',\n",
       " 'Marlo',\n",
       " 'Martie',\n",
       " 'Marty',\n",
       " 'Mattie',\n",
       " 'Matty',\n",
       " 'Maurise',\n",
       " 'Max',\n",
       " 'Maxie',\n",
       " 'Mead',\n",
       " 'Meade',\n",
       " 'Mel',\n",
       " 'Meredith',\n",
       " 'Merle',\n",
       " 'Merrill',\n",
       " 'Merry',\n",
       " 'Meryl',\n",
       " 'Michal',\n",
       " 'Michel',\n",
       " 'Michele',\n",
       " 'Mickie',\n",
       " 'Micky',\n",
       " 'Millicent',\n",
       " 'Morgan',\n",
       " 'Morlee',\n",
       " 'Muffin',\n",
       " 'Nat',\n",
       " 'Nichole',\n",
       " 'Nickie',\n",
       " 'Nicky',\n",
       " 'Niki',\n",
       " 'Nikki',\n",
       " 'Noel',\n",
       " 'Ollie',\n",
       " 'Page',\n",
       " 'Paige',\n",
       " 'Pat',\n",
       " 'Patrice',\n",
       " 'Patsy',\n",
       " 'Pattie',\n",
       " 'Patty',\n",
       " 'Pen',\n",
       " 'Pennie',\n",
       " 'Penny',\n",
       " 'Perry',\n",
       " 'Phil',\n",
       " 'Pooh',\n",
       " 'Quentin',\n",
       " 'Quinn',\n",
       " 'Randi',\n",
       " 'Randie',\n",
       " 'Randy',\n",
       " 'Ray',\n",
       " 'Regan',\n",
       " 'Reggie',\n",
       " 'Rene',\n",
       " 'Rey',\n",
       " 'Ricki',\n",
       " 'Rickie',\n",
       " 'Ricky',\n",
       " 'Rikki',\n",
       " 'Robbie',\n",
       " 'Robin',\n",
       " 'Ronnie',\n",
       " 'Ronny',\n",
       " 'Rory',\n",
       " 'Ruby',\n",
       " 'Sal',\n",
       " 'Sam',\n",
       " 'Sammy',\n",
       " 'Sandy',\n",
       " 'Sascha',\n",
       " 'Sasha',\n",
       " 'Saundra',\n",
       " 'Sayre',\n",
       " 'Scotty',\n",
       " 'Sean',\n",
       " 'Shaine',\n",
       " 'Shane',\n",
       " 'Shannon',\n",
       " 'Shaun',\n",
       " 'Shawn',\n",
       " 'Shay',\n",
       " 'Shayne',\n",
       " 'Shea',\n",
       " 'Shelby',\n",
       " 'Shell',\n",
       " 'Shelley',\n",
       " 'Sibyl',\n",
       " 'Simone',\n",
       " 'Sonnie',\n",
       " 'Sonny',\n",
       " 'Stacy',\n",
       " 'Sunny',\n",
       " 'Sydney',\n",
       " 'Tabbie',\n",
       " 'Tabby',\n",
       " 'Tallie',\n",
       " 'Tally',\n",
       " 'Tammie',\n",
       " 'Tammy',\n",
       " 'Tate',\n",
       " 'Ted',\n",
       " 'Teddie',\n",
       " 'Teddy',\n",
       " 'Terri',\n",
       " 'Terry',\n",
       " 'Theo',\n",
       " 'Tim',\n",
       " 'Timmie',\n",
       " 'Timmy',\n",
       " 'Tobe',\n",
       " 'Tobie',\n",
       " 'Toby',\n",
       " 'Tommie',\n",
       " 'Tommy',\n",
       " 'Tony',\n",
       " 'Torey',\n",
       " 'Trace',\n",
       " 'Tracey',\n",
       " 'Tracie',\n",
       " 'Tracy',\n",
       " 'Val',\n",
       " 'Vale',\n",
       " 'Valentine',\n",
       " 'Van',\n",
       " 'Vin',\n",
       " 'Vinnie',\n",
       " 'Vinny',\n",
       " 'Virgie',\n",
       " 'Wallie',\n",
       " 'Wallis',\n",
       " 'Wally',\n",
       " 'Whitney',\n",
       " 'Willi',\n",
       " 'Willie',\n",
       " 'Willy',\n",
       " 'Winnie',\n",
       " 'Winny',\n",
       " 'Wynn']"
      ]
     },
     "execution_count": 138,
     "metadata": {},
     "output_type": "execute_result"
    }
   ],
   "source": [
    "[w for w in male_names if w in female_names]"
   ]
  },
  {
   "cell_type": "markdown",
   "id": "micro-medium",
   "metadata": {},
   "source": [
    "Name endings for traditionally male and female names."
   ]
  },
  {
   "cell_type": "code",
   "execution_count": 139,
   "id": "prerequisite-victory",
   "metadata": {},
   "outputs": [],
   "source": [
    "cfd = nltk.ConditionalFreqDist(\n",
    "            (fileid, name[-1])\n",
    "            for fileid in names.fileids()\n",
    "            for name in names.words(fileid))"
   ]
  },
  {
   "cell_type": "code",
   "execution_count": 141,
   "id": "retained-waters",
   "metadata": {},
   "outputs": [
    {
     "data": {
      "image/png": "[encoded data removed]",
      "text/plain": [
       "<Figure size 1080x720 with 1 Axes>"
      ]
     },
     "metadata": {
      "needs_background": "light"
     },
     "output_type": "display_data"
    },
    {
     "data": {
      "text/plain": [
       "<AxesSubplot:xlabel='Samples', ylabel='Counts'>"
      ]
     },
     "execution_count": 141,
     "metadata": {},
     "output_type": "execute_result"
    }
   ],
   "source": [
    "plt.figure(figsize=(15,10))\n",
    "cfd.plot()"
   ]
  },
  {
   "cell_type": "markdown",
   "id": "adapted-editing",
   "metadata": {},
   "source": [
    "## Pronouncing Dictionary\n",
    "This lexical resource contains words plus phonetic codes"
   ]
  },
  {
   "cell_type": "code",
   "execution_count": 5,
   "id": "spiritual-september",
   "metadata": {},
   "outputs": [],
   "source": [
    "entries = nltk.corpus.cmudict.entries()"
   ]
  },
  {
   "cell_type": "code",
   "execution_count": 143,
   "id": "turkish-jacket",
   "metadata": {},
   "outputs": [
    {
     "data": {
      "text/plain": [
       "133737"
      ]
     },
     "execution_count": 143,
     "metadata": {},
     "output_type": "execute_result"
    }
   ],
   "source": [
    "len(entries)"
   ]
  },
  {
   "cell_type": "code",
   "execution_count": 145,
   "id": "occasional-dutch",
   "metadata": {},
   "outputs": [
    {
     "name": "stdout",
     "output_type": "stream",
     "text": [
      "('explorer', ['IH0', 'K', 'S', 'P', 'L', 'AO1', 'R', 'ER0'])\n",
      "('explorers', ['IH0', 'K', 'S', 'P', 'L', 'AO1', 'R', 'ER0', 'Z'])\n",
      "('explores', ['IH0', 'K', 'S', 'P', 'L', 'AO1', 'R', 'Z'])\n",
      "('exploring', ['IH0', 'K', 'S', 'P', 'L', 'AO1', 'R', 'IH0', 'NG'])\n",
      "('explosion', ['IH0', 'K', 'S', 'P', 'L', 'OW1', 'ZH', 'AH0', 'N'])\n",
      "('explosions', ['IH0', 'K', 'S', 'P', 'L', 'OW1', 'ZH', 'AH0', 'N', 'Z'])\n",
      "('explosive', ['IH0', 'K', 'S', 'P', 'L', 'OW1', 'S', 'IH0', 'V'])\n",
      "('explosively', ['EH2', 'K', 'S', 'P', 'L', 'OW1', 'S', 'IH0', 'V', 'L', 'IY0'])\n"
     ]
    }
   ],
   "source": [
    "for entry in entries[39943:39951]:\n",
    "    print(entry)"
   ]
  },
  {
   "cell_type": "markdown",
   "id": "wrapped-estimate",
   "metadata": {},
   "source": [
    "Isolating words with 3 phonemes that start with 'P' and end with 'T' returning only the vowel pronunciation."
   ]
  },
  {
   "cell_type": "code",
   "execution_count": 147,
   "id": "lesbian-dating",
   "metadata": {},
   "outputs": [
    {
     "name": "stdout",
     "output_type": "stream",
     "text": [
      "pait EY1\n",
      "pat AE1\n",
      "pate EY1\n",
      "patt AE1\n",
      "peart ER1\n",
      "peat IY1\n",
      "peet IY1\n",
      "peete IY1\n",
      "pert ER1\n",
      "pet EH1\n",
      "pete IY1\n",
      "pett EH1\n",
      "piet IY1\n",
      "piette IY1\n",
      "pit IH1\n",
      "pitt IH1\n",
      "pot AA1\n",
      "pote OW1\n",
      "pott AA1\n",
      "pout AW1\n",
      "puett UW1\n",
      "purt ER1\n",
      "put UH1\n",
      "putt AH1\n"
     ]
    }
   ],
   "source": [
    "for word, pron in entries:\n",
    "    if len(pron) == 3:\n",
    "        ph1, ph2, ph3 = pron\n",
    "        if ph1 == 'P' and ph3 == 'T':\n",
    "            print(word,ph2)"
   ]
  },
  {
   "cell_type": "markdown",
   "id": "round-principle",
   "metadata": {},
   "source": [
    "This looks for things that sound like 'nicks'"
   ]
  },
  {
   "cell_type": "code",
   "execution_count": 1,
   "id": "legendary-diversity",
   "metadata": {},
   "outputs": [],
   "source": [
    "syllable = ['N','IH0','K','S']"
   ]
  },
  {
   "cell_type": "code",
   "execution_count": 7,
   "id": "apart-poker",
   "metadata": {},
   "outputs": [
    {
     "data": {
      "text/plain": [
       "[\"atlantic's\",\n",
       " 'audiotronics',\n",
       " 'avionics',\n",
       " 'beatniks',\n",
       " 'calisthenics',\n",
       " 'centronics',\n",
       " 'chamonix',\n",
       " 'chetniks',\n",
       " \"clinic's\",\n",
       " 'clinics']"
      ]
     },
     "execution_count": 7,
     "metadata": {},
     "output_type": "execute_result"
    }
   ],
   "source": [
    "[word for word, pron in entries if pron[-4:] == syllable][:10]"
   ]
  },
  {
   "cell_type": "code",
   "execution_count": 8,
   "id": "empty-price",
   "metadata": {},
   "outputs": [
    {
     "data": {
      "text/plain": [
       "['autumn', 'column', 'condemn', 'damn', 'goddamn', 'hymn', 'solemn']"
      ]
     },
     "execution_count": 8,
     "metadata": {},
     "output_type": "execute_result"
    }
   ],
   "source": [
    "[w for w, pron in entries if pron[-1] == 'M' and w[-1] =='n']"
   ]
  },
  {
   "cell_type": "code",
   "execution_count": 9,
   "id": "bacterial-behalf",
   "metadata": {},
   "outputs": [
    {
     "data": {
      "text/plain": [
       "['gn', 'kn', 'mn', 'pn']"
      ]
     },
     "execution_count": 9,
     "metadata": {},
     "output_type": "execute_result"
    }
   ],
   "source": [
    "sorted(set(w[:2] for w, pron in entries if pron[0] == 'N' and w[0] != 'n'))"
   ]
  },
  {
   "cell_type": "markdown",
   "id": "interesting-minutes",
   "metadata": {},
   "source": [
    "Characterizing different stress patterns. The phones contain digits to represent primary stress (1), secondary stress (2), and no stress (0)"
   ]
  },
  {
   "cell_type": "code",
   "execution_count": 10,
   "id": "beginning-toddler",
   "metadata": {},
   "outputs": [],
   "source": [
    "def stress(pron):\n",
    "    return [char for phone in pron for char in phone if char.isdigit()]"
   ]
  },
  {
   "cell_type": "code",
   "execution_count": 21,
   "id": "original-seventh",
   "metadata": {},
   "outputs": [
    {
     "data": {
      "text/plain": [
       "['AE2', 'B', 'D', 'IH0', 'K', 'EY1', 'SH', 'AH0', 'N']"
      ]
     },
     "execution_count": 21,
     "metadata": {},
     "output_type": "execute_result"
    }
   ],
   "source": [
    "entries[100][1]"
   ]
  },
  {
   "cell_type": "code",
   "execution_count": 22,
   "id": "green-toddler",
   "metadata": {},
   "outputs": [
    {
     "data": {
      "text/plain": [
       "['2', '0', '1', '0']"
      ]
     },
     "execution_count": 22,
     "metadata": {},
     "output_type": "execute_result"
    }
   ],
   "source": [
    "stress(entries[100][1])"
   ]
  },
  {
   "cell_type": "code",
   "execution_count": 13,
   "id": "divine-punch",
   "metadata": {},
   "outputs": [
    {
     "data": {
      "text/plain": [
       "['abbreviated',\n",
       " 'abbreviated',\n",
       " 'abbreviating',\n",
       " 'accelerated',\n",
       " 'accelerating',\n",
       " 'accelerator',\n",
       " 'accelerators',\n",
       " 'accentuated',\n",
       " 'accentuating',\n",
       " 'accommodated']"
      ]
     },
     "execution_count": 13,
     "metadata": {},
     "output_type": "execute_result"
    }
   ],
   "source": [
    "[w for w, pron in entries if stress(pron) == ['0','1','0','2','0']][:10]"
   ]
  },
  {
   "cell_type": "code",
   "execution_count": 14,
   "id": "protecting-phrase",
   "metadata": {},
   "outputs": [
    {
     "data": {
      "text/plain": [
       "['abbreviation',\n",
       " 'abbreviations',\n",
       " 'abomination',\n",
       " 'abortifacient',\n",
       " 'abortifacients',\n",
       " 'academicians',\n",
       " 'accommodation',\n",
       " 'accommodations',\n",
       " 'accreditation',\n",
       " 'accreditations']"
      ]
     },
     "execution_count": 14,
     "metadata": {},
     "output_type": "execute_result"
    }
   ],
   "source": [
    "[w for w, pron in entries if stress(pron) == ['0','2','0','1','0']][:10]"
   ]
  },
  {
   "cell_type": "markdown",
   "id": "atlantic-islam",
   "metadata": {},
   "source": [
    "**\"Minimally contrasting\"** sets of words. Finding all of the p words consisting of 3 sounds and group them according to their first and last sounds"
   ]
  },
  {
   "cell_type": "code",
   "execution_count": 23,
   "id": "accredited-corpus",
   "metadata": {},
   "outputs": [],
   "source": [
    "p3 = [(pron[0]+'-'+pron[2],word)\n",
    "     for (word, pron) in entries\n",
    "     if pron[0] == 'P' and len(pron) == 3]"
   ]
  },
  {
   "cell_type": "code",
   "execution_count": 26,
   "id": "serial-clock",
   "metadata": {},
   "outputs": [],
   "source": [
    "cfd = nltk.ConditionalFreqDist(p3)"
   ]
  },
  {
   "cell_type": "code",
   "execution_count": 27,
   "id": "legitimate-bangkok",
   "metadata": {},
   "outputs": [
    {
     "name": "stdout",
     "output_type": "stream",
     "text": [
      "P-P paap paape pap pape papp paup peep pep pip pipe pipp poop pop pope pop...\n",
      "P-R paar pair par pare parr pear peer pier poor poore por pore porr pour...\n",
      "P-K pac pack paek paik pak pake paque peak peake pech peck peek perc perk ...\n",
      "P-S pace pass pasts peace pearse pease perce pers perse pesce piece piss p...\n",
      "P-L pahl pail paille pal pale pall paul paule paull peal peale pearl pearl...\n",
      "P-N paign pain paine pan pane pawn payne peine pen penh penn pin pine pinn...\n",
      "P-Z pais paiz pao's pas pause paws pays paz peas pease pei's perz pez pies...\n",
      "P-T pait pat pate patt peart peat peet peete pert pet pete pett piet piett...\n",
      "P-CH patch pautsch peach perch petsch petsche piche piech pietsch pitch pit...\n",
      "P-UW1 peru peugh pew plew plue prew pru prue prugh pshew pugh...\n"
     ]
    }
   ],
   "source": [
    "for template in cfd.conditions():\n",
    "    if len(cfd[template]) > 10:\n",
    "        words = cfd[template].keys()\n",
    "        wordlist = ' '.join(words)\n",
    "        print(template, wordlist[:70]+'...')"
   ]
  },
  {
   "cell_type": "markdown",
   "id": "front-insured",
   "metadata": {},
   "source": [
    "Looking up specific words."
   ]
  },
  {
   "cell_type": "code",
   "execution_count": 29,
   "id": "reflected-commercial",
   "metadata": {},
   "outputs": [],
   "source": [
    "prondict = nltk.corpus.cmudict.dict()"
   ]
  },
  {
   "cell_type": "code",
   "execution_count": 30,
   "id": "similar-cabin",
   "metadata": {},
   "outputs": [
    {
     "data": {
      "text/plain": [
       "[['F', 'AY1', 'ER0'], ['F', 'AY1', 'R']]"
      ]
     },
     "execution_count": 30,
     "metadata": {},
     "output_type": "execute_result"
    }
   ],
   "source": [
    "prondict['fire']"
   ]
  },
  {
   "cell_type": "code",
   "execution_count": 32,
   "id": "italic-product",
   "metadata": {},
   "outputs": [
    {
     "ename": "KeyError",
     "evalue": "'blog'",
     "output_type": "error",
     "traceback": [
      "\u001b[0;31m---------------------------------------------------------------------------\u001b[0m",
      "\u001b[0;31mKeyError\u001b[0m                                  Traceback (most recent call last)",
      "\u001b[0;32m<ipython-input-32-4b851fde5ef1>\u001b[0m in \u001b[0;36m<module>\u001b[0;34m\u001b[0m\n\u001b[0;32m----> 1\u001b[0;31m \u001b[0mprondict\u001b[0m\u001b[0;34m[\u001b[0m\u001b[0;34m'blog'\u001b[0m\u001b[0;34m]\u001b[0m\u001b[0;34m\u001b[0m\u001b[0;34m\u001b[0m\u001b[0m\n\u001b[0m",
      "\u001b[0;31mKeyError\u001b[0m: 'blog'"
     ]
    }
   ],
   "source": [
    "prondict['blog']"
   ]
  },
  {
   "cell_type": "code",
   "execution_count": 33,
   "id": "front-uniform",
   "metadata": {},
   "outputs": [],
   "source": [
    "prondict['blog'] = [['B','L','AA1','G']]"
   ]
  },
  {
   "cell_type": "code",
   "execution_count": 34,
   "id": "miniature-observer",
   "metadata": {},
   "outputs": [
    {
     "data": {
      "text/plain": [
       "[['B', 'L', 'AA1', 'G']]"
      ]
     },
     "execution_count": 34,
     "metadata": {},
     "output_type": "execute_result"
    }
   ],
   "source": [
    "prondict['blog']"
   ]
  },
  {
   "cell_type": "code",
   "execution_count": 35,
   "id": "announced-venezuela",
   "metadata": {},
   "outputs": [],
   "source": [
    "text = ['natural','language','processing']"
   ]
  },
  {
   "cell_type": "code",
   "execution_count": 36,
   "id": "private-damage",
   "metadata": {},
   "outputs": [
    {
     "data": {
      "text/plain": [
       "['N',\n",
       " 'AE1',\n",
       " 'CH',\n",
       " 'ER0',\n",
       " 'AH0',\n",
       " 'L',\n",
       " 'L',\n",
       " 'AE1',\n",
       " 'NG',\n",
       " 'G',\n",
       " 'W',\n",
       " 'AH0',\n",
       " 'JH',\n",
       " 'P',\n",
       " 'R',\n",
       " 'AA1',\n",
       " 'S',\n",
       " 'EH0',\n",
       " 'S',\n",
       " 'IH0',\n",
       " 'NG']"
      ]
     },
     "execution_count": 36,
     "metadata": {},
     "output_type": "execute_result"
    }
   ],
   "source": [
    "[ph for w in text for ph in prondict[w][0]]"
   ]
  },
  {
   "cell_type": "markdown",
   "id": "liked-trance",
   "metadata": {},
   "source": [
    "## Comparative Wordlists\n",
    "**Swadesh wordlist** contains 200 common words in several languages identified by two letter ISO 639 codes."
   ]
  },
  {
   "cell_type": "code",
   "execution_count": 38,
   "id": "floppy-grill",
   "metadata": {},
   "outputs": [],
   "source": [
    "from nltk.corpus import swadesh"
   ]
  },
  {
   "cell_type": "code",
   "execution_count": 43,
   "id": "superb-speed",
   "metadata": {},
   "outputs": [
    {
     "data": {
      "text/plain": [
       "['be', 'bg', 'bs', 'ca', 'cs', 'cu', 'de', 'en', 'es', 'fr']"
      ]
     },
     "execution_count": 43,
     "metadata": {},
     "output_type": "execute_result"
    }
   ],
   "source": [
    "swadesh.fileids()[:10]"
   ]
  },
  {
   "cell_type": "code",
   "execution_count": 42,
   "id": "considerable-xerox",
   "metadata": {},
   "outputs": [
    {
     "data": {
      "text/plain": [
       "['I',\n",
       " 'you (singular), thou',\n",
       " 'he',\n",
       " 'we',\n",
       " 'you (plural)',\n",
       " 'they',\n",
       " 'this',\n",
       " 'that',\n",
       " 'here',\n",
       " 'there']"
      ]
     },
     "execution_count": 42,
     "metadata": {},
     "output_type": "execute_result"
    }
   ],
   "source": [
    "swadesh.words('en')[:10]"
   ]
  },
  {
   "cell_type": "markdown",
   "id": "retired-design",
   "metadata": {},
   "source": [
    "This creates a French to English dictionary"
   ]
  },
  {
   "cell_type": "code",
   "execution_count": 44,
   "id": "liable-austin",
   "metadata": {},
   "outputs": [],
   "source": [
    "fr2en = swadesh.entries(['fr','en'])"
   ]
  },
  {
   "cell_type": "code",
   "execution_count": 45,
   "id": "blind-colleague",
   "metadata": {},
   "outputs": [
    {
     "data": {
      "text/plain": [
       "[('je', 'I'),\n",
       " ('tu, vous', 'you (singular), thou'),\n",
       " ('il', 'he'),\n",
       " ('nous', 'we'),\n",
       " ('vous', 'you (plural)'),\n",
       " ('ils, elles', 'they'),\n",
       " ('ceci', 'this'),\n",
       " ('cela', 'that'),\n",
       " ('ici', 'here'),\n",
       " ('là', 'there'),\n",
       " ('qui', 'who'),\n",
       " ('quoi', 'what'),\n",
       " ('où', 'where'),\n",
       " ('quand', 'when'),\n",
       " ('comment', 'how'),\n",
       " ('ne...pas', 'not'),\n",
       " ('tout', 'all'),\n",
       " ('plusieurs', 'many'),\n",
       " ('quelques', 'some'),\n",
       " ('peu', 'few'),\n",
       " ('autre', 'other'),\n",
       " ('un', 'one'),\n",
       " ('deux', 'two'),\n",
       " ('trois', 'three'),\n",
       " ('quatre', 'four'),\n",
       " ('cinq', 'five'),\n",
       " ('grand', 'big'),\n",
       " ('long', 'long'),\n",
       " ('large', 'wide'),\n",
       " ('épais', 'thick'),\n",
       " ('lourd', 'heavy'),\n",
       " ('petit', 'small'),\n",
       " ('court', 'short'),\n",
       " ('étroit', 'narrow'),\n",
       " ('mince', 'thin'),\n",
       " ('femme', 'woman'),\n",
       " ('homme', 'man (adult male)'),\n",
       " ('homme', 'man (human being)'),\n",
       " ('enfant', 'child'),\n",
       " ('femme, épouse', 'wife'),\n",
       " ('mari, époux', 'husband'),\n",
       " ('mère', 'mother'),\n",
       " ('père', 'father'),\n",
       " ('animal', 'animal'),\n",
       " ('poisson', 'fish'),\n",
       " ('oiseau', 'bird'),\n",
       " ('chien', 'dog'),\n",
       " ('pou', 'louse'),\n",
       " ('serpent', 'snake'),\n",
       " ('ver', 'worm'),\n",
       " ('arbre', 'tree'),\n",
       " ('forêt', 'forest'),\n",
       " ('bâton', 'stick'),\n",
       " ('fruit', 'fruit'),\n",
       " ('graine', 'seed'),\n",
       " ('feuille', 'leaf'),\n",
       " ('racine', 'root'),\n",
       " ('écorce', 'bark (from tree)'),\n",
       " ('fleur', 'flower'),\n",
       " ('herbe', 'grass'),\n",
       " ('corde', 'rope'),\n",
       " ('peau', 'skin'),\n",
       " ('viande', 'meat'),\n",
       " ('sang', 'blood'),\n",
       " ('os', 'bone'),\n",
       " ('graisse', 'fat (noun)'),\n",
       " ('œuf', 'egg'),\n",
       " ('corne', 'horn'),\n",
       " ('queue', 'tail'),\n",
       " ('plume', 'feather'),\n",
       " ('cheveu', 'hair'),\n",
       " ('tête', 'head'),\n",
       " ('oreille', 'ear'),\n",
       " ('œil', 'eye'),\n",
       " ('nez', 'nose'),\n",
       " ('bouche', 'mouth'),\n",
       " ('dent', 'tooth'),\n",
       " ('langue', 'tongue'),\n",
       " ('ongle', 'fingernail'),\n",
       " ('pied', 'foot'),\n",
       " ('jambe', 'leg'),\n",
       " ('genou', 'knee'),\n",
       " ('main', 'hand'),\n",
       " ('aile', 'wing'),\n",
       " ('ventre', 'belly'),\n",
       " ('entrailles', 'guts'),\n",
       " ('cou', 'neck'),\n",
       " ('dos', 'back'),\n",
       " ('sein, poitrine', 'breast'),\n",
       " ('cœur', 'heart'),\n",
       " ('foie', 'liver'),\n",
       " ('boire', 'drink'),\n",
       " ('manger', 'eat'),\n",
       " ('mordre', 'bite'),\n",
       " ('sucer', 'suck'),\n",
       " ('cracher', 'spit'),\n",
       " ('vomir', 'vomit'),\n",
       " ('souffler', 'blow'),\n",
       " ('respirer', 'breathe'),\n",
       " ('rire', 'laugh'),\n",
       " ('voir', 'see'),\n",
       " ('entendre', 'hear'),\n",
       " ('savoir', 'know (a fact)'),\n",
       " ('penser', 'think'),\n",
       " ('sentir', 'smell'),\n",
       " ('craindre, avoir peur', 'fear'),\n",
       " ('dormir', 'sleep'),\n",
       " ('vivre', 'live'),\n",
       " ('mourir', 'die'),\n",
       " ('tuer', 'kill'),\n",
       " ('se battre', 'fight'),\n",
       " ('chasser', 'hunt'),\n",
       " ('frapper', 'hit'),\n",
       " ('couper', 'cut'),\n",
       " ('fendre', 'split'),\n",
       " ('poignarder', 'stab'),\n",
       " ('gratter', 'scratch'),\n",
       " ('creuser', 'dig'),\n",
       " ('nager', 'swim'),\n",
       " ('voler', 'fly (verb)'),\n",
       " ('marcher', 'walk'),\n",
       " ('venir', 'come'),\n",
       " (\"s'étendre\", 'lie'),\n",
       " (\"s'asseoir\", 'sit'),\n",
       " ('se lever', 'stand'),\n",
       " ('tourner', 'turn'),\n",
       " ('tomber', 'fall'),\n",
       " ('donner', 'give'),\n",
       " ('tenir', 'hold'),\n",
       " ('serrer', 'squeeze'),\n",
       " ('frotter', 'rub'),\n",
       " ('laver', 'wash'),\n",
       " ('essuyer', 'wipe'),\n",
       " ('tirer', 'pull'),\n",
       " ('pousser', 'push'),\n",
       " ('jeter', 'throw'),\n",
       " ('lier', 'tie'),\n",
       " ('coudre', 'sew'),\n",
       " ('compter', 'count'),\n",
       " ('dire', 'say'),\n",
       " ('chanter', 'sing'),\n",
       " ('jouer', 'play'),\n",
       " ('flotter', 'float'),\n",
       " ('couler', 'flow'),\n",
       " ('geler', 'freeze'),\n",
       " ('gonfler', 'swell'),\n",
       " ('soleil', 'sun'),\n",
       " ('lune', 'moon'),\n",
       " ('étoile', 'star'),\n",
       " ('eau', 'water'),\n",
       " ('pluie', 'rain'),\n",
       " ('rivière', 'river'),\n",
       " ('lac', 'lake'),\n",
       " ('mer', 'sea'),\n",
       " ('sel', 'salt'),\n",
       " ('pierre', 'stone'),\n",
       " ('sable', 'sand'),\n",
       " ('poussière', 'dust'),\n",
       " ('terre', 'earth'),\n",
       " ('nuage', 'cloud'),\n",
       " ('brouillard', 'fog'),\n",
       " ('ciel', 'sky'),\n",
       " ('vent', 'wind'),\n",
       " ('neige', 'snow'),\n",
       " ('glace', 'ice'),\n",
       " ('fumée', 'smoke'),\n",
       " ('feu', 'fire'),\n",
       " ('cendres', 'ashes'),\n",
       " ('brûler', 'burn'),\n",
       " ('route', 'road'),\n",
       " ('montagne', 'mountain'),\n",
       " ('rouge', 'red'),\n",
       " ('vert', 'green'),\n",
       " ('jaune', 'yellow'),\n",
       " ('blanc', 'white'),\n",
       " ('noir', 'black'),\n",
       " ('nuit', 'night'),\n",
       " ('jour', 'day'),\n",
       " ('an, année', 'year'),\n",
       " ('chaud', 'warm'),\n",
       " ('froid', 'cold'),\n",
       " ('plein', 'full'),\n",
       " ('nouveau', 'new'),\n",
       " ('vieux', 'old'),\n",
       " ('bon', 'good'),\n",
       " ('mauvais', 'bad'),\n",
       " ('pourri', 'rotten'),\n",
       " ('sale', 'dirty'),\n",
       " ('droit', 'straight'),\n",
       " ('rond', 'round'),\n",
       " ('tranchant, pointu, aigu', 'sharp'),\n",
       " ('émoussé', 'dull'),\n",
       " ('lisse', 'smooth'),\n",
       " ('mouillé', 'wet'),\n",
       " ('sec', 'dry'),\n",
       " ('juste, correct', 'correct'),\n",
       " ('proche', 'near'),\n",
       " ('loin', 'far'),\n",
       " ('à droite', 'right'),\n",
       " ('à gauche', 'left'),\n",
       " ('à', 'at'),\n",
       " ('dans', 'in'),\n",
       " ('avec', 'with'),\n",
       " ('et', 'and'),\n",
       " ('si', 'if'),\n",
       " ('parce que', 'because'),\n",
       " ('nom', 'name')]"
      ]
     },
     "execution_count": 45,
     "metadata": {},
     "output_type": "execute_result"
    }
   ],
   "source": [
    "fr2en"
   ]
  },
  {
   "cell_type": "code",
   "execution_count": 47,
   "id": "interested-thong",
   "metadata": {},
   "outputs": [],
   "source": [
    "translate = dict(fr2en)"
   ]
  },
  {
   "cell_type": "code",
   "execution_count": 48,
   "id": "weighted-harvard",
   "metadata": {},
   "outputs": [
    {
     "data": {
      "text/plain": [
       "'dog'"
      ]
     },
     "execution_count": 48,
     "metadata": {},
     "output_type": "execute_result"
    }
   ],
   "source": [
    "translate['chien']"
   ]
  },
  {
   "cell_type": "code",
   "execution_count": 49,
   "id": "german-ebony",
   "metadata": {},
   "outputs": [
    {
     "data": {
      "text/plain": [
       "'throw'"
      ]
     },
     "execution_count": 49,
     "metadata": {},
     "output_type": "execute_result"
    }
   ],
   "source": [
    "translate['jeter']"
   ]
  },
  {
   "cell_type": "markdown",
   "id": "organizational-radius",
   "metadata": {},
   "source": [
    "Adding other languages to the dictionary"
   ]
  },
  {
   "cell_type": "code",
   "execution_count": 50,
   "id": "ongoing-generic",
   "metadata": {},
   "outputs": [],
   "source": [
    "de2en = swadesh.entries(['de','en'])"
   ]
  },
  {
   "cell_type": "code",
   "execution_count": 51,
   "id": "original-captain",
   "metadata": {},
   "outputs": [],
   "source": [
    "es2en = swadesh.entries(['es','en'])"
   ]
  },
  {
   "cell_type": "code",
   "execution_count": 52,
   "id": "suited-cover",
   "metadata": {},
   "outputs": [],
   "source": [
    "translate.update(dict(de2en))"
   ]
  },
  {
   "cell_type": "code",
   "execution_count": 53,
   "id": "agricultural-officer",
   "metadata": {},
   "outputs": [],
   "source": [
    "translate.update(dict(es2en))"
   ]
  },
  {
   "cell_type": "code",
   "execution_count": 54,
   "id": "active-implementation",
   "metadata": {},
   "outputs": [
    {
     "data": {
      "text/plain": [
       "'dog'"
      ]
     },
     "execution_count": 54,
     "metadata": {},
     "output_type": "execute_result"
    }
   ],
   "source": [
    "translate['Hund']"
   ]
  },
  {
   "cell_type": "code",
   "execution_count": 55,
   "id": "amino-withdrawal",
   "metadata": {},
   "outputs": [
    {
     "data": {
      "text/plain": [
       "'dog'"
      ]
     },
     "execution_count": 55,
     "metadata": {},
     "output_type": "execute_result"
    }
   ],
   "source": [
    "translate['perro']"
   ]
  },
  {
   "cell_type": "markdown",
   "id": "japanese-analyst",
   "metadata": {},
   "source": [
    "Comparing words in various Germanic and Romance languages"
   ]
  },
  {
   "cell_type": "code",
   "execution_count": 56,
   "id": "infectious-swiss",
   "metadata": {},
   "outputs": [],
   "source": [
    "languages = ['en','de','nl','es','fr','pt','la']"
   ]
  },
  {
   "cell_type": "code",
   "execution_count": 57,
   "id": "sitting-excerpt",
   "metadata": {},
   "outputs": [
    {
     "name": "stdout",
     "output_type": "stream",
     "text": [
      "('say', 'sagen', 'zeggen', 'decir', 'dire', 'dizer', 'dicere')\n",
      "('sing', 'singen', 'zingen', 'cantar', 'chanter', 'cantar', 'canere')\n",
      "('play', 'spielen', 'spelen', 'jugar', 'jouer', 'jogar, brincar', 'ludere')\n",
      "('float', 'schweben', 'zweven', 'flotar', 'flotter', 'flutuar, boiar', 'fluctuare')\n"
     ]
    }
   ],
   "source": [
    "for i in [139,140,141,142]:\n",
    "    print(swadesh.entries(languages)[i])"
   ]
  },
  {
   "cell_type": "markdown",
   "id": "insured-material",
   "metadata": {},
   "source": [
    "## WordNet\n",
    "Semantically oriented dictionary of english (similar to a thesaurus).\n",
    "\n",
    "**Senses and Synonyms**"
   ]
  },
  {
   "cell_type": "code",
   "execution_count": 58,
   "id": "preliminary-disco",
   "metadata": {},
   "outputs": [],
   "source": [
    "from nltk.corpus import wordnet as wn"
   ]
  },
  {
   "cell_type": "markdown",
   "id": "armed-heavy",
   "metadata": {},
   "source": [
    "This indicates that 'motorcar' only has one possible meaning identified as 'car.n.01' (n=noun). "
   ]
  },
  {
   "cell_type": "code",
   "execution_count": 59,
   "id": "specialized-brother",
   "metadata": {},
   "outputs": [
    {
     "data": {
      "text/plain": [
       "[Synset('car.n.01')]"
      ]
     },
     "execution_count": 59,
     "metadata": {},
     "output_type": "execute_result"
    }
   ],
   "source": [
    "wn.synsets('motorcar')"
   ]
  },
  {
   "cell_type": "markdown",
   "id": "metallic-devon",
   "metadata": {},
   "source": [
    "This entity is called a synset or 'synonym set'. Synonymous words are known as 'lemmas'."
   ]
  },
  {
   "cell_type": "code",
   "execution_count": 61,
   "id": "southeast-confirmation",
   "metadata": {},
   "outputs": [
    {
     "data": {
      "text/plain": [
       "['car', 'auto', 'automobile', 'machine', 'motorcar']"
      ]
     },
     "execution_count": 61,
     "metadata": {},
     "output_type": "execute_result"
    }
   ],
   "source": [
    "wn.synset('car.n.01').lemma_names()"
   ]
  },
  {
   "cell_type": "code",
   "execution_count": 63,
   "id": "loving-indiana",
   "metadata": {},
   "outputs": [
    {
     "data": {
      "text/plain": [
       "'a motor vehicle with four wheels; usually propelled by an internal combustion engine'"
      ]
     },
     "execution_count": 63,
     "metadata": {},
     "output_type": "execute_result"
    }
   ],
   "source": [
    "wn.synset('car.n.01').definition()"
   ]
  },
  {
   "cell_type": "code",
   "execution_count": 64,
   "id": "balanced-pocket",
   "metadata": {},
   "outputs": [
    {
     "data": {
      "text/plain": [
       "['he needs a car to get to work']"
      ]
     },
     "execution_count": 64,
     "metadata": {},
     "output_type": "execute_result"
    }
   ],
   "source": [
    "wn.synset('car.n.01').examples()"
   ]
  },
  {
   "cell_type": "markdown",
   "id": "center-spare",
   "metadata": {},
   "source": [
    "**Comparison**\n",
    "\n",
    "'Automobile' and 'motorcar' are unambiguous with one synset..."
   ]
  },
  {
   "cell_type": "code",
   "execution_count": 66,
   "id": "obvious-compiler",
   "metadata": {
    "scrolled": true
   },
   "outputs": [
    {
     "data": {
      "text/plain": [
       "[Lemma('car.n.01.car'),\n",
       " Lemma('car.n.01.auto'),\n",
       " Lemma('car.n.01.automobile'),\n",
       " Lemma('car.n.01.machine'),\n",
       " Lemma('car.n.01.motorcar')]"
      ]
     },
     "execution_count": 66,
     "metadata": {},
     "output_type": "execute_result"
    }
   ],
   "source": [
    "wn.synset('car.n.01').lemmas()"
   ]
  },
  {
   "cell_type": "code",
   "execution_count": 67,
   "id": "applied-character",
   "metadata": {},
   "outputs": [
    {
     "data": {
      "text/plain": [
       "Lemma('car.n.01.automobile')"
      ]
     },
     "execution_count": 67,
     "metadata": {},
     "output_type": "execute_result"
    }
   ],
   "source": [
    "wn.lemma('car.n.01.automobile')"
   ]
  },
  {
   "cell_type": "code",
   "execution_count": 69,
   "id": "apart-merit",
   "metadata": {},
   "outputs": [
    {
     "data": {
      "text/plain": [
       "Synset('car.n.01')"
      ]
     },
     "execution_count": 69,
     "metadata": {},
     "output_type": "execute_result"
    }
   ],
   "source": [
    "wn.lemma('car.n.01.automobile').synset()"
   ]
  },
  {
   "cell_type": "code",
   "execution_count": 70,
   "id": "greatest-fantasy",
   "metadata": {},
   "outputs": [
    {
     "data": {
      "text/plain": [
       "'automobile'"
      ]
     },
     "execution_count": 70,
     "metadata": {},
     "output_type": "execute_result"
    }
   ],
   "source": [
    "wn.lemma('car.n.01.automobile').name()"
   ]
  },
  {
   "cell_type": "markdown",
   "id": "consistent-findings",
   "metadata": {},
   "source": [
    "... whereas car is ambiguous and has five."
   ]
  },
  {
   "cell_type": "code",
   "execution_count": 71,
   "id": "twelve-norwegian",
   "metadata": {},
   "outputs": [
    {
     "data": {
      "text/plain": [
       "[Synset('car.n.01'),\n",
       " Synset('car.n.02'),\n",
       " Synset('car.n.03'),\n",
       " Synset('car.n.04'),\n",
       " Synset('cable_car.n.01')]"
      ]
     },
     "execution_count": 71,
     "metadata": {},
     "output_type": "execute_result"
    }
   ],
   "source": [
    "wn.synsets('car')"
   ]
  },
  {
   "cell_type": "code",
   "execution_count": 73,
   "id": "industrial-encyclopedia",
   "metadata": {},
   "outputs": [
    {
     "name": "stdout",
     "output_type": "stream",
     "text": [
      "['car', 'auto', 'automobile', 'machine', 'motorcar']\n",
      "['car', 'railcar', 'railway_car', 'railroad_car']\n",
      "['car', 'gondola']\n",
      "['car', 'elevator_car']\n",
      "['cable_car', 'car']\n"
     ]
    }
   ],
   "source": [
    "for synset in wn.synsets('car'):\n",
    "    print(synset.lemma_names())"
   ]
  },
  {
   "cell_type": "markdown",
   "id": "pointed-advice",
   "metadata": {},
   "source": [
    "Accessing all of the lemmas involving the word car."
   ]
  },
  {
   "cell_type": "code",
   "execution_count": 74,
   "id": "normal-compound",
   "metadata": {},
   "outputs": [
    {
     "data": {
      "text/plain": [
       "[Lemma('car.n.01.car'),\n",
       " Lemma('car.n.02.car'),\n",
       " Lemma('car.n.03.car'),\n",
       " Lemma('car.n.04.car'),\n",
       " Lemma('cable_car.n.01.car')]"
      ]
     },
     "execution_count": 74,
     "metadata": {},
     "output_type": "execute_result"
    }
   ],
   "source": [
    "wn.lemmas('car')"
   ]
  },
  {
   "cell_type": "markdown",
   "id": "fifth-nicaragua",
   "metadata": {},
   "source": [
    "## WordNet Hierarchy\n",
    "\n",
    "Goes from very general concepts such as ***Entity***, ***State***, and ***Event***; these are called **unique beginners** or root synsets, to much more specific entities such as ***gas guzzler*** and ***hatchback***. The more specific entities are called **Hyponyms**."
   ]
  },
  {
   "cell_type": "code",
   "execution_count": 75,
   "id": "spectacular-admission",
   "metadata": {},
   "outputs": [],
   "source": [
    "motorcar = wn.synset('car.n.01')"
   ]
  },
  {
   "cell_type": "code",
   "execution_count": 76,
   "id": "subject-empty",
   "metadata": {},
   "outputs": [],
   "source": [
    "types_of_motorcar = motorcar.hyponyms()"
   ]
  },
  {
   "cell_type": "code",
   "execution_count": 77,
   "id": "exact-northwest",
   "metadata": {},
   "outputs": [
    {
     "data": {
      "text/plain": [
       "Synset('stanley_steamer.n.01')"
      ]
     },
     "execution_count": 77,
     "metadata": {},
     "output_type": "execute_result"
    }
   ],
   "source": [
    "types_of_motorcar[26]"
   ]
  },
  {
   "cell_type": "code",
   "execution_count": 81,
   "id": "technological-perfume",
   "metadata": {},
   "outputs": [
    {
     "data": {
      "text/plain": [
       "['Model_T',\n",
       " 'S.U.V.',\n",
       " 'SUV',\n",
       " 'Stanley_Steamer',\n",
       " 'ambulance',\n",
       " 'beach_waggon',\n",
       " 'beach_wagon',\n",
       " 'bus',\n",
       " 'cab',\n",
       " 'compact']"
      ]
     },
     "execution_count": 81,
     "metadata": {},
     "output_type": "execute_result"
    }
   ],
   "source": [
    "sorted([lemma.name() for synset in types_of_motorcar for lemma in synset.lemmas()])[:10]"
   ]
  },
  {
   "cell_type": "markdown",
   "id": "paperback-dryer",
   "metadata": {},
   "source": [
    "The more general classifications are the **hypernyms**."
   ]
  },
  {
   "cell_type": "code",
   "execution_count": 82,
   "id": "political-outside",
   "metadata": {},
   "outputs": [
    {
     "data": {
      "text/plain": [
       "[Synset('motor_vehicle.n.01')]"
      ]
     },
     "execution_count": 82,
     "metadata": {},
     "output_type": "execute_result"
    }
   ],
   "source": [
    "motorcar.hypernyms()"
   ]
  },
  {
   "cell_type": "code",
   "execution_count": 83,
   "id": "convenient-contemporary",
   "metadata": {},
   "outputs": [],
   "source": [
    "paths = motorcar.hypernym_paths()"
   ]
  },
  {
   "cell_type": "code",
   "execution_count": 84,
   "id": "responsible-minority",
   "metadata": {},
   "outputs": [
    {
     "data": {
      "text/plain": [
       "2"
      ]
     },
     "execution_count": 84,
     "metadata": {},
     "output_type": "execute_result"
    }
   ],
   "source": [
    "len(paths)"
   ]
  },
  {
   "cell_type": "code",
   "execution_count": 86,
   "id": "mechanical-assessment",
   "metadata": {},
   "outputs": [
    {
     "data": {
      "text/plain": [
       "['entity.n.01',\n",
       " 'physical_entity.n.01',\n",
       " 'object.n.01',\n",
       " 'whole.n.02',\n",
       " 'artifact.n.01',\n",
       " 'instrumentality.n.03',\n",
       " 'container.n.01',\n",
       " 'wheeled_vehicle.n.01',\n",
       " 'self-propelled_vehicle.n.01',\n",
       " 'motor_vehicle.n.01',\n",
       " 'car.n.01']"
      ]
     },
     "execution_count": 86,
     "metadata": {},
     "output_type": "execute_result"
    }
   ],
   "source": [
    "[synset.name() for synset in paths[0]]"
   ]
  },
  {
   "cell_type": "code",
   "execution_count": 87,
   "id": "acting-sphere",
   "metadata": {},
   "outputs": [
    {
     "data": {
      "text/plain": [
       "['entity.n.01',\n",
       " 'physical_entity.n.01',\n",
       " 'object.n.01',\n",
       " 'whole.n.02',\n",
       " 'artifact.n.01',\n",
       " 'instrumentality.n.03',\n",
       " 'conveyance.n.03',\n",
       " 'vehicle.n.01',\n",
       " 'wheeled_vehicle.n.01',\n",
       " 'self-propelled_vehicle.n.01',\n",
       " 'motor_vehicle.n.01',\n",
       " 'car.n.01']"
      ]
     },
     "execution_count": 87,
     "metadata": {},
     "output_type": "execute_result"
    }
   ],
   "source": [
    "[synset.name() for synset in paths[1]]"
   ]
  },
  {
   "cell_type": "markdown",
   "id": "subtle-amplifier",
   "metadata": {},
   "source": [
    "The most general hypernym or root hypernym."
   ]
  },
  {
   "cell_type": "code",
   "execution_count": 88,
   "id": "acceptable-vector",
   "metadata": {},
   "outputs": [
    {
     "data": {
      "text/plain": [
       "[Synset('entity.n.01')]"
      ]
     },
     "execution_count": 88,
     "metadata": {},
     "output_type": "execute_result"
    }
   ],
   "source": [
    "motorcar.root_hypernyms()"
   ]
  },
  {
   "cell_type": "markdown",
   "id": "accompanied-carroll",
   "metadata": {},
   "source": [
    "## More Lexical Relations\n",
    "\n",
    "Hypernyms and hyponyms are called **lexical relations** that are navigated via the \"is-a\" hierarchy. \n",
    "\n",
    "Another way to navigate the networks is fro items to their components (**meronyms**) or the things they are contained in (**holonyms**). For example the parts of a tree are its trunk, crown, etc whih are the part_meronyms wereas the substances that a tree is made of (heatwood, sapwood, etc.) are the substance_meronyms. A collection of trees called a forest are the trees member_holonyms."
   ]
  },
  {
   "cell_type": "code",
   "execution_count": 89,
   "id": "novel-physiology",
   "metadata": {},
   "outputs": [
    {
     "data": {
      "text/plain": [
       "[Synset('burl.n.02'),\n",
       " Synset('crown.n.07'),\n",
       " Synset('limb.n.02'),\n",
       " Synset('stump.n.01'),\n",
       " Synset('trunk.n.01')]"
      ]
     },
     "execution_count": 89,
     "metadata": {},
     "output_type": "execute_result"
    }
   ],
   "source": [
    "wn.synset('tree.n.01').part_meronyms()"
   ]
  },
  {
   "cell_type": "code",
   "execution_count": 90,
   "id": "pressed-emergency",
   "metadata": {},
   "outputs": [
    {
     "data": {
      "text/plain": [
       "[Synset('heartwood.n.01'), Synset('sapwood.n.01')]"
      ]
     },
     "execution_count": 90,
     "metadata": {},
     "output_type": "execute_result"
    }
   ],
   "source": [
    "wn.synset('tree.n.01').substance_meronyms()"
   ]
  },
  {
   "cell_type": "code",
   "execution_count": 91,
   "id": "apart-burning",
   "metadata": {},
   "outputs": [
    {
     "data": {
      "text/plain": [
       "[Synset('forest.n.01')]"
      ]
     },
     "execution_count": 91,
     "metadata": {},
     "output_type": "execute_result"
    }
   ],
   "source": [
    "wn.synset('tree.n.01').member_holonyms()"
   ]
  },
  {
   "cell_type": "markdown",
   "id": "traditional-domestic",
   "metadata": {},
   "source": [
    "Mint is a much more complicated example."
   ]
  },
  {
   "cell_type": "code",
   "execution_count": 92,
   "id": "intermediate-thumb",
   "metadata": {},
   "outputs": [
    {
     "name": "stdout",
     "output_type": "stream",
     "text": [
      "batch.n.02: (often followed by `of') a large number or amount or extent\n",
      "mint.n.02: any north temperate plant of the genus Mentha with aromatic leaves and small mauve flowers\n",
      "mint.n.03: any member of the mint family of plants\n",
      "mint.n.04: the leaves of a mint plant used fresh or candied\n",
      "mint.n.05: a candy that is flavored with a mint oil\n",
      "mint.n.06: a plant where money is coined by authority of the government\n"
     ]
    }
   ],
   "source": [
    "for synset in wn.synsets('mint',wn.NOUN):\n",
    "    print(synset.name() + ':',synset.definition())"
   ]
  },
  {
   "cell_type": "code",
   "execution_count": 99,
   "id": "compact-cambridge",
   "metadata": {},
   "outputs": [
    {
     "data": {
      "text/plain": [
       "[Synset('mint.n.02')]"
      ]
     },
     "execution_count": 99,
     "metadata": {},
     "output_type": "execute_result"
    }
   ],
   "source": [
    "wn.synset('mint.n.04').part_holonyms()"
   ]
  },
  {
   "cell_type": "code",
   "execution_count": 101,
   "id": "vanilla-document",
   "metadata": {},
   "outputs": [
    {
     "data": {
      "text/plain": [
       "[Synset('mint.n.05')]"
      ]
     },
     "execution_count": 101,
     "metadata": {},
     "output_type": "execute_result"
    }
   ],
   "source": [
    "wn.synset('mint.n.04').substance_holonyms()"
   ]
  },
  {
   "cell_type": "markdown",
   "id": "cognitive-procedure",
   "metadata": {},
   "source": [
    "Relationships between verbs. For example, walking **entails** stepping."
   ]
  },
  {
   "cell_type": "code",
   "execution_count": 102,
   "id": "simplified-appliance",
   "metadata": {},
   "outputs": [
    {
     "data": {
      "text/plain": [
       "[Synset('step.v.01')]"
      ]
     },
     "execution_count": 102,
     "metadata": {},
     "output_type": "execute_result"
    }
   ],
   "source": [
    "wn.synset('walk.v.01').entailments()"
   ]
  },
  {
   "cell_type": "code",
   "execution_count": 103,
   "id": "solid-entity",
   "metadata": {},
   "outputs": [
    {
     "data": {
      "text/plain": [
       "[Synset('chew.v.01'), Synset('swallow.v.01')]"
      ]
     },
     "execution_count": 103,
     "metadata": {},
     "output_type": "execute_result"
    }
   ],
   "source": [
    "wn.synset('eat.v.01').entailments()"
   ]
  },
  {
   "cell_type": "code",
   "execution_count": 104,
   "id": "mediterranean-winter",
   "metadata": {},
   "outputs": [
    {
     "data": {
      "text/plain": [
       "[Synset('arouse.v.07'), Synset('disappoint.v.01')]"
      ]
     },
     "execution_count": 104,
     "metadata": {},
     "output_type": "execute_result"
    }
   ],
   "source": [
    "wn.synset('tease.v.03').entailments()"
   ]
  },
  {
   "cell_type": "markdown",
   "id": "quantitative-church",
   "metadata": {},
   "source": [
    "**Antonymy**, 'between lemmas' held by some lexical relationships."
   ]
  },
  {
   "cell_type": "code",
   "execution_count": 105,
   "id": "basic-jordan",
   "metadata": {},
   "outputs": [
    {
     "data": {
      "text/plain": [
       "[Lemma('demand.n.02.demand')]"
      ]
     },
     "execution_count": 105,
     "metadata": {},
     "output_type": "execute_result"
    }
   ],
   "source": [
    "wn.lemma('supply.n.02.supply').antonyms()"
   ]
  },
  {
   "cell_type": "code",
   "execution_count": 106,
   "id": "understanding-intellectual",
   "metadata": {},
   "outputs": [
    {
     "data": {
      "text/plain": [
       "[Lemma('linger.v.04.linger')]"
      ]
     },
     "execution_count": 106,
     "metadata": {},
     "output_type": "execute_result"
    }
   ],
   "source": [
    "wn.lemma('rush.v.01.rush').antonyms()"
   ]
  },
  {
   "cell_type": "code",
   "execution_count": 107,
   "id": "literary-microphone",
   "metadata": {},
   "outputs": [
    {
     "data": {
      "text/plain": [
       "[Lemma('vertical.a.01.vertical'), Lemma('inclined.a.02.inclined')]"
      ]
     },
     "execution_count": 107,
     "metadata": {},
     "output_type": "execute_result"
    }
   ],
   "source": [
    "wn.lemma('horizontal.a.01.horizontal').antonyms()"
   ]
  },
  {
   "cell_type": "code",
   "execution_count": 108,
   "id": "anonymous-democracy",
   "metadata": {},
   "outputs": [
    {
     "data": {
      "text/plain": [
       "[Lemma('legato.r.01.legato')]"
      ]
     },
     "execution_count": 108,
     "metadata": {},
     "output_type": "execute_result"
    }
   ],
   "source": [
    "wn.lemma('staccato.r.01.staccato').antonyms()"
   ]
  },
  {
   "cell_type": "markdown",
   "id": "billion-watson",
   "metadata": {},
   "source": [
    "Listing all methods associated with a lexical relation."
   ]
  },
  {
   "cell_type": "code",
   "execution_count": 110,
   "id": "appropriate-fundamental",
   "metadata": {
    "scrolled": true
   },
   "outputs": [
    {
     "data": {
      "text/plain": [
       "['__class__',\n",
       " '__delattr__',\n",
       " '__dict__',\n",
       " '__dir__',\n",
       " '__doc__',\n",
       " '__eq__',\n",
       " '__format__',\n",
       " '__ge__',\n",
       " '__getattribute__',\n",
       " '__gt__',\n",
       " '__hash__',\n",
       " '__init__',\n",
       " '__init_subclass__',\n",
       " '__le__',\n",
       " '__lt__',\n",
       " '__module__',\n",
       " '__ne__',\n",
       " '__new__',\n",
       " '__reduce__',\n",
       " '__reduce_ex__',\n",
       " '__repr__',\n",
       " '__setattr__',\n",
       " '__sizeof__',\n",
       " '__slots__',\n",
       " '__str__',\n",
       " '__subclasshook__',\n",
       " '__unicode__',\n",
       " '__weakref__',\n",
       " '_all_hypernyms',\n",
       " '_definition',\n",
       " '_examples',\n",
       " '_frame_ids',\n",
       " '_hypernyms',\n",
       " '_instance_hypernyms',\n",
       " '_iter_hypernym_lists',\n",
       " '_lemma_names',\n",
       " '_lemma_pointers',\n",
       " '_lemmas',\n",
       " '_lexname',\n",
       " '_max_depth',\n",
       " '_min_depth',\n",
       " '_name',\n",
       " '_needs_root',\n",
       " '_offset',\n",
       " '_pointers',\n",
       " '_pos',\n",
       " '_related',\n",
       " '_shortest_hypernym_paths',\n",
       " '_wordnet_corpus_reader',\n",
       " 'also_sees',\n",
       " 'attributes',\n",
       " 'causes',\n",
       " 'closure',\n",
       " 'common_hypernyms',\n",
       " 'definition',\n",
       " 'entailments',\n",
       " 'examples',\n",
       " 'frame_ids',\n",
       " 'hypernym_distances',\n",
       " 'hypernym_paths',\n",
       " 'hypernyms',\n",
       " 'hyponyms',\n",
       " 'in_region_domains',\n",
       " 'in_topic_domains',\n",
       " 'in_usage_domains',\n",
       " 'instance_hypernyms',\n",
       " 'instance_hyponyms',\n",
       " 'jcn_similarity',\n",
       " 'lch_similarity',\n",
       " 'lemma_names',\n",
       " 'lemmas',\n",
       " 'lexname',\n",
       " 'lin_similarity',\n",
       " 'lowest_common_hypernyms',\n",
       " 'max_depth',\n",
       " 'member_holonyms',\n",
       " 'member_meronyms',\n",
       " 'min_depth',\n",
       " 'name',\n",
       " 'offset',\n",
       " 'part_holonyms',\n",
       " 'part_meronyms',\n",
       " 'path_similarity',\n",
       " 'pos',\n",
       " 'region_domains',\n",
       " 'res_similarity',\n",
       " 'root_hypernyms',\n",
       " 'shortest_path_distance',\n",
       " 'similar_tos',\n",
       " 'substance_holonyms',\n",
       " 'substance_meronyms',\n",
       " 'topic_domains',\n",
       " 'tree',\n",
       " 'unicode_repr',\n",
       " 'usage_domains',\n",
       " 'verb_groups',\n",
       " 'wup_similarity']"
      ]
     },
     "execution_count": 110,
     "metadata": {},
     "output_type": "execute_result"
    }
   ],
   "source": [
    "dir(wn.synset('harmony.n.02'))"
   ]
  },
  {
   "cell_type": "markdown",
   "id": "scientific-shape",
   "metadata": {},
   "source": [
    "## Semantic Similarity\n",
    "It is useful that synsets are linked by a network of lexical relations so that searches for general terms, such as vehicle, can return more specific terms, such as limousine.\n",
    "\n",
    "If two synsets share a very specific hypernym they must be closely related. The following are from most closely related to least closely related."
   ]
  },
  {
   "cell_type": "code",
   "execution_count": 111,
   "id": "sporting-sector",
   "metadata": {},
   "outputs": [],
   "source": [
    "right = wn.synset('right_whale.n.01')"
   ]
  },
  {
   "cell_type": "code",
   "execution_count": 112,
   "id": "framed-transparency",
   "metadata": {},
   "outputs": [],
   "source": [
    "orca = wn.synset('orca.n.01')"
   ]
  },
  {
   "cell_type": "code",
   "execution_count": 113,
   "id": "smoking-ethics",
   "metadata": {},
   "outputs": [],
   "source": [
    "minke = wn.synset('minke_whale.n.01')"
   ]
  },
  {
   "cell_type": "code",
   "execution_count": 114,
   "id": "social-tonight",
   "metadata": {},
   "outputs": [],
   "source": [
    "tortoise = wn.synset('tortoise.n.01')"
   ]
  },
  {
   "cell_type": "code",
   "execution_count": 115,
   "id": "stretch-juice",
   "metadata": {},
   "outputs": [],
   "source": [
    "novel = wn.synset('novel.n.01')"
   ]
  },
  {
   "cell_type": "code",
   "execution_count": 116,
   "id": "desperate-realtor",
   "metadata": {},
   "outputs": [
    {
     "data": {
      "text/plain": [
       "[Synset('baleen_whale.n.01')]"
      ]
     },
     "execution_count": 116,
     "metadata": {},
     "output_type": "execute_result"
    }
   ],
   "source": [
    "right.lowest_common_hypernyms(minke)"
   ]
  },
  {
   "cell_type": "code",
   "execution_count": 117,
   "id": "sexual-texas",
   "metadata": {},
   "outputs": [
    {
     "data": {
      "text/plain": [
       "[Synset('whale.n.02')]"
      ]
     },
     "execution_count": 117,
     "metadata": {},
     "output_type": "execute_result"
    }
   ],
   "source": [
    "right.lowest_common_hypernyms(orca)"
   ]
  },
  {
   "cell_type": "code",
   "execution_count": 118,
   "id": "generic-defensive",
   "metadata": {},
   "outputs": [
    {
     "data": {
      "text/plain": [
       "[Synset('vertebrate.n.01')]"
      ]
     },
     "execution_count": 118,
     "metadata": {},
     "output_type": "execute_result"
    }
   ],
   "source": [
    "right.lowest_common_hypernyms(tortoise)"
   ]
  },
  {
   "cell_type": "code",
   "execution_count": 119,
   "id": "italian-danger",
   "metadata": {},
   "outputs": [
    {
     "data": {
      "text/plain": [
       "[Synset('entity.n.01')]"
      ]
     },
     "execution_count": 119,
     "metadata": {},
     "output_type": "execute_result"
    }
   ],
   "source": [
    "right.lowest_common_hypernyms(novel)"
   ]
  },
  {
   "cell_type": "markdown",
   "id": "unknown-rwanda",
   "metadata": {},
   "source": [
    "Quantifying this relationship."
   ]
  },
  {
   "cell_type": "code",
   "execution_count": 120,
   "id": "medieval-bailey",
   "metadata": {},
   "outputs": [
    {
     "data": {
      "text/plain": [
       "14"
      ]
     },
     "execution_count": 120,
     "metadata": {},
     "output_type": "execute_result"
    }
   ],
   "source": [
    "wn.synset('baleen_whale.n.01').min_depth()"
   ]
  },
  {
   "cell_type": "code",
   "execution_count": 121,
   "id": "tight-insurance",
   "metadata": {},
   "outputs": [
    {
     "data": {
      "text/plain": [
       "13"
      ]
     },
     "execution_count": 121,
     "metadata": {},
     "output_type": "execute_result"
    }
   ],
   "source": [
    "wn.synset('whale.n.02').min_depth()"
   ]
  },
  {
   "cell_type": "code",
   "execution_count": 122,
   "id": "designing-apparatus",
   "metadata": {},
   "outputs": [
    {
     "data": {
      "text/plain": [
       "8"
      ]
     },
     "execution_count": 122,
     "metadata": {},
     "output_type": "execute_result"
    }
   ],
   "source": [
    "wn.synset('vertebrate.n.01').min_depth()"
   ]
  },
  {
   "cell_type": "code",
   "execution_count": null,
   "id": "improving-atlanta",
   "metadata": {},
   "outputs": [],
   "source": [
    "wn.synset('entity.n.01').min_depth"
   ]
  }
 ],
 "metadata": {
  "kernelspec": {
   "display_name": "Python 3",
   "language": "python",
   "name": "python3"
  },
  "language_info": {
   "codemirror_mode": {
    "name": "ipython",
    "version": 3
   },
   "file_extension": ".py",
   "mimetype": "text/x-python",
   "name": "python",
   "nbconvert_exporter": "python",
   "pygments_lexer": "ipython3",
   "version": "3.8.8"
  }
 },
 "nbformat": 4,
 "nbformat_minor": 5
}
