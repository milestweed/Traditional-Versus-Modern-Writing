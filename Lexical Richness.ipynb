{
 "cells": [
  {
   "cell_type": "code",
   "execution_count": 698,
   "metadata": {},
   "outputs": [],
   "source": [
    "import os\n",
    "import pandas as pd\n",
    "import numpy as np\n",
    "import nltk\n",
    "import string\n",
    "from nltk.corpus import stopwords\n",
    "import matplotlib.pyplot as plt\n",
    "from pyspark import SparkContext\n",
    "from pyspark.sql import SparkSession\n",
    "from pyspark.sql.types import *\n",
    "from pyspark.sql.functions import col"
   ]
  },
  {
   "cell_type": "code",
   "execution_count": 699,
   "metadata": {},
   "outputs": [],
   "source": [
    "spark = SparkSession\\\n",
    "        .builder\\\n",
    "        .master('local[*]')\\\n",
    "        .appName('MvT')\\\n",
    "        .getOrCreate()"
   ]
  },
  {
   "cell_type": "code",
   "execution_count": 700,
   "metadata": {},
   "outputs": [],
   "source": [
    "blog = spark.read.csv('/spring2021/project1/blogtext.csv', header = True, inferSchema=True)"
   ]
  },
  {
   "cell_type": "code",
   "execution_count": 701,
   "metadata": {},
   "outputs": [],
   "source": [
    "hack = spark.read.csv('/spring2021/project1/hacker_news_sample.csv', header=True, inferSchema=True)"
   ]
  },
  {
   "cell_type": "code",
   "execution_count": 702,
   "metadata": {},
   "outputs": [],
   "source": [
    "f1 = open(\"/spring2021/project1/comparison/Charles Dickens - Cities.txt\", 'r')"
   ]
  },
  {
   "cell_type": "code",
   "execution_count": 703,
   "metadata": {},
   "outputs": [],
   "source": [
    "f2 = open(\"/spring2021/project1/comparison/Conan Doyle - Sherlock.txt\", 'r')"
   ]
  },
  {
   "cell_type": "code",
   "execution_count": 684,
   "metadata": {},
   "outputs": [],
   "source": [
    "f3 = open(\"/spring2021/project1/comparison/Herman Melville - Moby.txt\", 'r')"
   ]
  },
  {
   "cell_type": "code",
   "execution_count": 670,
   "metadata": {},
   "outputs": [],
   "source": [
    "f4 = open(\"/spring2021/project1/comparison/Jane Austen - Pride.txt\", 'r')"
   ]
  },
  {
   "cell_type": "code",
   "execution_count": 671,
   "metadata": {},
   "outputs": [],
   "source": [
    "f5 = open(\"/spring2021/project1/comparison/Mary Shelley - Frankenstein.txt\", 'r')"
   ]
  },
  {
   "cell_type": "code",
   "execution_count": 672,
   "metadata": {},
   "outputs": [],
   "source": [
    "f6 = open(\"/spring2021/project1/comparison/Nathaniel Hawthorne - Scarlet.txt\", 'r')"
   ]
  },
  {
   "cell_type": "code",
   "execution_count": 673,
   "metadata": {},
   "outputs": [],
   "source": [
    "f7 = open(\"/spring2021/project1/comparison/Scott Fitzgerald - Gatsby.txt\", 'r')"
   ]
  },
  {
   "cell_type": "markdown",
   "metadata": {},
   "source": [
    "**Calculating Lexical Richness for Traditional Texts**"
   ]
  },
  {
   "cell_type": "code",
   "execution_count": 140,
   "metadata": {},
   "outputs": [],
   "source": [
    "tradRaws = [f.read() for f in [f1, f2, f3, f4, f5, f6, f7]]\n",
    "\n",
    "def returnLexical(raw):\n",
    "    # Clean Raw\n",
    "    startin = raw.find(\" ***\") + 4\n",
    "    endin = raw.rfind(\"End of the Project Gutenberg\")\n",
    "    raw = raw[startin:endin]\n",
    "    # tokenize\n",
    "    tokens = nltk.word_tokenize(raw)\n",
    "    text = nltk.Text(tokens)\n",
    "    words = [w.lower() for w in text]\n",
    "    vocab = len(set(words))\n",
    "    length = len(words)\n",
    "    return (vocab/length)\n",
    "\n",
    "tradFDs = [returnLexical(raw) for raw in tradRaws]"
   ]
  },
  {
   "cell_type": "code",
   "execution_count": 141,
   "metadata": {},
   "outputs": [
    {
     "name": "stdout",
     "output_type": "stream",
     "text": [
      "0.07948531416423567\n"
     ]
    }
   ],
   "source": [
    "#Average Lexical Richness\n",
    "print(sum(tradFDs)/len(tradFDs))"
   ]
  },
  {
   "cell_type": "markdown",
   "metadata": {},
   "source": [
    "**Calculating Lexical Richness for Blog Texts**"
   ]
  },
  {
   "cell_type": "code",
   "execution_count": 705,
   "metadata": {},
   "outputs": [],
   "source": [
    "blogRDD = blog.select('text').rdd"
   ]
  },
  {
   "cell_type": "code",
   "execution_count": 659,
   "metadata": {},
   "outputs": [],
   "source": [
    "def returnLexical2(x):\n",
    "    raw = x['text']\n",
    "    tokens = nltk.word_tokenize(raw)\n",
    "    text = nltk.Text(tokens)\n",
    "    words = [w.lower() for w in text]\n",
    "    vocab = len(set(words))\n",
    "    length = len(words)\n",
    "    #score=vocab/length\n",
    "    return vocab\n"
   ]
  },
  {
   "cell_type": "code",
   "execution_count": 687,
   "metadata": {},
   "outputs": [],
   "source": [
    "scoreRDD = blogRDD.map(returnLexical2)"
   ]
  },
  {
   "cell_type": "code",
   "execution_count": 706,
   "metadata": {},
   "outputs": [],
   "source": [
    "from operator import add\n",
    "def returnLexical2(x):\n",
    "    raw = x['text']\n",
    "    tokens = nltk.word_tokenize(raw)\n",
    "    text = nltk.Text(tokens)\n",
    "    words = [w.lower() for w in text]\n",
    "    score = 0\n",
    "    length=1\n",
    "    vocab=0\n",
    "    for word in words:\n",
    "        length+=1\n",
    "    for word in set(words):\n",
    "        vocab+=1\n",
    "    score=vocab/length\n",
    "    return score\n",
    "\n",
    "scoreRDD = blogRDD.map(returnLexical2)"
   ]
  },
  {
   "cell_type": "code",
   "execution_count": 707,
   "metadata": {},
   "outputs": [
    {
     "data": {
      "text/plain": [
       "430918.9636495318"
      ]
     },
     "execution_count": 707,
     "metadata": {},
     "output_type": "execute_result"
    }
   ],
   "source": [
    "cumulScore = scoreRDD.reduce(add)\n",
    "cumulScore"
   ]
  },
  {
   "cell_type": "code",
   "execution_count": 708,
   "metadata": {},
   "outputs": [
    {
     "data": {
      "text/plain": [
       "0.6325100305445773"
      ]
     },
     "execution_count": 708,
     "metadata": {},
     "output_type": "execute_result"
    }
   ],
   "source": [
    "def avgMap(x):\n",
    "    return (x,1)\n",
    "\n",
    "def avgRed(x,y):\n",
    "    return (x[0] + y[0], x[1] + y[1])\n",
    "\n",
    "avgRDD = scoreRDD.map(avgMap)\n",
    "\n",
    "avgTup = avgRDD.reduce(avgRed)\n",
    "\n",
    "\n",
    "avg = avgTup[0]/avgTup[1]\n",
    "\n",
    "avg\n",
    "#240.18463078539932\n",
    "#116.02464170595522\n",
    "#0.4833"
   ]
  },
  {
   "cell_type": "markdown",
   "metadata": {},
   "source": [
    "**Calculating Lexical Richness for Blog Texts**"
   ]
  },
  {
   "cell_type": "code",
   "execution_count": 644,
   "metadata": {},
   "outputs": [],
   "source": [
    "hackRDD = hack.select('text').rdd"
   ]
  },
  {
   "cell_type": "code",
   "execution_count": 645,
   "metadata": {},
   "outputs": [],
   "source": [
    "from bs4 import BeautifulSoup\n",
    "def returnLexical3(x):\n",
    "    if x['text'] != None:\n",
    "        bs = BeautifulSoup(x['text'], 'lxml')\n",
    "        raw = bs.get_text()\n",
    "        tokens = nltk.word_tokenize(raw)\n",
    "        text = nltk.Text(tokens)\n",
    "        words = [w.lower() for w in text]\n",
    "        vocab = len(set(words))\n",
    "        length = len(words)\n",
    "        score=vocab/length\n",
    "    else:\n",
    "        score=0\n",
    "    return score\n"
   ]
  },
  {
   "cell_type": "code",
   "execution_count": 646,
   "metadata": {},
   "outputs": [],
   "source": [
    "scoreHackRDD = hackRDD.map(returnLexical3)"
   ]
  },
  {
   "cell_type": "code",
   "execution_count": 647,
   "metadata": {},
   "outputs": [
    {
     "data": {
      "text/plain": [
       "134692.215181225"
      ]
     },
     "execution_count": 647,
     "metadata": {},
     "output_type": "execute_result"
    }
   ],
   "source": [
    "cumulScore2 = scoreHackRDD.reduce(add)\n",
    "cumulScore2"
   ]
  },
  {
   "cell_type": "code",
   "execution_count": 648,
   "metadata": {},
   "outputs": [
    {
     "data": {
      "text/plain": [
       "0.6262802530431215"
      ]
     },
     "execution_count": 648,
     "metadata": {},
     "output_type": "execute_result"
    }
   ],
   "source": [
    "def avgMap(x):\n",
    "    return (x,1)\n",
    "\n",
    "def avgRed(x,y):\n",
    "    return (x[0] + y[0], x[1] + y[1])\n",
    "\n",
    "avgHackRDD = scoreHackRDD.map(avgMap)\n",
    "\n",
    "avgHackTup = avgHackRDD.reduce(avgRed)\n",
    "\n",
    "avg = avgHackTup[0]/avgHackTup[1]\n",
    "\n",
    "avg\n",
    "\n",
    "#0.6262802530431215"
   ]
  },
  {
   "cell_type": "code",
   "execution_count": 649,
   "metadata": {},
   "outputs": [],
   "source": [
    "spark.stop()"
   ]
  },
  {
   "cell_type": "code",
   "execution_count": null,
   "metadata": {},
   "outputs": [],
   "source": []
  }
 ],
 "metadata": {
  "kernelspec": {
   "display_name": "Python 3",
   "language": "python",
   "name": "python3"
  },
  "language_info": {
   "codemirror_mode": {
    "name": "ipython",
    "version": 3
   },
   "file_extension": ".py",
   "mimetype": "text/x-python",
   "name": "python",
   "nbconvert_exporter": "python",
   "pygments_lexer": "ipython3",
   "version": "3.6.9"
  }
 },
 "nbformat": 4,
 "nbformat_minor": 4
}
