{
 "cells": [
  {
   "cell_type": "code",
   "execution_count": 1,
   "metadata": {},
   "outputs": [],
   "source": [
    "import nltk\n",
    "import matplotlib.pyplot as plt\n",
    "%matplotlib inline"
   ]
  },
  {
   "cell_type": "code",
   "execution_count": 2,
   "metadata": {},
   "outputs": [],
   "source": [
    "from pyspark.sql import SparkSession\n",
    "from pyspark.sql"
   ]
  },
  {
   "cell_type": "code",
   "execution_count": 3,
   "metadata": {},
   "outputs": [],
   "source": [
    "spark = SparkSession\\\n",
    "        .builder\\\n",
    "        .master('local[*]')\\\n",
    "        .appName('MvT')\\\n",
    "        .getOrCreate()"
   ]
  },
  {
   "cell_type": "markdown",
   "metadata": {},
   "source": [
    "# Traditional POS Distributions"
   ]
  },
  {
   "cell_type": "code",
   "execution_count": 3,
   "metadata": {},
   "outputs": [],
   "source": [
    "f = open('/spring2021/project1/comparison/Charles Dickens - Cities.txt')"
   ]
  },
  {
   "cell_type": "code",
   "execution_count": 4,
   "metadata": {},
   "outputs": [],
   "source": [
    "raw = f.read()"
   ]
  },
  {
   "cell_type": "code",
   "execution_count": 5,
   "metadata": {},
   "outputs": [],
   "source": [
    "startin = raw.find(\" ***\") + 4"
   ]
  },
  {
   "cell_type": "code",
   "execution_count": 6,
   "metadata": {},
   "outputs": [],
   "source": [
    "endin = raw.rfind(\"End of the Project Gutenberg\")"
   ]
  },
  {
   "cell_type": "code",
   "execution_count": 7,
   "metadata": {},
   "outputs": [],
   "source": [
    "raw = raw[startin:endin]"
   ]
  },
  {
   "cell_type": "code",
   "execution_count": 8,
   "metadata": {},
   "outputs": [],
   "source": [
    "tokens = nltk.word_tokenize(raw)"
   ]
  },
  {
   "cell_type": "code",
   "execution_count": 9,
   "metadata": {},
   "outputs": [],
   "source": [
    "text = nltk.Text(tokens)"
   ]
  },
  {
   "cell_type": "code",
   "execution_count": 10,
   "metadata": {},
   "outputs": [],
   "source": [
    "words = [w.lower() for w in text]"
   ]
  },
  {
   "cell_type": "code",
   "execution_count": 11,
   "metadata": {},
   "outputs": [
    {
     "data": {
      "text/plain": [
       "166848"
      ]
     },
     "execution_count": 11,
     "metadata": {},
     "output_type": "execute_result"
    }
   ],
   "source": [
    "len(words)"
   ]
  },
  {
   "cell_type": "code",
   "execution_count": 28,
   "metadata": {},
   "outputs": [],
   "source": [
    "vocab = sorted(set(words))"
   ]
  },
  {
   "cell_type": "code",
   "execution_count": 28,
   "metadata": {},
   "outputs": [],
   "source": [
    "pos_words = nltk.pos_tag(text, tagset='universal')"
   ]
  },
  {
   "cell_type": "code",
   "execution_count": 29,
   "metadata": {},
   "outputs": [
    {
     "data": {
      "text/plain": [
       "[('Produced', 'VERB'),\n",
       " ('by', 'ADP'),\n",
       " ('Judith', 'NOUN'),\n",
       " ('Boss', 'NOUN'),\n",
       " (',', '.'),\n",
       " ('and', 'CONJ'),\n",
       " ('David', 'NOUN'),\n",
       " ('Widger', 'NOUN'),\n",
       " ('A', 'NOUN'),\n",
       " ('TALE', 'NOUN'),\n",
       " ('OF', 'NOUN'),\n",
       " ('TWO', 'NOUN'),\n",
       " ('CITIES', 'NOUN'),\n",
       " ('A', 'NOUN'),\n",
       " ('STORY', 'NOUN'),\n",
       " ('OF', 'ADP'),\n",
       " ('THE', 'NOUN'),\n",
       " ('FRENCH', 'NOUN'),\n",
       " ('REVOLUTION', 'NOUN'),\n",
       " ('By', 'ADP'),\n",
       " ('Charles', 'NOUN'),\n",
       " ('Dickens', 'NOUN'),\n",
       " ('CONTENTS', 'NOUN'),\n",
       " ('Book', 'NOUN'),\n",
       " ('the', 'DET'),\n",
       " ('First', 'NOUN'),\n",
       " ('--', '.'),\n",
       " ('Recalled', 'VERB'),\n",
       " ('to', 'PRT'),\n",
       " ('Life', 'NOUN'),\n",
       " ('CHAPTER', 'NOUN'),\n",
       " ('I', 'PRON'),\n",
       " ('The', 'DET'),\n",
       " ('Period', 'NOUN'),\n",
       " ('CHAPTER', 'NOUN'),\n",
       " ('II', 'NOUN'),\n",
       " ('The', 'DET'),\n",
       " ('Mail', 'NOUN'),\n",
       " ('CHAPTER', 'NOUN'),\n",
       " ('III', 'NOUN'),\n",
       " ('The', 'DET'),\n",
       " ('Night', 'NOUN'),\n",
       " ('Shadows', 'NOUN'),\n",
       " ('CHAPTER', 'NOUN'),\n",
       " ('IV', 'NOUN'),\n",
       " ('The', 'DET'),\n",
       " ('Preparation', 'NOUN'),\n",
       " ('CHAPTER', 'NOUN'),\n",
       " ('V', 'NOUN'),\n",
       " ('The', 'DET'),\n",
       " ('Wine-shop', 'NOUN'),\n",
       " ('CHAPTER', 'NOUN'),\n",
       " ('VI', 'NOUN'),\n",
       " ('The', 'DET'),\n",
       " ('Shoemaker', 'NOUN'),\n",
       " ('Book', 'NOUN'),\n",
       " ('the', 'DET'),\n",
       " ('Second', 'NOUN'),\n",
       " ('--', '.'),\n",
       " ('the', 'DET'),\n",
       " ('Golden', 'NOUN'),\n",
       " ('Thread', 'NOUN'),\n",
       " ('CHAPTER', 'NOUN'),\n",
       " ('I', 'PRON'),\n",
       " ('Five', 'NUM'),\n",
       " ('Years', 'NOUN'),\n",
       " ('Later', 'ADV'),\n",
       " ('CHAPTER', 'NOUN'),\n",
       " ('II', 'NOUN'),\n",
       " ('A', 'NOUN'),\n",
       " ('Sight', 'NOUN'),\n",
       " ('CHAPTER', 'NOUN'),\n",
       " ('III', 'NOUN'),\n",
       " ('A', 'NOUN'),\n",
       " ('Disappointment', 'NOUN'),\n",
       " ('CHAPTER', 'NOUN'),\n",
       " ('IV', 'NOUN'),\n",
       " ('Congratulatory', 'NOUN'),\n",
       " ('CHAPTER', 'NOUN'),\n",
       " ('V', 'NOUN'),\n",
       " ('The', 'DET'),\n",
       " ('Jackal', 'NOUN'),\n",
       " ('CHAPTER', 'NOUN'),\n",
       " ('VI', 'NOUN'),\n",
       " ('Hundreds', 'NOUN'),\n",
       " ('of', 'ADP'),\n",
       " ('People', 'NOUN'),\n",
       " ('CHAPTER', 'NOUN'),\n",
       " ('VII', 'NOUN'),\n",
       " ('Monseigneur', 'NOUN'),\n",
       " ('in', 'ADP'),\n",
       " ('Town', 'NOUN'),\n",
       " ('CHAPTER', 'NOUN'),\n",
       " ('VIII', 'NOUN'),\n",
       " ('Monseigneur', 'NOUN'),\n",
       " ('in', 'ADP'),\n",
       " ('the', 'DET'),\n",
       " ('Country', 'NOUN'),\n",
       " ('CHAPTER', 'NOUN'),\n",
       " ('IX', 'NOUN'),\n",
       " ('The', 'DET'),\n",
       " ('Gorgon', 'NOUN'),\n",
       " ('’', 'NOUN'),\n",
       " ('s', 'ADJ'),\n",
       " ('Head', 'NOUN'),\n",
       " ('CHAPTER', 'NOUN'),\n",
       " ('X', 'NOUN'),\n",
       " ('Two', 'NUM'),\n",
       " ('Promises', 'NOUN'),\n",
       " ('CHAPTER', 'NOUN'),\n",
       " ('XI', 'VERB'),\n",
       " ('A', 'DET'),\n",
       " ('Companion', 'NOUN'),\n",
       " ('Picture', 'NOUN'),\n",
       " ('CHAPTER', 'NOUN'),\n",
       " ('XII', 'NOUN'),\n",
       " ('The', 'DET'),\n",
       " ('Fellow', 'NOUN'),\n",
       " ('of', 'ADP'),\n",
       " ('Delicacy', 'NOUN'),\n",
       " ('CHAPTER', 'NOUN'),\n",
       " ('XIII', 'NOUN'),\n",
       " ('The', 'DET'),\n",
       " ('Fellow', 'NOUN'),\n",
       " ('of', 'ADP'),\n",
       " ('no', 'DET'),\n",
       " ('Delicacy', 'NOUN'),\n",
       " ('CHAPTER', 'NOUN'),\n",
       " ('XIV', 'NOUN'),\n",
       " ('The', 'DET'),\n",
       " ('Honest', 'NOUN'),\n",
       " ('Tradesman', 'NOUN'),\n",
       " ('CHAPTER', 'NOUN'),\n",
       " ('XV', 'NOUN'),\n",
       " ('Knitting', 'NOUN'),\n",
       " ('CHAPTER', 'NOUN'),\n",
       " ('XVI', 'NOUN'),\n",
       " ('Still', 'ADV'),\n",
       " ('Knitting', 'VERB'),\n",
       " ('CHAPTER', 'NOUN'),\n",
       " ('XVII', 'NOUN'),\n",
       " ('One', 'NOUN'),\n",
       " ('Night', 'NOUN'),\n",
       " ('CHAPTER', 'NOUN'),\n",
       " ('XVIII', 'NOUN'),\n",
       " ('Nine', 'NOUN'),\n",
       " ('Days', 'NOUN'),\n",
       " ('CHAPTER', 'NOUN'),\n",
       " ('XIX', 'NOUN'),\n",
       " ('An', 'DET'),\n",
       " ('Opinion', 'NOUN'),\n",
       " ('CHAPTER', 'NOUN'),\n",
       " ('XX', 'NOUN'),\n",
       " ('A', 'NOUN'),\n",
       " ('Plea', 'NOUN'),\n",
       " ('CHAPTER', 'NOUN'),\n",
       " ('XXI', 'NOUN'),\n",
       " ('Echoing', 'NOUN'),\n",
       " ('Footsteps', 'NOUN'),\n",
       " ('CHAPTER', 'NOUN'),\n",
       " ('XXII', 'NOUN'),\n",
       " ('The', 'DET'),\n",
       " ('Sea', 'NOUN'),\n",
       " ('Still', 'ADV'),\n",
       " ('Rises', 'VERB'),\n",
       " ('CHAPTER', 'NOUN'),\n",
       " ('XXIII', 'NOUN'),\n",
       " ('Fire', 'NOUN'),\n",
       " ('Rises', 'NOUN'),\n",
       " ('CHAPTER', 'NOUN'),\n",
       " ('XXIV', 'NOUN'),\n",
       " ('Drawn', 'NOUN'),\n",
       " ('to', 'PRT'),\n",
       " ('the', 'DET'),\n",
       " ('Loadstone', 'NOUN'),\n",
       " ('Rock', 'NOUN'),\n",
       " ('Book', 'NOUN'),\n",
       " ('the', 'DET'),\n",
       " ('Third', 'NOUN'),\n",
       " ('--', '.'),\n",
       " ('the', 'DET'),\n",
       " ('Track', 'NOUN'),\n",
       " ('of', 'ADP'),\n",
       " ('a', 'DET'),\n",
       " ('Storm', 'NOUN'),\n",
       " ('CHAPTER', 'NOUN'),\n",
       " ('I', 'PRON'),\n",
       " ('In', 'ADP'),\n",
       " ('Secret', 'NOUN'),\n",
       " ('CHAPTER', 'NOUN'),\n",
       " ('II', 'NOUN'),\n",
       " ('The', 'DET'),\n",
       " ('Grindstone', 'NOUN'),\n",
       " ('CHAPTER', 'NOUN'),\n",
       " ('III', 'NOUN'),\n",
       " ('The', 'DET'),\n",
       " ('Shadow', 'NOUN'),\n",
       " ('CHAPTER', 'NOUN'),\n",
       " ('IV', 'NOUN'),\n",
       " ('Calm', 'NOUN'),\n",
       " ('in', 'ADP'),\n",
       " ('Storm', 'NOUN'),\n",
       " ('CHAPTER', 'NOUN'),\n",
       " ('V', 'NOUN'),\n",
       " ('The', 'DET'),\n",
       " ('Wood-sawyer', 'NOUN'),\n",
       " ('CHAPTER', 'NOUN'),\n",
       " ('VI', 'NOUN'),\n",
       " ('Triumph', 'NOUN'),\n",
       " ('CHAPTER', 'NOUN'),\n",
       " ('VII', 'NOUN'),\n",
       " ('A', 'NOUN'),\n",
       " ('Knock', 'NOUN'),\n",
       " ('at', 'ADP'),\n",
       " ('the', 'DET'),\n",
       " ('Door', 'NOUN'),\n",
       " ('CHAPTER', 'NOUN'),\n",
       " ('VIII', 'NOUN'),\n",
       " ('A', 'NOUN'),\n",
       " ('Hand', 'NOUN'),\n",
       " ('at', 'ADP'),\n",
       " ('Cards', 'NOUN'),\n",
       " ('CHAPTER', 'NOUN'),\n",
       " ('IX', 'NOUN'),\n",
       " ('The', 'DET'),\n",
       " ('Game', 'NOUN'),\n",
       " ('Made', 'NOUN'),\n",
       " ('CHAPTER', 'NOUN'),\n",
       " ('X', 'NOUN'),\n",
       " ('The', 'DET'),\n",
       " ('Substance', 'NOUN'),\n",
       " ('of', 'ADP'),\n",
       " ('the', 'DET'),\n",
       " ('Shadow', 'NOUN'),\n",
       " ('CHAPTER', 'NOUN'),\n",
       " ('XI', 'NOUN'),\n",
       " ('Dusk', 'NOUN'),\n",
       " ('CHAPTER', 'NOUN'),\n",
       " ('XII', 'NOUN'),\n",
       " ('Darkness', 'NOUN'),\n",
       " ('CHAPTER', 'NOUN'),\n",
       " ('XIII', 'NOUN'),\n",
       " ('Fifty-two', 'NOUN'),\n",
       " ('CHAPTER', 'NOUN'),\n",
       " ('XIV', 'NOUN'),\n",
       " ('The', 'DET'),\n",
       " ('Knitting', 'NOUN'),\n",
       " ('Done', 'NOUN'),\n",
       " ('CHAPTER', 'NOUN'),\n",
       " ('XV', 'NOUN'),\n",
       " ('The', 'DET'),\n",
       " ('Footsteps', 'NOUN'),\n",
       " ('Die', 'NOUN'),\n",
       " ('Out', 'NOUN'),\n",
       " ('For', 'ADP'),\n",
       " ('Ever', 'NOUN'),\n",
       " ('Book', 'NOUN'),\n",
       " ('the', 'DET'),\n",
       " ('First', 'NOUN'),\n",
       " ('--', '.'),\n",
       " ('Recalled', 'VERB'),\n",
       " ('to', 'PRT'),\n",
       " ('Life', 'NOUN'),\n",
       " ('CHAPTER', 'NOUN'),\n",
       " ('I', 'PRON'),\n",
       " ('.', '.'),\n",
       " ('The', 'DET'),\n",
       " ('Period', 'NOUN'),\n",
       " ('It', 'PRON'),\n",
       " ('was', 'VERB'),\n",
       " ('the', 'DET'),\n",
       " ('best', 'ADJ'),\n",
       " ('of', 'ADP'),\n",
       " ('times', 'NOUN'),\n",
       " (',', '.'),\n",
       " ('it', 'PRON'),\n",
       " ('was', 'VERB'),\n",
       " ('the', 'DET'),\n",
       " ('worst', 'ADJ'),\n",
       " ('of', 'ADP'),\n",
       " ('times', 'NOUN'),\n",
       " (',', '.'),\n",
       " ('it', 'PRON'),\n",
       " ('was', 'VERB'),\n",
       " ('the', 'DET'),\n",
       " ('age', 'NOUN'),\n",
       " ('of', 'ADP'),\n",
       " ('wisdom', 'NOUN'),\n",
       " (',', '.'),\n",
       " ('it', 'PRON'),\n",
       " ('was', 'VERB'),\n",
       " ('the', 'DET'),\n",
       " ('age', 'NOUN'),\n",
       " ('of', 'ADP'),\n",
       " ('foolishness', 'NOUN'),\n",
       " (',', '.'),\n",
       " ('it', 'PRON'),\n",
       " ('was', 'VERB'),\n",
       " ('the', 'DET'),\n",
       " ('epoch', 'NOUN'),\n",
       " ('of', 'ADP'),\n",
       " ('belief', 'NOUN'),\n",
       " (',', '.'),\n",
       " ('it', 'PRON'),\n",
       " ('was', 'VERB'),\n",
       " ('the', 'DET'),\n",
       " ('epoch', 'NOUN'),\n",
       " ('of', 'ADP'),\n",
       " ('incredulity', 'NOUN'),\n",
       " (',', '.'),\n",
       " ('it', 'PRON'),\n",
       " ('was', 'VERB'),\n",
       " ('the', 'DET'),\n",
       " ('season', 'NOUN'),\n",
       " ('of', 'ADP'),\n",
       " ('Light', 'NOUN'),\n",
       " (',', '.'),\n",
       " ('it', 'PRON'),\n",
       " ('was', 'VERB'),\n",
       " ('the', 'DET'),\n",
       " ('season', 'NOUN'),\n",
       " ('of', 'ADP'),\n",
       " ('Darkness', 'NOUN'),\n",
       " (',', '.'),\n",
       " ('it', 'PRON'),\n",
       " ('was', 'VERB'),\n",
       " ('the', 'DET'),\n",
       " ('spring', 'NOUN'),\n",
       " ('of', 'ADP'),\n",
       " ('hope', 'NOUN'),\n",
       " (',', '.'),\n",
       " ('it', 'PRON'),\n",
       " ('was', 'VERB'),\n",
       " ('the', 'DET'),\n",
       " ('winter', 'NOUN'),\n",
       " ('of', 'ADP'),\n",
       " ('despair', 'NOUN'),\n",
       " (',', '.'),\n",
       " ('we', 'PRON'),\n",
       " ('had', 'VERB'),\n",
       " ('everything', 'NOUN'),\n",
       " ('before', 'ADP'),\n",
       " ('us', 'PRON'),\n",
       " (',', '.'),\n",
       " ('we', 'PRON'),\n",
       " ('had', 'VERB'),\n",
       " ('nothing', 'NOUN'),\n",
       " ('before', 'ADP'),\n",
       " ('us', 'PRON'),\n",
       " (',', '.'),\n",
       " ('we', 'PRON'),\n",
       " ('were', 'VERB'),\n",
       " ('all', 'DET'),\n",
       " ('going', 'VERB'),\n",
       " ('direct', 'ADJ'),\n",
       " ('to', 'PRT'),\n",
       " ('Heaven', 'NOUN'),\n",
       " (',', '.'),\n",
       " ('we', 'PRON'),\n",
       " ('were', 'VERB'),\n",
       " ('all', 'DET'),\n",
       " ('going', 'VERB'),\n",
       " ('direct', 'ADJ'),\n",
       " ('the', 'DET'),\n",
       " ('other', 'ADJ'),\n",
       " ('way', 'NOUN'),\n",
       " ('--', '.'),\n",
       " ('in', 'ADP'),\n",
       " ('short', 'ADJ'),\n",
       " (',', '.'),\n",
       " ('the', 'DET'),\n",
       " ('period', 'NOUN'),\n",
       " ('was', 'VERB'),\n",
       " ('so', 'ADV'),\n",
       " ('far', 'ADV'),\n",
       " ('like', 'ADP'),\n",
       " ('the', 'DET'),\n",
       " ('present', 'ADJ'),\n",
       " ('period', 'NOUN'),\n",
       " (',', '.'),\n",
       " ('that', 'ADP'),\n",
       " ('some', 'DET'),\n",
       " ('of', 'ADP'),\n",
       " ('its', 'PRON'),\n",
       " ('noisiest', 'ADJ'),\n",
       " ('authorities', 'NOUN'),\n",
       " ('insisted', 'VERB'),\n",
       " ('on', 'ADP'),\n",
       " ('its', 'PRON'),\n",
       " ('being', 'VERB'),\n",
       " ('received', 'VERB'),\n",
       " (',', '.'),\n",
       " ('for', 'ADP'),\n",
       " ('good', 'ADJ'),\n",
       " ('or', 'CONJ'),\n",
       " ('for', 'ADP'),\n",
       " ('evil', 'ADJ'),\n",
       " (',', '.'),\n",
       " ('in', 'ADP'),\n",
       " ('the', 'DET'),\n",
       " ('superlative', 'ADJ'),\n",
       " ('degree', 'NOUN'),\n",
       " ('of', 'ADP'),\n",
       " ('comparison', 'NOUN'),\n",
       " ('only', 'ADV'),\n",
       " ('.', '.'),\n",
       " ('There', 'DET'),\n",
       " ('were', 'VERB'),\n",
       " ('a', 'DET'),\n",
       " ('king', 'NOUN'),\n",
       " ('with', 'ADP'),\n",
       " ('a', 'DET'),\n",
       " ('large', 'ADJ'),\n",
       " ('jaw', 'NOUN'),\n",
       " ('and', 'CONJ'),\n",
       " ('a', 'DET'),\n",
       " ('queen', 'NOUN'),\n",
       " ('with', 'ADP'),\n",
       " ('a', 'DET'),\n",
       " ('plain', 'NOUN'),\n",
       " ('face', 'NOUN'),\n",
       " (',', '.'),\n",
       " ('on', 'ADP'),\n",
       " ('the', 'DET'),\n",
       " ('throne', 'NOUN'),\n",
       " ('of', 'ADP'),\n",
       " ('England', 'NOUN'),\n",
       " (';', '.'),\n",
       " ('there', 'DET'),\n",
       " ('were', 'VERB'),\n",
       " ('a', 'DET'),\n",
       " ('king', 'NOUN'),\n",
       " ('with', 'ADP'),\n",
       " ('a', 'DET'),\n",
       " ('large', 'ADJ'),\n",
       " ('jaw', 'NOUN'),\n",
       " ('and', 'CONJ'),\n",
       " ('a', 'DET'),\n",
       " ('queen', 'NOUN'),\n",
       " ('with', 'ADP'),\n",
       " ('a', 'DET'),\n",
       " ('fair', 'ADJ'),\n",
       " ('face', 'NOUN'),\n",
       " (',', '.'),\n",
       " ('on', 'ADP'),\n",
       " ('the', 'DET'),\n",
       " ('throne', 'NOUN'),\n",
       " ('of', 'ADP'),\n",
       " ('France', 'NOUN'),\n",
       " ('.', '.'),\n",
       " ('In', 'ADP'),\n",
       " ('both', 'DET'),\n",
       " ('countries', 'NOUN'),\n",
       " ('it', 'PRON'),\n",
       " ('was', 'VERB'),\n",
       " ('clearer', 'ADJ'),\n",
       " ('than', 'ADP'),\n",
       " ('crystal', 'NOUN'),\n",
       " ('to', 'PRT'),\n",
       " ('the', 'DET'),\n",
       " ('lords', 'NOUN'),\n",
       " ('of', 'ADP'),\n",
       " ('the', 'DET'),\n",
       " ('State', 'NOUN'),\n",
       " ('preserves', 'NOUN'),\n",
       " ('of', 'ADP'),\n",
       " ('loaves', 'NOUN'),\n",
       " ('and', 'CONJ'),\n",
       " ('fishes', 'NOUN'),\n",
       " (',', '.'),\n",
       " ('that', 'DET'),\n",
       " ('things', 'NOUN'),\n",
       " ('in', 'ADP'),\n",
       " ('general', 'ADJ'),\n",
       " ('were', 'VERB'),\n",
       " ('settled', 'VERB'),\n",
       " ('for', 'ADP'),\n",
       " ('ever', 'ADV'),\n",
       " ('.', '.'),\n",
       " ('It', 'PRON'),\n",
       " ('was', 'VERB'),\n",
       " ('the', 'DET'),\n",
       " ('year', 'NOUN'),\n",
       " ('of', 'ADP'),\n",
       " ('Our', 'PRON'),\n",
       " ('Lord', 'NOUN'),\n",
       " ('one', 'NUM'),\n",
       " ('thousand', 'NOUN'),\n",
       " ('seven', 'NUM'),\n",
       " ('hundred', 'NUM'),\n",
       " ('and', 'CONJ'),\n",
       " ('seventy-five', 'ADJ'),\n",
       " ('.', '.'),\n",
       " ('Spiritual', 'ADJ'),\n",
       " ('revelations', 'NOUN'),\n",
       " ('were', 'VERB'),\n",
       " ('conceded', 'VERB'),\n",
       " ('to', 'PRT'),\n",
       " ('England', 'NOUN'),\n",
       " ('at', 'ADP'),\n",
       " ('that', 'DET'),\n",
       " ('favoured', 'ADJ'),\n",
       " ('period', 'NOUN'),\n",
       " (',', '.'),\n",
       " ('as', 'ADP'),\n",
       " ('at', 'ADP'),\n",
       " ('this', 'DET'),\n",
       " ('.', '.'),\n",
       " ('Mrs.', 'NOUN'),\n",
       " ('Southcott', 'NOUN'),\n",
       " ('had', 'VERB'),\n",
       " ('recently', 'ADV'),\n",
       " ('attained', 'VERB'),\n",
       " ('her', 'PRON'),\n",
       " ('five-and-twentieth', 'ADJ'),\n",
       " ('blessed', 'ADJ'),\n",
       " ('birthday', 'NOUN'),\n",
       " (',', '.'),\n",
       " ('of', 'ADP'),\n",
       " ('whom', 'PRON'),\n",
       " ('a', 'DET'),\n",
       " ('prophetic', 'ADJ'),\n",
       " ('private', 'ADJ'),\n",
       " ('in', 'ADP'),\n",
       " ('the', 'DET'),\n",
       " ('Life', 'NOUN'),\n",
       " ('Guards', 'NOUN'),\n",
       " ('had', 'VERB'),\n",
       " ('heralded', 'VERB'),\n",
       " ('the', 'DET'),\n",
       " ('sublime', 'ADJ'),\n",
       " ('appearance', 'NOUN'),\n",
       " ('by', 'ADP'),\n",
       " ('announcing', 'VERB'),\n",
       " ('that', 'ADP'),\n",
       " ('arrangements', 'NOUN'),\n",
       " ('were', 'VERB'),\n",
       " ('made', 'VERB'),\n",
       " ('for', 'ADP'),\n",
       " ('the', 'DET'),\n",
       " ('swallowing', 'VERB'),\n",
       " ('up', 'ADP'),\n",
       " ('of', 'ADP'),\n",
       " ('London', 'NOUN'),\n",
       " ('and', 'CONJ'),\n",
       " ('Westminster', 'NOUN'),\n",
       " ('.', '.'),\n",
       " ('Even', 'ADV'),\n",
       " ('the', 'DET'),\n",
       " ('Cock-lane', 'NOUN'),\n",
       " ('ghost', 'NOUN'),\n",
       " ('had', 'VERB'),\n",
       " ('been', 'VERB'),\n",
       " ('laid', 'VERB'),\n",
       " ('only', 'ADV'),\n",
       " ('a', 'DET'),\n",
       " ('round', 'NOUN'),\n",
       " ('dozen', 'NOUN'),\n",
       " ('of', 'ADP'),\n",
       " ('years', 'NOUN'),\n",
       " (',', '.'),\n",
       " ('after', 'ADP'),\n",
       " ('rapping', 'VERB'),\n",
       " ('out', 'PRT'),\n",
       " ('its', 'PRON'),\n",
       " ('messages', 'NOUN'),\n",
       " (',', '.'),\n",
       " ('as', 'ADP'),\n",
       " ('the', 'DET'),\n",
       " ('spirits', 'NOUN'),\n",
       " ('of', 'ADP'),\n",
       " ('this', 'DET'),\n",
       " ('very', 'ADV'),\n",
       " ('year', 'NOUN'),\n",
       " ('last', 'ADJ'),\n",
       " ('past', 'NOUN'),\n",
       " ('(', '.'),\n",
       " ('supernaturally', 'ADV'),\n",
       " ('deficient', 'VERB'),\n",
       " ('in', 'ADP'),\n",
       " ('originality', 'NOUN'),\n",
       " (')', '.'),\n",
       " ('rapped', 'VERB'),\n",
       " ('out', 'PRT'),\n",
       " ('theirs', 'NOUN'),\n",
       " ('.', '.'),\n",
       " ('Mere', 'NOUN'),\n",
       " ('messages', 'NOUN'),\n",
       " ('in', 'ADP'),\n",
       " ('the', 'DET'),\n",
       " ('earthly', 'ADJ'),\n",
       " ('order', 'NOUN'),\n",
       " ('of', 'ADP'),\n",
       " ('events', 'NOUN'),\n",
       " ('had', 'VERB'),\n",
       " ('lately', 'ADV'),\n",
       " ('come', 'VERB'),\n",
       " ('to', 'PRT'),\n",
       " ('the', 'DET'),\n",
       " ('English', 'NOUN'),\n",
       " ('Crown', 'NOUN'),\n",
       " ('and', 'CONJ'),\n",
       " ('People', 'NOUN'),\n",
       " (',', '.'),\n",
       " ('from', 'ADP'),\n",
       " ('a', 'DET'),\n",
       " ('congress', 'NOUN'),\n",
       " ('of', 'ADP'),\n",
       " ('British', 'ADJ'),\n",
       " ('subjects', 'NOUN'),\n",
       " ('in', 'ADP'),\n",
       " ('America', 'NOUN'),\n",
       " (':', '.'),\n",
       " ('which', 'DET'),\n",
       " (',', '.'),\n",
       " ('strange', 'VERB'),\n",
       " ('to', 'PRT'),\n",
       " ('relate', 'VERB'),\n",
       " (',', '.'),\n",
       " ('have', 'VERB'),\n",
       " ('proved', 'VERB'),\n",
       " ('more', 'ADV'),\n",
       " ('important', 'ADJ'),\n",
       " ('to', 'PRT'),\n",
       " ('the', 'DET'),\n",
       " ('human', 'ADJ'),\n",
       " ('race', 'NOUN'),\n",
       " ('than', 'ADP'),\n",
       " ('any', 'DET'),\n",
       " ('communications', 'NOUN'),\n",
       " ('yet', 'ADV'),\n",
       " ('received', 'VERB'),\n",
       " ('through', 'ADP'),\n",
       " ('any', 'DET'),\n",
       " ('of', 'ADP'),\n",
       " ('the', 'DET'),\n",
       " ('chickens', 'NOUN'),\n",
       " ('of', 'ADP'),\n",
       " ('the', 'DET'),\n",
       " ('Cock-lane', 'NOUN'),\n",
       " ('brood', 'NOUN'),\n",
       " ('.', '.'),\n",
       " ('France', 'NOUN'),\n",
       " (',', '.'),\n",
       " ('less', 'ADV'),\n",
       " ('favoured', 'VERB'),\n",
       " ('on', 'ADP'),\n",
       " ('the', 'DET'),\n",
       " ('whole', 'NOUN'),\n",
       " ('as', 'ADP'),\n",
       " ('to', 'PRT'),\n",
       " ('matters', 'NOUN'),\n",
       " ('spiritual', 'ADJ'),\n",
       " ('than', 'ADP'),\n",
       " ('her', 'PRON'),\n",
       " ('sister', 'NOUN'),\n",
       " ('of', 'ADP'),\n",
       " ('the', 'DET'),\n",
       " ('shield', 'NOUN'),\n",
       " ('and', 'CONJ'),\n",
       " ('trident', 'NOUN'),\n",
       " (',', '.'),\n",
       " ('rolled', 'VERB'),\n",
       " ('with', 'ADP'),\n",
       " ('exceeding', 'VERB'),\n",
       " ('smoothness', 'ADJ'),\n",
       " ('down', 'ADV'),\n",
       " ('hill', 'NOUN'),\n",
       " (',', '.'),\n",
       " ('making', 'VERB'),\n",
       " ('paper', 'NOUN'),\n",
       " ('money', 'NOUN'),\n",
       " ('and', 'CONJ'),\n",
       " ('spending', 'NOUN'),\n",
       " ('it', 'PRON'),\n",
       " ('.', '.'),\n",
       " ('Under', 'ADP'),\n",
       " ('the', 'DET'),\n",
       " ('guidance', 'NOUN'),\n",
       " ('of', 'ADP'),\n",
       " ('her', 'PRON'),\n",
       " ('Christian', 'ADJ'),\n",
       " ('pastors', 'NOUN'),\n",
       " (',', '.'),\n",
       " ('she', 'PRON'),\n",
       " ('entertained', 'VERB'),\n",
       " ('herself', 'PRON'),\n",
       " (',', '.'),\n",
       " ('besides', 'NOUN'),\n",
       " (',', '.'),\n",
       " ('with', 'ADP'),\n",
       " ('such', 'ADJ'),\n",
       " ('humane', 'NOUN'),\n",
       " ('achievements', 'NOUN'),\n",
       " ('as', 'ADP'),\n",
       " ('sentencing', 'VERB'),\n",
       " ('a', 'DET'),\n",
       " ('youth', 'NOUN'),\n",
       " ('to', 'PRT'),\n",
       " ('have', 'VERB'),\n",
       " ('his', 'PRON'),\n",
       " ('hands', 'NOUN'),\n",
       " ('cut', 'VERB'),\n",
       " ('off', 'PRT'),\n",
       " (',', '.'),\n",
       " ('his', 'PRON'),\n",
       " ('tongue', 'NOUN'),\n",
       " ('torn', 'VERB'),\n",
       " ('out', 'PRT'),\n",
       " ('with', 'ADP'),\n",
       " ('pincers', 'NOUN'),\n",
       " (',', '.'),\n",
       " ('and', 'CONJ'),\n",
       " ('his', 'PRON'),\n",
       " ('body', 'NOUN'),\n",
       " ('burned', 'VERB'),\n",
       " ('alive', 'ADJ'),\n",
       " (',', '.'),\n",
       " ('because', 'ADP'),\n",
       " ('he', 'PRON'),\n",
       " ('had', 'VERB'),\n",
       " ('not', 'ADV'),\n",
       " ('kneeled', 'VERB'),\n",
       " ('down', 'PRT'),\n",
       " ('in', 'ADP'),\n",
       " ('the', 'DET'),\n",
       " ('rain', 'NOUN'),\n",
       " ('to', 'PRT'),\n",
       " ('do', 'VERB'),\n",
       " ('honour', 'VERB'),\n",
       " ('to', 'PRT'),\n",
       " ('a', 'DET'),\n",
       " ('dirty', 'ADJ'),\n",
       " ('procession', 'NOUN'),\n",
       " ('of', 'ADP'),\n",
       " ('monks', 'NOUN'),\n",
       " ('which', 'DET'),\n",
       " ('passed', 'VERB'),\n",
       " ('within', 'ADP'),\n",
       " ('his', 'PRON'),\n",
       " ('view', 'NOUN'),\n",
       " (',', '.'),\n",
       " ('at', 'ADP'),\n",
       " ('a', 'DET'),\n",
       " ('distance', 'NOUN'),\n",
       " ('of', 'ADP'),\n",
       " ('some', 'DET'),\n",
       " ('fifty', 'NOUN'),\n",
       " ('or', 'CONJ'),\n",
       " ('sixty', 'NOUN'),\n",
       " ('yards', 'NOUN'),\n",
       " ('.', '.'),\n",
       " ('It', 'PRON'),\n",
       " ('is', 'VERB'),\n",
       " ('likely', 'ADJ'),\n",
       " ('enough', 'ADV'),\n",
       " ('that', 'ADP'),\n",
       " (',', '.'),\n",
       " ('rooted', 'VERB'),\n",
       " ('in', 'ADP'),\n",
       " ('the', 'DET'),\n",
       " ('woods', 'NOUN'),\n",
       " ('of', 'ADP'),\n",
       " ('France', 'NOUN'),\n",
       " ('and', 'CONJ'),\n",
       " ('Norway', 'NOUN'),\n",
       " (',', '.'),\n",
       " ('there', 'DET'),\n",
       " ('were', 'VERB'),\n",
       " ('growing', 'VERB'),\n",
       " ('trees', 'NOUN'),\n",
       " (',', '.'),\n",
       " ('when', 'ADV'),\n",
       " ('that', 'DET'),\n",
       " ('sufferer', 'NOUN'),\n",
       " ('was', 'VERB'),\n",
       " ('put', 'VERB'),\n",
       " ('to', 'PRT'),\n",
       " ('death', 'NOUN'),\n",
       " (',', '.'),\n",
       " ('already', 'ADV'),\n",
       " ('marked', 'VERB'),\n",
       " ('by', 'ADP'),\n",
       " ('the', 'DET'),\n",
       " ('Woodman', 'NOUN'),\n",
       " (',', '.'),\n",
       " ('Fate', 'NOUN'),\n",
       " (',', '.'),\n",
       " ('to', 'PRT'),\n",
       " ('come', 'VERB'),\n",
       " ('down', 'PRT'),\n",
       " ('and', 'CONJ'),\n",
       " ('be', 'VERB'),\n",
       " ('sawn', 'VERB'),\n",
       " ('into', 'ADP'),\n",
       " ('boards', 'NOUN'),\n",
       " (',', '.'),\n",
       " ('to', 'PRT'),\n",
       " ('make', 'VERB'),\n",
       " ('a', 'DET'),\n",
       " ('certain', 'ADJ'),\n",
       " ('movable', 'ADJ'),\n",
       " ('framework', 'NOUN'),\n",
       " ('with', 'ADP'),\n",
       " ('a', 'DET'),\n",
       " ('sack', 'NOUN'),\n",
       " ('and', 'CONJ'),\n",
       " ('a', 'DET'),\n",
       " ('knife', 'NOUN'),\n",
       " ('in', 'ADP'),\n",
       " ('it', 'PRON'),\n",
       " (',', '.'),\n",
       " ('terrible', 'ADJ'),\n",
       " ('in', 'ADP'),\n",
       " ('history', 'NOUN'),\n",
       " ('.', '.'),\n",
       " ('It', 'PRON'),\n",
       " ('is', 'VERB'),\n",
       " ('likely', 'ADJ'),\n",
       " ('enough', 'ADV'),\n",
       " ('that', 'ADP'),\n",
       " ('in', 'ADP'),\n",
       " ('the', 'DET'),\n",
       " ('rough', 'ADJ'),\n",
       " ('outhouses', 'NOUN'),\n",
       " ('of', 'ADP'),\n",
       " ('some', 'DET'),\n",
       " ('tillers', 'NOUN'),\n",
       " ('of', 'ADP'),\n",
       " ('the', 'DET'),\n",
       " ('heavy', 'ADJ'),\n",
       " ('lands', 'NOUN'),\n",
       " ('adjacent', 'ADJ'),\n",
       " ('to', 'PRT'),\n",
       " ('Paris', 'NOUN'),\n",
       " (',', '.'),\n",
       " ('there', 'DET'),\n",
       " ('were', 'VERB'),\n",
       " ('sheltered', 'VERB'),\n",
       " ('from', 'ADP'),\n",
       " ('the', 'DET'),\n",
       " ('weather', 'NOUN'),\n",
       " ('that', 'DET'),\n",
       " ('very', 'ADV'),\n",
       " ('day', 'NOUN'),\n",
       " (',', '.'),\n",
       " ('rude', 'NOUN'),\n",
       " ('carts', 'NOUN'),\n",
       " (',', '.'),\n",
       " ('bespattered', 'VERB'),\n",
       " ('with', 'ADP'),\n",
       " ('rustic', 'ADJ'),\n",
       " ('mire', 'NOUN'),\n",
       " (',', '.'),\n",
       " ('snuffed', 'VERB'),\n",
       " ('about', 'ADP'),\n",
       " ('by', 'ADP'),\n",
       " ('pigs', 'NOUN'),\n",
       " (',', '.'),\n",
       " ('and', 'CONJ'),\n",
       " ('roosted', 'VERB'),\n",
       " ('in', 'ADP'),\n",
       " ('by', 'ADP'),\n",
       " ('poultry', 'NOUN'),\n",
       " (',', '.'),\n",
       " ('which', 'DET'),\n",
       " ('the', 'DET'),\n",
       " ('Farmer', 'NOUN'),\n",
       " (',', '.'),\n",
       " ('Death', 'NOUN'),\n",
       " (',', '.'),\n",
       " ('had', 'VERB'),\n",
       " ('already', 'ADV'),\n",
       " ('set', 'VERB'),\n",
       " ('apart', 'ADV'),\n",
       " ('to', 'PRT'),\n",
       " ('be', 'VERB'),\n",
       " ('his', 'PRON'),\n",
       " ('tumbrils', 'NOUN'),\n",
       " ('of', 'ADP'),\n",
       " ('the', 'DET'),\n",
       " ('Revolution', 'NOUN'),\n",
       " ('.', '.'),\n",
       " ('But', 'CONJ'),\n",
       " ('that', 'ADP'),\n",
       " ('Woodman', 'NOUN'),\n",
       " ('and', 'CONJ'),\n",
       " ('that', 'ADP'),\n",
       " ('Farmer', 'NOUN'),\n",
       " (',', '.'),\n",
       " ('though', 'ADP'),\n",
       " ('they', 'PRON'),\n",
       " ('work', 'VERB'),\n",
       " ('unceasingly', 'ADV'),\n",
       " (',', '.'),\n",
       " ('work', 'NOUN'),\n",
       " ('silently', 'ADV'),\n",
       " (',', '.'),\n",
       " ('and', 'CONJ'),\n",
       " ('no', 'DET'),\n",
       " ('one', 'NUM'),\n",
       " ('heard', 'VERB'),\n",
       " ('them', 'PRON'),\n",
       " ('as', 'ADP'),\n",
       " ('they', 'PRON'),\n",
       " ('went', 'VERB'),\n",
       " ('about', 'ADP'),\n",
       " ('with', 'ADP'),\n",
       " ('muffled', 'ADJ'),\n",
       " ('tread', 'NOUN'),\n",
       " (':', '.'),\n",
       " ('the', 'DET'),\n",
       " ('rather', 'ADV'),\n",
       " (',', '.'),\n",
       " ('forasmuch', 'ADJ'),\n",
       " ('as', 'ADP'),\n",
       " ('to', 'PRT'),\n",
       " ('entertain', 'VERB'),\n",
       " ('any', 'DET'),\n",
       " ('suspicion', 'NOUN'),\n",
       " ('that', 'ADP'),\n",
       " ('they', 'PRON'),\n",
       " ('were', 'VERB'),\n",
       " ('awake', 'VERB'),\n",
       " (',', '.'),\n",
       " ('was', 'VERB'),\n",
       " ('to', 'PRT'),\n",
       " ('be', 'VERB'),\n",
       " ('atheistical', 'ADJ'),\n",
       " ('and', 'CONJ'),\n",
       " ('traitorous', 'ADJ'),\n",
       " ('.', '.'),\n",
       " ('In', 'ADP'),\n",
       " ('England', 'NOUN'),\n",
       " (',', '.'),\n",
       " ('there', 'DET'),\n",
       " ('was', 'VERB'),\n",
       " ('scarcely', 'ADV'),\n",
       " ('an', 'DET'),\n",
       " ('amount', 'NOUN'),\n",
       " ('of', 'ADP'),\n",
       " ('order', 'NOUN'),\n",
       " ('and', 'CONJ'),\n",
       " ('protection', 'NOUN'),\n",
       " ('to', 'PRT'),\n",
       " ('justify', 'VERB'),\n",
       " ('much', 'ADJ'),\n",
       " ('national', 'ADJ'),\n",
       " ('boasting', 'NOUN'),\n",
       " ('.', '.'),\n",
       " ('Daring', 'VERB'),\n",
       " ('burglaries', 'NOUN'),\n",
       " ('by', 'ADP'),\n",
       " ('armed', 'VERB'),\n",
       " ('men', 'NOUN'),\n",
       " (',', '.'),\n",
       " ('and', 'CONJ'),\n",
       " ('highway', 'NOUN'),\n",
       " ('robberies', 'NOUN'),\n",
       " (',', '.'),\n",
       " ('took', 'VERB'),\n",
       " ('place', 'NOUN'),\n",
       " ('in', 'ADP'),\n",
       " ('the', 'DET'),\n",
       " ('capital', 'NOUN'),\n",
       " ('itself', 'PRON'),\n",
       " ('every', 'DET'),\n",
       " ('night', 'NOUN'),\n",
       " (';', '.'),\n",
       " ('families', 'NOUN'),\n",
       " ('were', 'VERB'),\n",
       " ('publicly', 'ADV'),\n",
       " ('cautioned', 'VERB'),\n",
       " ('not', 'ADV'),\n",
       " ('to', 'PRT'),\n",
       " ('go', 'VERB'),\n",
       " ('out', 'ADP'),\n",
       " ('of', 'ADP'),\n",
       " ('town', 'NOUN'),\n",
       " ('without', 'ADP'),\n",
       " ('removing', 'VERB'),\n",
       " ('their', 'PRON'),\n",
       " ('furniture', 'NOUN'),\n",
       " ('to', 'PRT'),\n",
       " ('upholsterers', 'NOUN'),\n",
       " ('’', 'VERB'),\n",
       " ('warehouses', 'NOUN'),\n",
       " ('for', 'ADP'),\n",
       " ('security', 'NOUN'),\n",
       " (';', '.'),\n",
       " ('the', 'DET'),\n",
       " ('highwayman', 'NOUN'),\n",
       " ('in', 'ADP'),\n",
       " ('the', 'DET'),\n",
       " ('dark', 'NOUN'),\n",
       " ('was', 'VERB'),\n",
       " ('a', 'DET'),\n",
       " ('City', 'NOUN'),\n",
       " ('tradesman', 'NOUN'),\n",
       " ('in', 'ADP'),\n",
       " ...]"
      ]
     },
     "execution_count": 29,
     "metadata": {},
     "output_type": "execute_result"
    }
   ],
   "source": [
    "pos_words"
   ]
  },
  {
   "cell_type": "code",
   "execution_count": 30,
   "metadata": {},
   "outputs": [],
   "source": [
    "tag_fd = nltk.FreqDist([tag for (word, tag) in pos_words])"
   ]
  },
  {
   "cell_type": "code",
   "execution_count": 31,
   "metadata": {},
   "outputs": [
    {
     "data": {
      "image/png": "[encoded data removed]",
      "text/plain": [
       "<Figure size 432x288 with 1 Axes>"
      ]
     },
     "metadata": {
      "needs_background": "light"
     },
     "output_type": "display_data"
    },
    {
     "data": {
      "text/plain": [
       "<matplotlib.axes._subplots.AxesSubplot at 0x7f5a10c82f98>"
      ]
     },
     "execution_count": 31,
     "metadata": {},
     "output_type": "execute_result"
    }
   ],
   "source": [
    "tag_fd.plot(cumulative=True)"
   ]
  },
  {
   "cell_type": "code",
   "execution_count": 140,
   "metadata": {},
   "outputs": [],
   "source": [
    "f1 = open('/spring2021/project1/comparison/Charles Dickens - Cities.txt')"
   ]
  },
  {
   "cell_type": "code",
   "execution_count": 141,
   "metadata": {},
   "outputs": [],
   "source": [
    "f2 = open('/spring2021/project1/comparison/Conan Doyle - Sherlock.txt')"
   ]
  },
  {
   "cell_type": "code",
   "execution_count": 142,
   "metadata": {},
   "outputs": [],
   "source": [
    "f3 = open('/spring2021/project1/comparison/Herman Melville - Moby.txt')"
   ]
  },
  {
   "cell_type": "code",
   "execution_count": 143,
   "metadata": {},
   "outputs": [],
   "source": [
    "f4 = open('/spring2021/project1/comparison/Jane Austen - Pride.txt')"
   ]
  },
  {
   "cell_type": "code",
   "execution_count": 144,
   "metadata": {},
   "outputs": [],
   "source": [
    "f5 = open('/spring2021/project1/comparison/Mary Shelley - Frankenstein.txt')"
   ]
  },
  {
   "cell_type": "code",
   "execution_count": 145,
   "metadata": {},
   "outputs": [],
   "source": [
    "f6 = open('/spring2021/project1/comparison/Nathaniel Hawthorne - Scarlet.txt')"
   ]
  },
  {
   "cell_type": "code",
   "execution_count": 146,
   "metadata": {},
   "outputs": [],
   "source": [
    "f7 = open('/spring2021/project1/comparison/Scott Fitzgerald - Gatsby.txt')"
   ]
  },
  {
   "cell_type": "code",
   "execution_count": 147,
   "metadata": {},
   "outputs": [],
   "source": [
    "tradRaws = [f.read() for f in [f1, f2, f3, f4, f5, f6, f7]]"
   ]
  },
  {
   "cell_type": "code",
   "execution_count": 149,
   "metadata": {},
   "outputs": [],
   "source": [
    "def createTradFD(raw):\n",
    "    # Clean Raw\n",
    "    startin = raw.find(\" ***\") + 4\n",
    "    endin = raw.rfind(\"End of the Project Gutenberg\")\n",
    "    raw = raw[startin:endin]\n",
    "    # tokenize\n",
    "    tokens = nltk.word_tokenize(raw)\n",
    "    text = nltk.Text(tokens)\n",
    "    words = [w.lower() for w in text]\n",
    "    pos_words = nltk.pos_tag(text, tagset='universal')\n",
    "    # Create FD\n",
    "    tag_fd = nltk.FreqDist([tag for (word, tag) in pos_words])\n",
    "    counts = [tc for tc in tag_fd.items()]\n",
    "    # Create Dict\n",
    "    ctDict = dict()\n",
    "    for c in counts:\n",
    "        ctDict[c[0]] = c[1]\n",
    "        \n",
    "    return ctDict"
   ]
  },
  {
   "cell_type": "code",
   "execution_count": 150,
   "metadata": {},
   "outputs": [],
   "source": [
    "tradFDs = [createTradFD(raw) for raw in tradRaws]"
   ]
  },
  {
   "cell_type": "code",
   "execution_count": 152,
   "metadata": {},
   "outputs": [],
   "source": [
    "TradTotals = {}\n",
    "for d in tradFDs:\n",
    "    for key in list(d.keys()):\n",
    "        if key in list(TradTotals.keys()):\n",
    "            TradTotals[key] += d[key]\n",
    "        else:\n",
    "            TradTotals[key] = d[key]"
   ]
  },
  {
   "cell_type": "code",
   "execution_count": 153,
   "metadata": {
    "scrolled": true
   },
   "outputs": [
    {
     "data": {
      "text/plain": [
       "{'VERB': 155790,\n",
       " 'ADP': 104436,\n",
       " 'NOUN': 206142,\n",
       " '.': 116806,\n",
       " 'CONJ': 35240,\n",
       " 'DET': 91306,\n",
       " 'PRT': 24092,\n",
       " 'PRON': 89909,\n",
       " 'NUM': 5690,\n",
       " 'ADV': 53841,\n",
       " 'ADJ': 65790,\n",
       " 'X': 1174}"
      ]
     },
     "execution_count": 153,
     "metadata": {},
     "output_type": "execute_result"
    }
   ],
   "source": [
    "TradTotals"
   ]
  },
  {
   "cell_type": "code",
   "execution_count": 167,
   "metadata": {},
   "outputs": [],
   "source": [
    "totalTradPos = sum(TradTotals.values())"
   ]
  },
  {
   "cell_type": "code",
   "execution_count": 168,
   "metadata": {},
   "outputs": [],
   "source": [
    "tradPosPer = {}\n",
    "for key in list(TradTotals.keys()):\n",
    "    tradPosPer[key] = TradTotals[key]/totalTradPos"
   ]
  },
  {
   "cell_type": "code",
   "execution_count": 169,
   "metadata": {
    "scrolled": false
   },
   "outputs": [
    {
     "data": {
      "text/plain": [
       "{'VERB': 0.16395219613224782,\n",
       " 'ADP': 0.1099076420519124,\n",
       " 'NOUN': 0.2169422531298147,\n",
       " '.': 0.12292573478030258,\n",
       " 'CONJ': 0.037086304587588506,\n",
       " 'DET': 0.09608973117691136,\n",
       " 'PRT': 0.025354235247564763,\n",
       " 'PRON': 0.09461953913636478,\n",
       " 'NUM': 0.005988112176599847,\n",
       " 'ADV': 0.056661853725889694,\n",
       " 'ADJ': 0.06923688929674937,\n",
       " 'X': 0.0012355085580541688}"
      ]
     },
     "execution_count": 169,
     "metadata": {},
     "output_type": "execute_result"
    }
   ],
   "source": [
    "tradPosPer"
   ]
  },
  {
   "cell_type": "code",
   "execution_count": 174,
   "metadata": {},
   "outputs": [],
   "source": [
    "tradPosPer['index'] = \"Trad\""
   ]
  },
  {
   "cell_type": "markdown",
   "metadata": {},
   "source": [
    "# Blog Text POS Distribution"
   ]
  },
  {
   "cell_type": "code",
   "execution_count": 6,
   "metadata": {},
   "outputs": [],
   "source": [
    "blogDF = spark.read.csv('/spring2021/project1/blogtext.csv', header = True, inferSchema=True)"
   ]
  },
  {
   "cell_type": "code",
   "execution_count": 7,
   "metadata": {},
   "outputs": [
    {
     "name": "stdout",
     "output_type": "stream",
     "text": [
      "+-------+------+---+-----------------+--------+------------+--------------------+\n",
      "|     id|gender|age|            topic|    sign|        date|                text|\n",
      "+-------+------+---+-----------------+--------+------------+--------------------+\n",
      "|2059027|  male| 15|          Student|     Leo| 14,May,2004|           Info h...|\n",
      "|2059027|  male| 15|          Student|     Leo| 13,May,2004|           These ...|\n",
      "|2059027|  male| 15|          Student|     Leo| 12,May,2004|           In het...|\n",
      "|2059027|  male| 15|          Student|     Leo| 12,May,2004|           testin...|\n",
      "|3581210|  male| 33|InvestmentBanking|Aquarius|11,June,2004|             Than...|\n",
      "|3581210|  male| 33|InvestmentBanking|Aquarius|10,June,2004|             I ha...|\n",
      "|3581210|  male| 33|InvestmentBanking|Aquarius|10,June,2004|             Some...|\n",
      "|3581210|  male| 33|InvestmentBanking|Aquarius|10,June,2004|             If a...|\n",
      "|3581210|  male| 33|InvestmentBanking|Aquarius|10,June,2004|             Take...|\n",
      "|3581210|  male| 33|InvestmentBanking|Aquarius|09,June,2004|             I su...|\n",
      "|3581210|  male| 33|InvestmentBanking|Aquarius|09,June,2004|             Ah, ...|\n",
      "|3581210|  male| 33|InvestmentBanking|Aquarius|09,June,2004|             If y...|\n",
      "|3581210|  male| 33|InvestmentBanking|Aquarius|09,June,2004|             Last...|\n",
      "|3581210|  male| 33|InvestmentBanking|Aquarius|09,June,2004|             Ther...|\n",
      "|3581210|  male| 33|InvestmentBanking|Aquarius|09,June,2004|              url...|\n",
      "|3581210|  male| 33|InvestmentBanking|Aquarius|09,June,2004|             One ...|\n",
      "|3581210|  male| 33|InvestmentBanking|Aquarius|09,June,2004|              url...|\n",
      "|3581210|  male| 33|InvestmentBanking|Aquarius|18,June,2004|             Here...|\n",
      "|3581210|  male| 33|InvestmentBanking|Aquarius|17,June,2004|             Well...|\n",
      "|3581210|  male| 33|InvestmentBanking|Aquarius|16,June,2004|             So I...|\n",
      "+-------+------+---+-----------------+--------+------------+--------------------+\n",
      "only showing top 20 rows\n",
      "\n"
     ]
    }
   ],
   "source": [
    "blogDF.show()"
   ]
  },
  {
   "cell_type": "code",
   "execution_count": 11,
   "metadata": {},
   "outputs": [],
   "source": [
    "from pyspark.sql.functions import col\n",
    "from pyspark import SparkContext"
   ]
  },
  {
   "cell_type": "code",
   "execution_count": 8,
   "metadata": {},
   "outputs": [],
   "source": [
    "blogDF"
   ]
  },
  {
   "cell_type": "code",
   "execution_count": 14,
   "metadata": {},
   "outputs": [],
   "source": [
    "sc = spark.sparkContext"
   ]
  },
  {
   "cell_type": "code",
   "execution_count": 16,
   "metadata": {},
   "outputs": [],
   "source": [
    "blogRDD = blogDF.select('text').rdd"
   ]
  },
  {
   "cell_type": "code",
   "execution_count": 17,
   "metadata": {
    "scrolled": true
   },
   "outputs": [
    {
     "data": {
      "text/plain": [
       "[Row(text='           Info has been found (+/- 100 pages, and 4.5 MB of .pdf files) Now i have to wait untill our team leader has processed it and learns html.         '),\n",
       " Row(text='           These are the team members:   Drewes van der Laag           urlLink mail  Ruiyu Xie                     urlLink mail  Bryan Aaldering (me)          urlLink mail          ')]"
      ]
     },
     "execution_count": 17,
     "metadata": {},
     "output_type": "execute_result"
    }
   ],
   "source": [
    "blogRDD.take(2)"
   ]
  },
  {
   "cell_type": "code",
   "execution_count": 62,
   "metadata": {},
   "outputs": [],
   "source": [
    "samples = blogRDD.take(2)"
   ]
  },
  {
   "cell_type": "code",
   "execution_count": 69,
   "metadata": {},
   "outputs": [],
   "source": [
    "one = samples[0]\n",
    "two = samples[1]"
   ]
  },
  {
   "cell_type": "code",
   "execution_count": 70,
   "metadata": {},
   "outputs": [
    {
     "data": {
      "text/plain": [
       "Row(text='           Info has been found (+/- 100 pages, and 4.5 MB of .pdf files) Now i have to wait untill our team leader has processed it and learns html.         ')"
      ]
     },
     "execution_count": 70,
     "metadata": {},
     "output_type": "execute_result"
    }
   ],
   "source": [
    "one"
   ]
  },
  {
   "cell_type": "code",
   "execution_count": 71,
   "metadata": {},
   "outputs": [
    {
     "data": {
      "text/plain": [
       "Row(text='           These are the team members:   Drewes van der Laag           urlLink mail  Ruiyu Xie                     urlLink mail  Bryan Aaldering (me)          urlLink mail          ')"
      ]
     },
     "execution_count": 71,
     "metadata": {},
     "output_type": "execute_result"
    }
   ],
   "source": [
    "two"
   ]
  },
  {
   "cell_type": "code",
   "execution_count": 81,
   "metadata": {},
   "outputs": [],
   "source": [
    "ctOne = toke(one)\n",
    "ctTwo = toke(two)"
   ]
  },
  {
   "cell_type": "code",
   "execution_count": 82,
   "metadata": {},
   "outputs": [
    {
     "data": {
      "text/plain": [
       "{'NOUN': 7,\n",
       " 'VERB': 9,\n",
       " 'ADJ': 3,\n",
       " 'NUM': 3,\n",
       " '.': 5,\n",
       " 'CONJ': 2,\n",
       " 'ADP': 1,\n",
       " 'ADV': 1,\n",
       " 'PRT': 1,\n",
       " 'PRON': 2}"
      ]
     },
     "execution_count": 82,
     "metadata": {},
     "output_type": "execute_result"
    }
   ],
   "source": [
    "ctOne"
   ]
  },
  {
   "cell_type": "code",
   "execution_count": 89,
   "metadata": {},
   "outputs": [
    {
     "data": {
      "text/plain": [
       "{'NOUN': 19,\n",
       " 'VERB': 11,\n",
       " 'ADJ': 6,\n",
       " 'NUM': 3,\n",
       " '.': 8,\n",
       " 'CONJ': 2,\n",
       " 'ADP': 1,\n",
       " 'ADV': 1,\n",
       " 'PRT': 1,\n",
       " 'PRON': 3,\n",
       " 'DET': 2}"
      ]
     },
     "execution_count": 89,
     "metadata": {},
     "output_type": "execute_result"
    }
   ],
   "source": [
    "redCounts(ctOne, ctTwo)"
   ]
  },
  {
   "cell_type": "code",
   "execution_count": 90,
   "metadata": {},
   "outputs": [],
   "source": [
    "def toke(x):\n",
    "    raw = x['text']\n",
    "    tokens = nltk.wordpunct_tokenize(raw)\n",
    "    text = nltk.Text(tokens)\n",
    "    words = [w.lower() for w in text]\n",
    "    tags = nltk.pos_tag(words, tagset='universal')\n",
    "    tag_fd = nltk.FreqDist(tag for (word, tag) in tags)\n",
    "    counts = [tc for tc in tag_fd.items()]\n",
    "    ctDict = dict()\n",
    "    for c in counts:\n",
    "        ctDict[c[0]] = c[1]\n",
    "    \n",
    "    return ctDict"
   ]
  },
  {
   "cell_type": "code",
   "execution_count": 91,
   "metadata": {},
   "outputs": [],
   "source": [
    "tokenRDD = blogRDD.map(toke)"
   ]
  },
  {
   "cell_type": "code",
   "execution_count": 92,
   "metadata": {},
   "outputs": [
    {
     "data": {
      "text/plain": [
       "[{'NOUN': 7,\n",
       "  'VERB': 9,\n",
       "  'ADJ': 3,\n",
       "  'NUM': 3,\n",
       "  '.': 5,\n",
       "  'CONJ': 2,\n",
       "  'ADP': 1,\n",
       "  'ADV': 1,\n",
       "  'PRT': 1,\n",
       "  'PRON': 2}]"
      ]
     },
     "execution_count": 92,
     "metadata": {},
     "output_type": "execute_result"
    }
   ],
   "source": [
    "tokenRDD.take(1)"
   ]
  },
  {
   "cell_type": "code",
   "execution_count": 93,
   "metadata": {},
   "outputs": [],
   "source": [
    "def redCounts(x,y):\n",
    "    tot = {}\n",
    "    for key in list(x.keys()):\n",
    "        tot[key] = x[key]\n",
    "    for key in list(y.keys()):\n",
    "        if key in list(tot.keys()):\n",
    "            tot[key] += y[key]\n",
    "        else:\n",
    "            tot[key] = y[key]\n",
    "            \n",
    "    return tot"
   ]
  },
  {
   "cell_type": "code",
   "execution_count": 94,
   "metadata": {},
   "outputs": [
    {
     "data": {
      "text/plain": [
       "{'NOUN': 39330070,\n",
       " 'VERB': 29176591,\n",
       " 'ADJ': 13953190,\n",
       " 'NUM': 2465709,\n",
       " '.': 21849779,\n",
       " 'CONJ': 5440305,\n",
       " 'ADP': 14813325,\n",
       " 'ADV': 10662144,\n",
       " 'PRT': 5875294,\n",
       " 'PRON': 11544809,\n",
       " 'DET': 12684892,\n",
       " 'X': 458435}"
      ]
     },
     "execution_count": 94,
     "metadata": {},
     "output_type": "execute_result"
    }
   ],
   "source": [
    "final_counts = tokenRDD.reduce(redCounts)\n",
    "final_counts"
   ]
  },
  {
   "cell_type": "code",
   "execution_count": 98,
   "metadata": {},
   "outputs": [
    {
     "data": {
      "text/plain": [
       "<BarContainer object of 12 artists>"
      ]
     },
     "execution_count": 98,
     "metadata": {},
     "output_type": "execute_result"
    },
    {
     "data": {
      "image/png": "[encoded data removed]",
      "text/plain": [
       "<Figure size 432x288 with 1 Axes>"
      ]
     },
     "metadata": {
      "needs_background": "light"
     },
     "output_type": "display_data"
    }
   ],
   "source": [
    "plt.bar(list(final_counts.keys()), list(final_counts.values()))"
   ]
  },
  {
   "cell_type": "code",
   "execution_count": 158,
   "metadata": {},
   "outputs": [],
   "source": [
    "totalBlogPos = sum(final_counts.values())"
   ]
  },
  {
   "cell_type": "code",
   "execution_count": 159,
   "metadata": {},
   "outputs": [],
   "source": [
    "blogPosPer = {}\n",
    "for key in list(final_counts.keys()):\n",
    "    blogPosPer[key] = final_counts[key]/totalBlogPos"
   ]
  },
  {
   "cell_type": "code",
   "execution_count": 162,
   "metadata": {
    "scrolled": true
   },
   "outputs": [
    {
     "data": {
      "text/plain": [
       "{'NOUN': 0.23375339113428872,\n",
       " 'VERB': 0.17340744849902806,\n",
       " 'ADJ': 0.08292905351150014,\n",
       " 'NUM': 0.014654635506632353,\n",
       " '.': 0.12986145045723965,\n",
       " 'CONJ': 0.03233377775719257,\n",
       " 'ADP': 0.08804115916204414,\n",
       " 'ADV': 0.06336912994973336,\n",
       " 'PRT': 0.03491908090707542,\n",
       " 'PRON': 0.06861513985984913,\n",
       " 'DET': 0.0753910817136153,\n",
       " 'X': 0.0027246515418011623}"
      ]
     },
     "execution_count": 162,
     "metadata": {},
     "output_type": "execute_result"
    }
   ],
   "source": [
    "blogPosPer"
   ]
  },
  {
   "cell_type": "code",
   "execution_count": 173,
   "metadata": {},
   "outputs": [],
   "source": [
    "blogPosPer['index'] = 'Blog'"
   ]
  },
  {
   "cell_type": "markdown",
   "metadata": {},
   "source": [
    "# Hacker POS Distribution"
   ]
  },
  {
   "cell_type": "code",
   "execution_count": 100,
   "metadata": {},
   "outputs": [],
   "source": [
    "hackDf = spark.read.csv('/spring2021/project1/hacker_news_sample.csv', header=True, inferSchema=True)"
   ]
  },
  {
   "cell_type": "code",
   "execution_count": 101,
   "metadata": {},
   "outputs": [
    {
     "name": "stdout",
     "output_type": "stream",
     "text": [
      "+--------------------+--------------------+--------------------+----+---------------+-----+----------+-------+--------+--------+-----------+-------+-------+-------------------+\n",
      "|               title|                 url|                text|dead|             by|score|      time|   type|      id|  parent|descendants|ranking|deleted|          timestamp|\n",
      "+--------------------+--------------------+--------------------+----+---------------+-----+----------+-------+--------+--------+-----------+-------+-------+-------------------+\n",
      "|                null|                null|&gt;<i>which lead...|null|        coldtea| null|1390843873|comment| 7131680| 7127578|       null|   null|   null|2014-01-27 12:31:13|\n",
      "|                null|                null|I would like to p...|null|         etanol| null|1319395600|comment| 3146879| 3145330|       null|   null|   null|2011-10-23 14:46:40|\n",
      "|                null|                null|                null|null|           null| null|1456640816|comment|11190089|11189361|       null|   null|   True|2016-02-28 01:26:56|\n",
      "|                null|                null|<i>Our msbuild im...|null|      Locke1689| null|1407881590|comment| 8170491| 8170071|       null|   null|   null|2014-08-12 18:13:10|\n",
      "|                null|                null|No matter how awf...|null|    miloshadzic| null|1362572882|comment| 5330773| 5327590|       null|   null|   null|2013-03-06 07:28:02|\n",
      "|                null|                null|The existence of ...|null|      salsakran| null|1302987863|comment| 2454827| 2452073|       null|   null|   null|2011-04-16 17:04:23|\n",
      "|       #McConnelling|http://www.mcconn...|                null|null|  deepblueocean|    2|1395179086|  story| 7425232|    null|          0|   null|   null|2014-03-18 17:44:46|\n",
      "|A floating self-s...|http://www.kickst...|                null|null|         tudorw|    1|1353326078|  story| 4803967|    null|          0|   null|   null|2012-11-19 06:54:38|\n",
      "|What Ever Happene...|https://backchann...|                null|null|      mirandak4|    2|1478267730|  story|12872547|    null|          0|   null|   null|2016-11-04 09:55:30|\n",
      "|                null|                null|The actual Intern...|null|     paulsutter| null|1467500087|comment|12024085|12023632|       null|   null|   null|2016-07-02 18:54:47|\n",
      "|                null|                null|I want to know ho...|null|        sitkack| null|1398706338|comment| 7661504| 7661268|       null|   null|   null|2014-04-28 13:32:18|\n",
      "|                null|                null|French is supreme...|True|    cjsthompson| null|1448732039|comment|10641694|10641458|       null|   null|   null|2015-11-28 12:33:59|\n",
      "|                null|                null|I actually went f...|null|          evgen| null|1495398162|comment|14389061|14385039|       null|   null|   null|2017-05-21 16:22:42|\n",
      "|                null|                null|First impression ...|null|     adventured| null|1360209122|comment| 5180426| 5180196|       null|   null|   null|2013-02-06 22:52:02|\n",
      "|                null|                null|It&#x27;s not exa...|null|      jhanschoo| null|1453802012|comment|10972639|10967607|       null|   null|   null|2016-01-26 04:53:32|\n",
      "|                null|                null|Thanks. I choose ...|null|       greggman| null|1446247482|comment|10481148|10476753|       null|   null|   null|2015-10-30 19:24:42|\n",
      "|                null|                null|                null|null|           null| null|1466136395|comment|11920638|11920160|       null|   null|   True|2016-06-17 00:06:35|\n",
      "|Epic Privacy Brow...|https://www.epicb...|                null|null|          sinak|    1|1424799729|  story| 9102174|    null|          0|   null|   null|2015-02-24 12:42:09|\n",
      "|                null|                null|I used Sybase ASE...|null|lobster_johnson| null|1482010908|comment|13202822|13200461|       null|   null|   null|2016-12-17 16:41:48|\n",
      "|                null|                null|&gt;They&#x27;ve ...|null|   shrimp_emoji| null|1492696939|comment|14156673|14156630|       null|   null|   null|2017-04-20 10:02:19|\n",
      "+--------------------+--------------------+--------------------+----+---------------+-----+----------+-------+--------+--------+-----------+-------+-------+-------------------+\n",
      "only showing top 20 rows\n",
      "\n"
     ]
    }
   ],
   "source": [
    "hackDf.show()"
   ]
  },
  {
   "cell_type": "code",
   "execution_count": 102,
   "metadata": {},
   "outputs": [],
   "source": [
    "hackRDD = hackDf.select('text').rdd"
   ]
  },
  {
   "cell_type": "code",
   "execution_count": 113,
   "metadata": {},
   "outputs": [],
   "source": [
    "sample = hackRDD.take(3)"
   ]
  },
  {
   "cell_type": "code",
   "execution_count": 114,
   "metadata": {},
   "outputs": [],
   "source": [
    "s1 = sample[0]\n",
    "s2 = sample[1]\n",
    "s3 = sample[2]"
   ]
  },
  {
   "cell_type": "code",
   "execution_count": 106,
   "metadata": {},
   "outputs": [],
   "source": [
    "from bs4 import BeautifulSoup"
   ]
  },
  {
   "cell_type": "code",
   "execution_count": 117,
   "metadata": {},
   "outputs": [],
   "source": [
    "bs = BeautifulSoup(s2['text'], 'lxml')"
   ]
  },
  {
   "cell_type": "code",
   "execution_count": 118,
   "metadata": {},
   "outputs": [
    {
     "data": {
      "text/plain": [
       "\"I would like to point out some counter-examples:«Think of journalists. Many are losing their jobs. Newspapers are barely surviving. In the old days for every news event there were probably hundreds of journalists writing about the same story for their own local newspapers. Now because of the efficiency of the Internet and search engines a few journalists writing about it would suffice for the whole country. People would be able to find them. There is no reason why hundreds of newspapers should write and publish their own versions of the same story.»And yet you can still find incompetent people.  I've read so many inaccuracies grammar and typographic mistakes from information professionals (apparently) that makes me wonder if the price to pay for such efficiency is too high.  And I'm talking as a consumer information consumer.«Corporations are increasingly getting bigger (in terms of market caps) more global and more powerful yet they are getting smaller and smaller in terms of the number of people they employ because they have mastered the art of efficiency.»Okay take IKEA for example.  IKEA sells furniture and other home accessories world wide and everywhere you can find the same model.  However how many people do they employ on each store?  A hundred?  I don't know but I'm under the impression that is not a shrinking number.  And IKEA is a particularly good example because it's expansion model is not based on a franchise like fast food restaurants.Of course I might not understood the intention of the author.\""
      ]
     },
     "execution_count": 118,
     "metadata": {},
     "output_type": "execute_result"
    }
   ],
   "source": [
    "bs.get_text()"
   ]
  },
  {
   "cell_type": "code",
   "execution_count": 131,
   "metadata": {},
   "outputs": [],
   "source": [
    "def tokeHTML(x):\n",
    "    if x['text'] == None:\n",
    "        ctDict = {}\n",
    "    else:    \n",
    "        # Remove html\n",
    "        bs = BeautifulSoup(x['text'], 'lxml')\n",
    "        raw = bs.get_text()\n",
    "\n",
    "        # Tokenize\n",
    "        tokens = nltk.wordpunct_tokenize(raw)\n",
    "        text = nltk.Text(tokens)\n",
    "        words = [w.lower() for w in text]\n",
    "        tags = nltk.pos_tag(words, tagset='universal')\n",
    "\n",
    "        # Frequency Distribution\n",
    "        tag_fd = nltk.FreqDist(tag for (word, tag) in tags)\n",
    "        counts = [tc for tc in tag_fd.items()]\n",
    "        ctDict = dict()\n",
    "        for c in counts:\n",
    "            ctDict[c[0]] = c[1]\n",
    "    \n",
    "    return ctDict"
   ]
  },
  {
   "cell_type": "code",
   "execution_count": 120,
   "metadata": {},
   "outputs": [
    {
     "data": {
      "text/plain": [
       "{'NOUN': 54,\n",
       " 'DET': 16,\n",
       " 'VERB': 43,\n",
       " 'PRON': 15,\n",
       " 'PRT': 12,\n",
       " 'ADV': 9,\n",
       " '.': 17,\n",
       " 'ADP': 27,\n",
       " 'ADJ': 15,\n",
       " 'CONJ': 3}"
      ]
     },
     "execution_count": 120,
     "metadata": {},
     "output_type": "execute_result"
    }
   ],
   "source": [
    "tokeHTML(s1)"
   ]
  },
  {
   "cell_type": "code",
   "execution_count": 121,
   "metadata": {},
   "outputs": [
    {
     "data": {
      "text/plain": [
       "{'NOUN': 75,\n",
       " 'VERB': 52,\n",
       " 'PRT': 5,\n",
       " 'DET': 27,\n",
       " '.': 24,\n",
       " 'ADP': 32,\n",
       " 'ADJ': 31,\n",
       " 'PRON': 13,\n",
       " 'ADV': 20,\n",
       " 'CONJ': 11,\n",
       " 'NUM': 1}"
      ]
     },
     "execution_count": 121,
     "metadata": {},
     "output_type": "execute_result"
    }
   ],
   "source": [
    "tokeHTML(s2)"
   ]
  },
  {
   "cell_type": "code",
   "execution_count": 105,
   "metadata": {},
   "outputs": [
    {
     "data": {
      "text/plain": [
       "[Row(text='&gt;<i>which leads me to say why are you using C to do X?</i><p>Because they know C it&#x27;s fast and it has lots of libs available. They might also dislike Java or CL.<p>Not every engineering decision is perfect lots of factors play in.<p>&gt;<i>Attempts to combine the best of C (speed) with the best of scripting languages (easy to do things fast without having to pay attention to what you are doing) in my opinion end up merely joining the worst of both worlds rather than the best of both worlds.</i><p>The &quot;pay attention&quot; things is to needless complexity (memory management etc). They only reason we put up with those things was to get speed. If we can get adequate speed without those nobody cares about them.<p>&gt;<i>Besides isn&#x27;t programming about being specific? Do you really want to code stuff without having to worry about the details?</i><p>No programming is about getting results. Nobody cares about the details in the level of programming language minutuae.<p>We care about the &quot;effort put in&quot; and &quot;quality&#x2F;speed of results coming out&quot; ratio.')]"
      ]
     },
     "execution_count": 105,
     "metadata": {},
     "output_type": "execute_result"
    }
   ],
   "source": [
    "sample"
   ]
  },
  {
   "cell_type": "code",
   "execution_count": 136,
   "metadata": {},
   "outputs": [],
   "source": [
    "hackDistRdd = hackRDD.map(tokeHTML)"
   ]
  },
  {
   "cell_type": "code",
   "execution_count": 137,
   "metadata": {
    "scrolled": true
   },
   "outputs": [
    {
     "data": {
      "text/plain": [
       "{'NOUN': 2738459,\n",
       " 'DET': 974976,\n",
       " 'VERB': 1897898,\n",
       " 'PRON': 607548,\n",
       " 'PRT': 345497,\n",
       " 'ADV': 689537,\n",
       " '.': 1004406,\n",
       " 'ADP': 1076001,\n",
       " 'ADJ': 1025506,\n",
       " 'CONJ': 303532,\n",
       " 'NUM': 148104,\n",
       " 'X': 15270}"
      ]
     },
     "execution_count": 137,
     "metadata": {},
     "output_type": "execute_result"
    }
   ],
   "source": [
    "hackPosTot = hackDistRdd.reduce(redCounts)\n",
    "hackPosTot"
   ]
  },
  {
   "cell_type": "code",
   "execution_count": 163,
   "metadata": {},
   "outputs": [],
   "source": [
    "totalHackPos = sum(hackPosTot.values())"
   ]
  },
  {
   "cell_type": "code",
   "execution_count": 164,
   "metadata": {},
   "outputs": [],
   "source": [
    "hackPosPer = {}\n",
    "for key in list(final_counts.keys()):\n",
    "    hackPosPer[key] = hackPosTot[key]/totalHackPos"
   ]
  },
  {
   "cell_type": "code",
   "execution_count": 165,
   "metadata": {
    "scrolled": false
   },
   "outputs": [
    {
     "data": {
      "text/plain": [
       "{'NOUN': 0.2529349109343593,\n",
       " 'VERB': 0.17529737037965465,\n",
       " 'ADJ': 0.09471979269094447,\n",
       " 'NUM': 0.01367947157471496,\n",
       " '.': 0.09277091318582317,\n",
       " 'CONJ': 0.028035416774809467,\n",
       " 'ADP': 0.09938371072938525,\n",
       " 'ADV': 0.06368836622383076,\n",
       " 'PRT': 0.03191147025501873,\n",
       " 'PRON': 0.05611553770509186,\n",
       " 'DET': 0.0900526419139881,\n",
       " 'X': 0.0014103976323792567}"
      ]
     },
     "execution_count": 165,
     "metadata": {},
     "output_type": "execute_result"
    }
   ],
   "source": [
    "hackPosPer"
   ]
  },
  {
   "cell_type": "code",
   "execution_count": 172,
   "metadata": {},
   "outputs": [],
   "source": [
    "hackPosPer['index'] = 'Hack'"
   ]
  },
  {
   "cell_type": "code",
   "execution_count": 132,
   "metadata": {},
   "outputs": [],
   "source": [
    "sample = hackRDD.take(5)"
   ]
  },
  {
   "cell_type": "code",
   "execution_count": 175,
   "metadata": {
    "scrolled": true
   },
   "outputs": [
    {
     "data": {
      "text/plain": [
       "{'VERB': 0.16395219613224782,\n",
       " 'ADP': 0.1099076420519124,\n",
       " 'NOUN': 0.2169422531298147,\n",
       " '.': 0.12292573478030258,\n",
       " 'CONJ': 0.037086304587588506,\n",
       " 'DET': 0.09608973117691136,\n",
       " 'PRT': 0.025354235247564763,\n",
       " 'PRON': 0.09461953913636478,\n",
       " 'NUM': 0.005988112176599847,\n",
       " 'ADV': 0.056661853725889694,\n",
       " 'ADJ': 0.06923688929674937,\n",
       " 'X': 0.0012355085580541688,\n",
       " 'index': 'Trad'}"
      ]
     },
     "execution_count": 175,
     "metadata": {},
     "output_type": "execute_result"
    }
   ],
   "source": [
    "tradPosPer"
   ]
  },
  {
   "cell_type": "code",
   "execution_count": 178,
   "metadata": {},
   "outputs": [
    {
     "data": {
      "text/plain": [
       "13"
      ]
     },
     "execution_count": 178,
     "metadata": {},
     "output_type": "execute_result"
    }
   ],
   "source": [
    "len(tradPosPer.keys())"
   ]
  },
  {
   "cell_type": "code",
   "execution_count": 176,
   "metadata": {
    "scrolled": false
   },
   "outputs": [
    {
     "data": {
      "text/plain": [
       "{'NOUN': 0.23375339113428872,\n",
       " 'VERB': 0.17340744849902806,\n",
       " 'ADJ': 0.08292905351150014,\n",
       " 'NUM': 0.014654635506632353,\n",
       " '.': 0.12986145045723965,\n",
       " 'CONJ': 0.03233377775719257,\n",
       " 'ADP': 0.08804115916204414,\n",
       " 'ADV': 0.06336912994973336,\n",
       " 'PRT': 0.03491908090707542,\n",
       " 'PRON': 0.06861513985984913,\n",
       " 'DET': 0.0753910817136153,\n",
       " 'X': 0.0027246515418011623,\n",
       " 'index': 'Blog'}"
      ]
     },
     "execution_count": 176,
     "metadata": {},
     "output_type": "execute_result"
    }
   ],
   "source": [
    "blogPosPer"
   ]
  },
  {
   "cell_type": "code",
   "execution_count": 179,
   "metadata": {},
   "outputs": [
    {
     "data": {
      "text/plain": [
       "13"
      ]
     },
     "execution_count": 179,
     "metadata": {},
     "output_type": "execute_result"
    }
   ],
   "source": [
    "len(blogPosPer.keys())"
   ]
  },
  {
   "cell_type": "code",
   "execution_count": 177,
   "metadata": {
    "scrolled": true
   },
   "outputs": [
    {
     "data": {
      "text/plain": [
       "{'NOUN': 0.2529349109343593,\n",
       " 'VERB': 0.17529737037965465,\n",
       " 'ADJ': 0.09471979269094447,\n",
       " 'NUM': 0.01367947157471496,\n",
       " '.': 0.09277091318582317,\n",
       " 'CONJ': 0.028035416774809467,\n",
       " 'ADP': 0.09938371072938525,\n",
       " 'ADV': 0.06368836622383076,\n",
       " 'PRT': 0.03191147025501873,\n",
       " 'PRON': 0.05611553770509186,\n",
       " 'DET': 0.0900526419139881,\n",
       " 'X': 0.0014103976323792567,\n",
       " 'index': 'Hack'}"
      ]
     },
     "execution_count": 177,
     "metadata": {},
     "output_type": "execute_result"
    }
   ],
   "source": [
    "hackPosPer"
   ]
  },
  {
   "cell_type": "code",
   "execution_count": 180,
   "metadata": {},
   "outputs": [
    {
     "data": {
      "text/plain": [
       "13"
      ]
     },
     "execution_count": 180,
     "metadata": {},
     "output_type": "execute_result"
    }
   ],
   "source": [
    "len(hackPosPer.keys())"
   ]
  },
  {
   "cell_type": "code",
   "execution_count": 171,
   "metadata": {},
   "outputs": [],
   "source": [
    "import pandas as pd"
   ]
  },
  {
   "cell_type": "code",
   "execution_count": null,
   "metadata": {},
   "outputs": [],
   "source": []
  },
  {
   "cell_type": "code",
   "execution_count": 181,
   "metadata": {},
   "outputs": [],
   "source": [
    "df = pd.DataFrame([tradPosPer, hackPosPer, blogPosPer])"
   ]
  },
  {
   "cell_type": "code",
   "execution_count": 185,
   "metadata": {},
   "outputs": [],
   "source": [
    "df.set_index('index', inplace=True)"
   ]
  },
  {
   "cell_type": "code",
   "execution_count": 191,
   "metadata": {},
   "outputs": [],
   "source": [
    "dft = df.transpose()"
   ]
  },
  {
   "cell_type": "code",
   "execution_count": 193,
   "metadata": {},
   "outputs": [
    {
     "data": {
      "text/plain": [
       "<matplotlib.axes._subplots.AxesSubplot at 0x7f25960f8160>"
      ]
     },
     "execution_count": 193,
     "metadata": {},
     "output_type": "execute_result"
    },
    {
     "data": {
      "image/png": "[encoded data removed]",
      "text/plain": [
       "<Figure size 432x288 with 1 Axes>"
      ]
     },
     "metadata": {
      "needs_background": "light"
     },
     "output_type": "display_data"
    }
   ],
   "source": [
    "dft.plot(kind='bar')"
   ]
  },
  {
   "cell_type": "code",
   "execution_count": 195,
   "metadata": {},
   "outputs": [],
   "source": [
    "df.to_csv('POS_percents.csv')"
   ]
  },
  {
   "cell_type": "code",
   "execution_count": null,
   "metadata": {},
   "outputs": [],
   "source": [
    "dft.to_csv('POS_per_transpose.')"
   ]
  },
  {
   "cell_type": "code",
   "execution_count": null,
   "metadata": {},
   "outputs": [],
   "source": []
  },
  {
   "cell_type": "code",
   "execution_count": null,
   "metadata": {},
   "outputs": [],
   "source": []
  },
  {
   "cell_type": "code",
   "execution_count": null,
   "metadata": {},
   "outputs": [],
   "source": []
  },
  {
   "cell_type": "code",
   "execution_count": 2,
   "metadata": {},
   "outputs": [],
   "source": [
    "spark.stop()"
   ]
  },
  {
   "cell_type": "code",
   "execution_count": null,
   "metadata": {},
   "outputs": [],
   "source": []
  }
 ],
 "metadata": {
  "kernelspec": {
   "display_name": "Python 3",
   "language": "python",
   "name": "python3"
  },
  "language_info": {
   "codemirror_mode": {
    "name": "ipython",
    "version": 3
   },
   "file_extension": ".py",
   "mimetype": "text/x-python",
   "name": "python",
   "nbconvert_exporter": "python",
   "pygments_lexer": "ipython3",
   "version": "3.6.9"
  }
 },
 "nbformat": 4,
 "nbformat_minor": 4
}
