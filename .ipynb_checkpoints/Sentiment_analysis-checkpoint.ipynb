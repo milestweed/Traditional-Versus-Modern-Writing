{
 "cells": [
  {
   "cell_type": "code",
   "execution_count": 35,
   "metadata": {},
   "outputs": [],
   "source": [
    "import nltk\n",
    "import pandas as pd\n",
    "from bs4 import BeautifulSoup\n",
    "import matplotlib.pyplot as plt\n",
    "import seaborn as sns\n",
    "import re\n",
    "from operator import add\n",
    "from pyspark.sql import SparkSession\n",
    "%matplotlib inline"
   ]
  },
  {
   "cell_type": "code",
   "execution_count": 9,
   "metadata": {},
   "outputs": [],
   "source": [
    "spark = SparkSession\\\n",
    "        .builder\\\n",
    "        .master('local[*]')\\\n",
    "        .appName('MvT')\\\n",
    "        .getOrCreate()"
   ]
  },
  {
   "cell_type": "markdown",
   "metadata": {},
   "source": [
    "# Sentiment Dictionary"
   ]
  },
  {
   "cell_type": "code",
   "execution_count": 10,
   "metadata": {},
   "outputs": [],
   "source": [
    "# This file contains a collection of words that have\n",
    "# been scored for sentiment from -5 to 5 (negatve to positive sentiment)\n",
    "afinn = open('afinn-111.txt')"
   ]
  },
  {
   "cell_type": "code",
   "execution_count": 11,
   "metadata": {},
   "outputs": [],
   "source": [
    "def cleanDict(file):\n",
    "    file.seek(0)\n",
    "    sentDict = {}\n",
    "    while True:\n",
    "        nxt = file.readline()\n",
    "        if nxt != '':\n",
    "            splt = re.split(r'\\t|\\n', nxt)\n",
    "            if len(splt) == 3:\n",
    "                splt = splt[:-1]\n",
    "            sentDict[splt[0]] = int(splt[1])\n",
    "        else:\n",
    "            break\n",
    "    return sentDict"
   ]
  },
  {
   "cell_type": "code",
   "execution_count": 12,
   "metadata": {},
   "outputs": [],
   "source": [
    "sentDict = cleanDict(afinn)"
   ]
  },
  {
   "cell_type": "markdown",
   "metadata": {},
   "source": [
    "## Traditional Sentiment Analysis"
   ]
  },
  {
   "cell_type": "code",
   "execution_count": 77,
   "metadata": {},
   "outputs": [],
   "source": [
    "def scoreSentTrad(raw):\n",
    "    \"\"\"\n",
    "        INPUT: raw text from the Gutenberg Project\n",
    "        OUTPUT: a list of scaled scored for each sentence in the text\n",
    "    \"\"\"\n",
    "    startin = raw.find(\" ***\") + 4\n",
    "    endin = raw.rfind(\"End of the Project Gutenberg\")\n",
    "    raw = raw[startin:endin]\n",
    "    sentences = nltk.sent_tokenize(raw)\n",
    "    sentences = sentences[1:]\n",
    "    tokens = []\n",
    "    for i in range(len(sentences)):\n",
    "        tokens.append([w.lower() for w in nltk.Text(nltk.word_tokenize(sentences[i]))])\n",
    "\n",
    "\n",
    "    scores = []\n",
    "    for i in range(len(tokens)):\n",
    "        temp = []\n",
    "        words = tokens[i]\n",
    "        score = 0\n",
    "        for word in words:\n",
    "            if word in list(sentDict.keys()):\n",
    "                score += (sentDict[word])\n",
    "\n",
    "        scores.append(score)\n",
    "\n",
    "    scoresNorm = [-5 + ((x - min(scores))*(5-(-5)))/(max(scores)-min(scores)) for x in scores]\n",
    "\n",
    "    return scoresNorm"
   ]
  },
  {
   "cell_type": "code",
   "execution_count": 78,
   "metadata": {},
   "outputs": [],
   "source": [
    "f1 = open('/spring2021/project1/comparison/Charles Dickens - Cities.txt')\n",
    "f2 = open('/spring2021/project1/comparison/Conan Doyle - Sherlock.txt')\n",
    "f3 = open('/spring2021/project1/comparison/Herman Melville - Moby.txt')\n",
    "f4 = open('/spring2021/project1/comparison/Jane Austen - Pride.txt')\n",
    "f5 = open('/spring2021/project1/comparison/Mary Shelley - Frankenstein.txt')\n",
    "f6 = open('/spring2021/project1/comparison/Nathaniel Hawthorne - Scarlet.txt')\n",
    "f7 = open('/spring2021/project1/comparison/Scott Fitzgerald - Gatsby.txt')"
   ]
  },
  {
   "cell_type": "code",
   "execution_count": 79,
   "metadata": {},
   "outputs": [],
   "source": [
    "tradRaws = [f.read() for f in [f1, f2, f3, f4, f5, f6, f7]]"
   ]
  },
  {
   "cell_type": "code",
   "execution_count": 80,
   "metadata": {},
   "outputs": [],
   "source": [
    "# list of scores for each sentence\n",
    "tradScoresSent = []\n",
    "for raw in tradRaws:\n",
    "    tradScoresSent.extend(scoreSentTrad(raw))"
   ]
  },
  {
   "cell_type": "code",
   "execution_count": 81,
   "metadata": {},
   "outputs": [],
   "source": [
    "tradScores = pd.Series(tradScoresSent, name = \"Traditional\")"
   ]
  },
  {
   "cell_type": "code",
   "execution_count": 82,
   "metadata": {},
   "outputs": [
    {
     "data": {
      "text/plain": [
       "count    33129.000000\n",
       "mean        -0.249724\n",
       "std          1.194888\n",
       "min         -5.000000\n",
       "25%         -1.400000\n",
       "50%         -0.172414\n",
       "75%          0.750000\n",
       "max          5.000000\n",
       "Name: Traditional, dtype: float64"
      ]
     },
     "execution_count": 82,
     "metadata": {},
     "output_type": "execute_result"
    }
   ],
   "source": [
    "tradScores.describe()"
   ]
  },
  {
   "cell_type": "code",
   "execution_count": 103,
   "metadata": {},
   "outputs": [],
   "source": [
    "avgTradSent = tradScores.mean()"
   ]
  },
  {
   "cell_type": "markdown",
   "metadata": {},
   "source": [
    "## Blog Example Sentiment Analysis"
   ]
  },
  {
   "cell_type": "code",
   "execution_count": 31,
   "metadata": {},
   "outputs": [],
   "source": [
    "blogDF = spark.read.csv('/spring2021/project1/blogtext.csv', header = True, inferSchema=True)"
   ]
  },
  {
   "cell_type": "code",
   "execution_count": 32,
   "metadata": {},
   "outputs": [],
   "source": [
    "blogRDD = blogDF.select('text').rdd"
   ]
  },
  {
   "cell_type": "code",
   "execution_count": 72,
   "metadata": {},
   "outputs": [],
   "source": [
    "def mapScore(x):\n",
    "    '''\n",
    "        INPUT: A spark row opbject with one key 'text' containing raw text\n",
    "        OUTPUT: An average sentiment for that row's scaled scores\n",
    "    '''\n",
    "    raw = x['text']\n",
    "    tokens = nltk.word_tokenize(raw)\n",
    "    text = nltk.Text(tokens)\n",
    "    words = [w.lower() for w in text]\n",
    "    \n",
    "    if len(words) !=0:\n",
    "        scores = []\n",
    "        for word in words:\n",
    "            if word in list(sentDict.keys()):\n",
    "                scores.append(sentDict[word])\n",
    "                \n",
    "        if len(scores) != 0:\n",
    "            mxScore = max(scores)\n",
    "            mnScore = min(scores)\n",
    "            if mnScore == mxScore:\n",
    "                return mxScore\n",
    "            else:\n",
    "                scores = [-5 + ((x-mnScore)*(5-(-5))/(mxScore-mnScore)) for x in scores]\n",
    "                \n",
    "                score = sum(scores)/len(scores)\n",
    "                return score\n",
    "\n",
    "        else:\n",
    "            return 0\n",
    "    \n",
    "    else:\n",
    "        return 0"
   ]
  },
  {
   "cell_type": "code",
   "execution_count": 74,
   "metadata": {},
   "outputs": [],
   "source": [
    "scoreRDD = blogRDD.map(mapScore)"
   ]
  },
  {
   "cell_type": "code",
   "execution_count": 76,
   "metadata": {},
   "outputs": [],
   "source": [
    "blogCount = blogRDD.count()"
   ]
  },
  {
   "cell_type": "code",
   "execution_count": 83,
   "metadata": {},
   "outputs": [],
   "source": [
    "cumulScore = scoreRDD.reduce(add)"
   ]
  },
  {
   "cell_type": "code",
   "execution_count": 84,
   "metadata": {},
   "outputs": [],
   "source": [
    "avgBlogSent = cumulScore/blogCount"
   ]
  },
  {
   "cell_type": "code",
   "execution_count": 85,
   "metadata": {},
   "outputs": [
    {
     "data": {
      "text/plain": [
       "0.3479014539360286"
      ]
     },
     "execution_count": 85,
     "metadata": {},
     "output_type": "execute_result"
    }
   ],
   "source": [
    "avgBlogSent"
   ]
  },
  {
   "cell_type": "markdown",
   "metadata": {},
   "source": [
    "## Hacker New Example Sentiment Analysis"
   ]
  },
  {
   "cell_type": "code",
   "execution_count": 87,
   "metadata": {},
   "outputs": [],
   "source": [
    "hackDF = spark.read.csv('/spring2021/project1/hacker_news_sample.csv', header = True, inferSchema=True)"
   ]
  },
  {
   "cell_type": "code",
   "execution_count": 88,
   "metadata": {},
   "outputs": [],
   "source": [
    "hackRDD = hackDF.select('text').rdd"
   ]
  },
  {
   "cell_type": "code",
   "execution_count": 96,
   "metadata": {},
   "outputs": [],
   "source": [
    "def mapScoreHTML(x):\n",
    "    '''\n",
    "        INPUT: A spark row opbject with one key 'text' containing raw text\n",
    "        OUTPUT: An average sentiment for that row's scaled scores\n",
    "    '''\n",
    "    if x['text'] != None:\n",
    "        bs = BeautifulSoup(x['text'], 'lxml')\n",
    "        raw = bs.get_text()\n",
    "        tokens = nltk.word_tokenize(raw)\n",
    "        text = nltk.Text(tokens)\n",
    "        words = [w.lower() for w in text]\n",
    "\n",
    "        if len(words) !=0:\n",
    "            scores = []\n",
    "            for word in words:\n",
    "                if word in list(sentDict.keys()):\n",
    "                    scores.append(sentDict[word])\n",
    "\n",
    "            if len(scores) != 0:\n",
    "                mxScore = max(scores)\n",
    "                mnScore = min(scores)\n",
    "                if mnScore == mxScore:\n",
    "                    return mxScore\n",
    "                else:\n",
    "                    scores = [-5 + ((x-mnScore)*(5-(-5))/(mxScore-mnScore)) for x in scores]\n",
    "\n",
    "                    score = sum(scores)/len(scores)\n",
    "                    return score\n",
    "\n",
    "            else:\n",
    "                return 0\n",
    "        else:\n",
    "            return 0\n",
    "    else:\n",
    "        return 0"
   ]
  },
  {
   "cell_type": "code",
   "execution_count": 97,
   "metadata": {},
   "outputs": [],
   "source": [
    "scoreHackRDD = hackRDD.map(mapScoreHTML)"
   ]
  },
  {
   "cell_type": "code",
   "execution_count": 98,
   "metadata": {},
   "outputs": [],
   "source": [
    "hackCount = hackRDD.count()"
   ]
  },
  {
   "cell_type": "code",
   "execution_count": 99,
   "metadata": {},
   "outputs": [],
   "source": [
    "cumulHackScore = scoreHackRDD.reduce(add)"
   ]
  },
  {
   "cell_type": "code",
   "execution_count": 100,
   "metadata": {},
   "outputs": [],
   "source": [
    "avgHackSent = cumulHackScore/hackCount"
   ]
  },
  {
   "cell_type": "code",
   "execution_count": 101,
   "metadata": {},
   "outputs": [
    {
     "data": {
      "text/plain": [
       "0.21913184667388444"
      ]
     },
     "execution_count": 101,
     "metadata": {},
     "output_type": "execute_result"
    }
   ],
   "source": [
    "avgHackSent"
   ]
  },
  {
   "cell_type": "code",
   "execution_count": 104,
   "metadata": {},
   "outputs": [
    {
     "data": {
      "text/plain": [
       "Text(0.5, 1.0, 'Average Sentiment')"
      ]
     },
     "execution_count": 104,
     "metadata": {},
     "output_type": "execute_result"
    },
    {
     "data": {
      "image/png": "[encoded data removed]",
      "text/plain": [
       "<Figure size 432x288 with 1 Axes>"
      ]
     },
     "metadata": {
      "needs_background": "light"
     },
     "output_type": "display_data"
    }
   ],
   "source": [
    "plt.bar(x = ['Traditional','Blog','Hacker News'], \n",
    "        height=[avgTradSent, avgBlogSent, avgHackSent],\n",
    "        color = ['green','cyan','purple'])\n",
    "plt.ylabel('Sentiment Score')\n",
    "plt.title(\"Average Sentiment\")"
   ]
  },
  {
   "cell_type": "code",
   "execution_count": null,
   "metadata": {},
   "outputs": [],
   "source": []
  }
 ],
 "metadata": {
  "kernelspec": {
   "display_name": "Python 3",
   "language": "python",
   "name": "python3"
  },
  "language_info": {
   "codemirror_mode": {
    "name": "ipython",
    "version": 3
   },
   "file_extension": ".py",
   "mimetype": "text/x-python",
   "name": "python",
   "nbconvert_exporter": "python",
   "pygments_lexer": "ipython3",
   "version": "3.8.8"
  }
 },
 "nbformat": 4,
 "nbformat_minor": 4
}
