{
 "cells": [
  {
   "cell_type": "markdown",
   "metadata": {},
   "source": [
    "# Analysis of Parts of Speech\n",
    "\n",
    "This file explores the distribution of the parts of speech used in traditional and modern writing."
   ]
  },
  {
   "cell_type": "markdown",
   "metadata": {},
   "source": [
    "### Import Statements"
   ]
  },
  {
   "cell_type": "code",
   "execution_count": 1,
   "metadata": {},
   "outputs": [],
   "source": [
    "import nltk\n",
    "import matplotlib.pyplot as plt\n",
    "from pyspark.sql import SparkSession\n",
    "%matplotlib inline"
   ]
  },
  {
   "cell_type": "markdown",
   "metadata": {},
   "source": [
    "## Traditional Text POS Analysis\n",
    "**Extract Raw text from example files**"
   ]
  },
  {
   "cell_type": "code",
   "execution_count": 2,
   "metadata": {},
   "outputs": [],
   "source": [
    "f1 = open('/spring2021/project1/comparison/Charles Dickens - Cities.txt')\n",
    "f2 = open('/spring2021/project1/comparison/Conan Doyle - Sherlock.txt')\n",
    "f3 = open('/spring2021/project1/comparison/Herman Melville - Moby.txt')\n",
    "f4 = open('/spring2021/project1/comparison/Jane Austen - Pride.txt')\n",
    "f5 = open('/spring2021/project1/comparison/Mary Shelley - Frankenstein.txt')\n",
    "f6 = open('/spring2021/project1/comparison/Nathaniel Hawthorne - Scarlet.txt')\n",
    "f7 = open('/spring2021/project1/comparison/Scott Fitzgerald - Gatsby.txt')\n",
    "tradRaws = [f.read() for f in [f1, f2, f3, f4, f5, f6, f7]]"
   ]
  },
  {
   "cell_type": "markdown",
   "metadata": {},
   "source": [
    "**Frequency Dictionary Function**\n",
    "\n",
    "This function tokenizes the raw text and creates a dictionary of the counts for each part of speech."
   ]
  },
  {
   "cell_type": "code",
   "execution_count": 7,
   "metadata": {},
   "outputs": [],
   "source": [
    "def createTradFD(raw):\n",
    "    # Clean Raw\n",
    "    startin = raw.find(\" ***\") + 4\n",
    "    endin = raw.rfind(\"End of the Project Gutenberg\")\n",
    "    raw = raw[startin:endin]\n",
    "    \n",
    "    # tokenize\n",
    "    tokens = nltk.word_tokenize(raw)\n",
    "    text = nltk.Text(tokens)\n",
    "    words = [w.lower() for w in text]\n",
    "    pos_words = nltk.pos_tag(text, tagset='universal')\n",
    "    \n",
    "    # Create FD\n",
    "    tag_fd = nltk.FreqDist([tag for (word, tag) in pos_words])\n",
    "    counts = [tc for tc in tag_fd.items()]\n",
    "    \n",
    "    # Create Dict\n",
    "    ctDict = dict()\n",
    "    for c in counts:\n",
    "        ctDict[c[0]] = c[1]\n",
    "        \n",
    "    # Change to Percent\n",
    "    total = sum(list(ctDict.values()))\n",
    "    for key in list(ctDict.keys()):\n",
    "        ctDict[key] = ctDict[key] / total\n",
    "    \n",
    "    return ctDict"
   ]
  },
  {
   "cell_type": "markdown",
   "metadata": {},
   "source": [
    "Aggregate counts from all example files."
   ]
  },
  {
   "cell_type": "code",
   "execution_count": 8,
   "metadata": {},
   "outputs": [],
   "source": [
    "tradFDs = [createTradFD(raw) for raw in tradRaws]"
   ]
  },
  {
   "cell_type": "code",
   "execution_count": 9,
   "metadata": {},
   "outputs": [
    {
     "data": {
      "text/plain": [
       "{'VERB': 0.16341220751822016,\n",
       " 'ADP': 0.10945291522823168,\n",
       " 'NOUN': 0.21699391062523973,\n",
       " '.': 0.13428989259685462,\n",
       " 'CONJ': 0.03772295742232451,\n",
       " 'DET': 0.09365410433448408,\n",
       " 'PRT': 0.025232546988876104,\n",
       " 'PRON': 0.09775963751438435,\n",
       " 'NUM': 0.005262274645186037,\n",
       " 'ADV': 0.05074079401611047,\n",
       " 'ADJ': 0.06425009589566552,\n",
       " 'X': 0.0012286632144227082}"
      ]
     },
     "execution_count": 9,
     "metadata": {},
     "output_type": "execute_result"
    }
   ],
   "source": [
    "tradFDs[0]"
   ]
  },
  {
   "cell_type": "code",
   "execution_count": 15,
   "metadata": {},
   "outputs": [
    {
     "data": {
      "text/plain": [
       "1.0"
      ]
     },
     "execution_count": 15,
     "metadata": {},
     "output_type": "execute_result"
    }
   ],
   "source": [
    "sum(tradFDs[0].values())"
   ]
  },
  {
   "cell_type": "code",
   "execution_count": 17,
   "metadata": {},
   "outputs": [],
   "source": [
    "count = len(tradFDs)  \n",
    "TradTotals = {}\n",
    "for d in tradFDs:\n",
    "    for key in list(d.keys()):\n",
    "        if key in list(TradTotals.keys()):\n",
    "            TradTotals[key] += d[key]/count\n",
    "        else:\n",
    "            TradTotals[key] = d[key]/count"
   ]
  },
  {
   "cell_type": "code",
   "execution_count": 18,
   "metadata": {},
   "outputs": [
    {
     "data": {
      "text/plain": [
       "{'VERB': 0.16676277384002564,\n",
       " 'ADP': 0.1093696310109621,\n",
       " 'NOUN': 0.2167144798326306,\n",
       " '.': 0.12016249536069805,\n",
       " 'CONJ': 0.03725038288984104,\n",
       " 'DET': 0.09443432172448353,\n",
       " 'PRT': 0.025638034404280474,\n",
       " 'PRON': 0.09927913834231554,\n",
       " 'NUM': 0.00567854421020736,\n",
       " 'ADV': 0.055616679607821864,\n",
       " 'ADJ': 0.067928292095035,\n",
       " 'X': 0.0011652266816987772}"
      ]
     },
     "execution_count": 18,
     "metadata": {},
     "output_type": "execute_result"
    }
   ],
   "source": [
    "TradTotals"
   ]
  },
  {
   "cell_type": "code",
   "execution_count": 21,
   "metadata": {},
   "outputs": [],
   "source": [
    "TradTotals['index'] = \"Trad\""
   ]
  },
  {
   "cell_type": "markdown",
   "metadata": {},
   "source": [
    "## Blog POS Analysis"
   ]
  },
  {
   "cell_type": "code",
   "execution_count": 23,
   "metadata": {},
   "outputs": [],
   "source": [
    "spark = SparkSession\\\n",
    "        .builder\\\n",
    "        .master('local[*]')\\\n",
    "        .appName('MvT')\\\n",
    "        .getOrCreate()"
   ]
  },
  {
   "cell_type": "code",
   "execution_count": 24,
   "metadata": {},
   "outputs": [],
   "source": [
    "blogDF = spark.read.csv('/spring2021/project1/blogtext.csv', header = True, inferSchema=True)"
   ]
  },
  {
   "cell_type": "code",
   "execution_count": 28,
   "metadata": {},
   "outputs": [],
   "source": [
    "blogRDD = blogDF.select('text').rdd"
   ]
  },
  {
   "cell_type": "code",
   "execution_count": 31,
   "metadata": {},
   "outputs": [],
   "source": [
    "def blogFD(x):\n",
    "    raw = x['text']\n",
    "    tokens = nltk.wordpunct_tokenize(raw)\n",
    "    text = nltk.Text(tokens)\n",
    "    words = [w.lower() for w in text]\n",
    "    tags = nltk.pos_tag(words, tagset='universal')\n",
    "    tag_fd = nltk.FreqDist(tag for (word, tag) in tags)\n",
    "    counts = [tc for tc in tag_fd.items()]\n",
    "    ctDict = dict()\n",
    "\n",
    "    for c in counts:\n",
    "        ctDict[c[0]] = c[1]\n",
    "    \n",
    "    # Change to Percent\n",
    "    total = sum(list(ctDict.values()))\n",
    "    for key in list(ctDict.keys()):\n",
    "        ctDict[key] = ctDict[key] / total\n",
    "        \n",
    "    return ctDict"
   ]
  },
  {
   "cell_type": "code",
   "execution_count": 40,
   "metadata": {},
   "outputs": [],
   "source": [
    "tokenBlogRDD = blogRDD.map(blogFD)"
   ]
  },
  {
   "cell_type": "code",
   "execution_count": 41,
   "metadata": {},
   "outputs": [],
   "source": [
    "def redCounts(x,y):\n",
    "    tot = {}\n",
    "    for key in list(x.keys()):\n",
    "        tot[key] = x[key]\n",
    "    for key in list(y.keys()):\n",
    "        if key in list(tot.keys()):\n",
    "            tot[key] += y[key]\n",
    "        else:\n",
    "            tot[key] = y[key]\n",
    "            \n",
    "    return tot"
   ]
  },
  {
   "cell_type": "code",
   "execution_count": 42,
   "metadata": {},
   "outputs": [],
   "source": [
    "blogPOS = tokenBlogRDD.reduce(redCounts)"
   ]
  },
  {
   "cell_type": "code",
   "execution_count": 44,
   "metadata": {},
   "outputs": [],
   "source": [
    "count = BlogRDD.count()"
   ]
  },
  {
   "cell_type": "code",
   "execution_count": 45,
   "metadata": {},
   "outputs": [],
   "source": [
    "for key in list(blogPOS.keys()):\n",
    "    blogPOS[key] = blogPOS[key]/count"
   ]
  },
  {
   "cell_type": "code",
   "execution_count": 48,
   "metadata": {
    "scrolled": true
   },
   "outputs": [],
   "source": [
    "blogPOS['index'] = 'Blog'"
   ]
  },
  {
   "cell_type": "markdown",
   "metadata": {},
   "source": [
    "## Hacker News Text POS Analysis"
   ]
  },
  {
   "cell_type": "code",
   "execution_count": 49,
   "metadata": {},
   "outputs": [],
   "source": [
    "hackDf = spark.read.csv('/spring2021/project1/hacker_news_sample.csv', header=True, inferSchema=True)"
   ]
  },
  {
   "cell_type": "code",
   "execution_count": 50,
   "metadata": {},
   "outputs": [],
   "source": [
    "hackRDD = hackDf.select('text').rdd"
   ]
  },
  {
   "cell_type": "code",
   "execution_count": 51,
   "metadata": {},
   "outputs": [],
   "source": [
    "#Because this text contains HTML elements we used BeautifulSoup\n",
    "from bs4 import BeautifulSoup"
   ]
  },
  {
   "cell_type": "code",
   "execution_count": 52,
   "metadata": {},
   "outputs": [],
   "source": [
    "def hackFD(x):\n",
    "    if x['text'] == None:\n",
    "        ctDict = {}\n",
    "    else:    \n",
    "        # Remove html\n",
    "        bs = BeautifulSoup(x['text'], 'lxml')\n",
    "        raw = bs.get_text()\n",
    "\n",
    "        # Tokenize\n",
    "        tokens = nltk.wordpunct_tokenize(raw)\n",
    "        text = nltk.Text(tokens)\n",
    "        words = [w.lower() for w in text]\n",
    "        tags = nltk.pos_tag(words, tagset='universal')\n",
    "\n",
    "        # Frequency Distribution\n",
    "        tag_fd = nltk.FreqDist(tag for (word, tag) in tags)\n",
    "        counts = [tc for tc in tag_fd.items()]\n",
    "        ctDict = dict()\n",
    "        for c in counts:\n",
    "            ctDict[c[0]] = c[1]\n",
    "\n",
    "    # Change to Percent\n",
    "    total = sum(list(ctDict.values()))\n",
    "    for key in list(ctDict.keys()):\n",
    "        ctDict[key] = ctDict[key] / total\n",
    "        \n",
    "    return ctDict"
   ]
  },
  {
   "cell_type": "code",
   "execution_count": 53,
   "metadata": {},
   "outputs": [],
   "source": [
    "hackDistRdd = hackRDD.map(hackFD)"
   ]
  },
  {
   "cell_type": "code",
   "execution_count": 54,
   "metadata": {},
   "outputs": [],
   "source": [
    "hackPOS = hackDistRdd.reduce(redCounts)"
   ]
  },
  {
   "cell_type": "code",
   "execution_count": 55,
   "metadata": {},
   "outputs": [],
   "source": [
    "count = hackRDD.count()"
   ]
  },
  {
   "cell_type": "code",
   "execution_count": 56,
   "metadata": {},
   "outputs": [],
   "source": [
    "for key in list(hackPOS.keys()):\n",
    "    hackPOS[key] = hackPOS[key]/count"
   ]
  },
  {
   "cell_type": "code",
   "execution_count": 58,
   "metadata": {},
   "outputs": [],
   "source": [
    "hackPOS['index'] = 'Hack'"
   ]
  },
  {
   "cell_type": "markdown",
   "metadata": {},
   "source": [
    "## Visualization"
   ]
  },
  {
   "cell_type": "code",
   "execution_count": 59,
   "metadata": {},
   "outputs": [],
   "source": [
    "import pandas as pd"
   ]
  },
  {
   "cell_type": "code",
   "execution_count": 61,
   "metadata": {},
   "outputs": [],
   "source": [
    "df = pd.DataFrame([TradTotals, hackPOS, blogPOS])"
   ]
  },
  {
   "cell_type": "code",
   "execution_count": 62,
   "metadata": {},
   "outputs": [],
   "source": [
    "df.set_index('index', inplace=True)"
   ]
  },
  {
   "cell_type": "code",
   "execution_count": 63,
   "metadata": {},
   "outputs": [],
   "source": [
    "dft = df.transpose()"
   ]
  },
  {
   "cell_type": "code",
   "execution_count": 65,
   "metadata": {},
   "outputs": [
    {
     "data": {
      "text/plain": [
       "<AxesSubplot:>"
      ]
     },
     "execution_count": 65,
     "metadata": {},
     "output_type": "execute_result"
    },
    {
     "data": {
      "image/png": "[encoded data removed]",
      "text/plain": [
       "<Figure size 432x288 with 1 Axes>"
      ]
     },
     "metadata": {
      "needs_background": "light"
     },
     "output_type": "display_data"
    }
   ],
   "source": [
    "dft.plot(kind='bar')"
   ]
  },
  {
   "cell_type": "code",
   "execution_count": 67,
   "metadata": {},
   "outputs": [
    {
     "data": {
      "text/html": [
       "<div>\n",
       "<style scoped>\n",
       "    .dataframe tbody tr th:only-of-type {\n",
       "        vertical-align: middle;\n",
       "    }\n",
       "\n",
       "    .dataframe tbody tr th {\n",
       "        vertical-align: top;\n",
       "    }\n",
       "\n",
       "    .dataframe thead th {\n",
       "        text-align: right;\n",
       "    }\n",
       "</style>\n",
       "<table border=\"1\" class=\"dataframe\">\n",
       "  <thead>\n",
       "    <tr style=\"text-align: right;\">\n",
       "      <th>index</th>\n",
       "      <th>Trad</th>\n",
       "      <th>Hack</th>\n",
       "      <th>Blog</th>\n",
       "    </tr>\n",
       "  </thead>\n",
       "  <tbody>\n",
       "    <tr>\n",
       "      <th>VERB</th>\n",
       "      <td>0.166763</td>\n",
       "      <td>0.123334</td>\n",
       "      <td>0.166816</td>\n",
       "    </tr>\n",
       "    <tr>\n",
       "      <th>ADP</th>\n",
       "      <td>0.109370</td>\n",
       "      <td>0.065588</td>\n",
       "      <td>0.079109</td>\n",
       "    </tr>\n",
       "    <tr>\n",
       "      <th>NOUN</th>\n",
       "      <td>0.216714</td>\n",
       "      <td>0.223895</td>\n",
       "      <td>0.256641</td>\n",
       "    </tr>\n",
       "    <tr>\n",
       "      <th>.</th>\n",
       "      <td>0.120162</td>\n",
       "      <td>0.076138</td>\n",
       "      <td>0.134481</td>\n",
       "    </tr>\n",
       "    <tr>\n",
       "      <th>CONJ</th>\n",
       "      <td>0.037250</td>\n",
       "      <td>0.017255</td>\n",
       "      <td>0.028843</td>\n",
       "    </tr>\n",
       "    <tr>\n",
       "      <th>DET</th>\n",
       "      <td>0.094434</td>\n",
       "      <td>0.061627</td>\n",
       "      <td>0.069877</td>\n",
       "    </tr>\n",
       "    <tr>\n",
       "      <th>PRT</th>\n",
       "      <td>0.025638</td>\n",
       "      <td>0.020739</td>\n",
       "      <td>0.032383</td>\n",
       "    </tr>\n",
       "    <tr>\n",
       "      <th>PRON</th>\n",
       "      <td>0.099279</td>\n",
       "      <td>0.039527</td>\n",
       "      <td>0.062015</td>\n",
       "    </tr>\n",
       "    <tr>\n",
       "      <th>NUM</th>\n",
       "      <td>0.005679</td>\n",
       "      <td>0.010267</td>\n",
       "      <td>0.014664</td>\n",
       "    </tr>\n",
       "    <tr>\n",
       "      <th>ADV</th>\n",
       "      <td>0.055617</td>\n",
       "      <td>0.046084</td>\n",
       "      <td>0.060147</td>\n",
       "    </tr>\n",
       "    <tr>\n",
       "      <th>ADJ</th>\n",
       "      <td>0.067928</td>\n",
       "      <td>0.068248</td>\n",
       "      <td>0.087583</td>\n",
       "    </tr>\n",
       "    <tr>\n",
       "      <th>X</th>\n",
       "      <td>0.001165</td>\n",
       "      <td>0.001216</td>\n",
       "      <td>0.002865</td>\n",
       "    </tr>\n",
       "  </tbody>\n",
       "</table>\n",
       "</div>"
      ],
      "text/plain": [
       "index      Trad      Hack      Blog\n",
       "VERB   0.166763  0.123334  0.166816\n",
       "ADP    0.109370  0.065588  0.079109\n",
       "NOUN   0.216714  0.223895  0.256641\n",
       ".      0.120162  0.076138  0.134481\n",
       "CONJ   0.037250  0.017255  0.028843\n",
       "DET    0.094434  0.061627  0.069877\n",
       "PRT    0.025638  0.020739  0.032383\n",
       "PRON   0.099279  0.039527  0.062015\n",
       "NUM    0.005679  0.010267  0.014664\n",
       "ADV    0.055617  0.046084  0.060147\n",
       "ADJ    0.067928  0.068248  0.087583\n",
       "X      0.001165  0.001216  0.002865"
      ]
     },
     "execution_count": 67,
     "metadata": {},
     "output_type": "execute_result"
    }
   ],
   "source": [
    "dft"
   ]
  },
  {
   "cell_type": "code",
   "execution_count": 68,
   "metadata": {},
   "outputs": [],
   "source": [
    "dft.to_csv('POS_percents.csv')"
   ]
  },
  {
   "cell_type": "code",
   "execution_count": null,
   "metadata": {},
   "outputs": [],
   "source": []
  }
 ],
 "metadata": {
  "kernelspec": {
   "display_name": "Python 3",
   "language": "python",
   "name": "python3"
  },
  "language_info": {
   "codemirror_mode": {
    "name": "ipython",
    "version": 3
   },
   "file_extension": ".py",
   "mimetype": "text/x-python",
   "name": "python",
   "nbconvert_exporter": "python",
   "pygments_lexer": "ipython3",
   "version": "3.8.8"
  }
 },
 "nbformat": 4,
 "nbformat_minor": 4
}
