{
 "cells": [
  {
   "cell_type": "code",
   "execution_count": 1,
   "metadata": {},
   "outputs": [],
   "source": [
    "import os\n",
    "import pandas as pd\n",
    "import numpy as np\n",
    "import nltk\n",
    "import string\n",
    "from nltk.corpus import stopwords\n",
    "import matplotlib.pyplot as plt\n",
    "from pyspark import SparkContext\n",
    "from pyspark.sql import SparkSession\n",
    "from pyspark.sql.types import *\n",
    "from pyspark.sql.functions import col"
   ]
  },
  {
   "cell_type": "code",
   "execution_count": 2,
   "metadata": {},
   "outputs": [],
   "source": [
    "spark = SparkSession\\\n",
    "        .builder\\\n",
    "        .master('local[*]')\\\n",
    "        .appName('MvT')\\\n",
    "        .getOrCreate()"
   ]
  },
  {
   "cell_type": "code",
   "execution_count": 3,
   "metadata": {},
   "outputs": [],
   "source": [
    "blog = spark.read.csv('/spring2021/project1/blogtext.csv', header = True, inferSchema=True)"
   ]
  },
  {
   "cell_type": "code",
   "execution_count": 4,
   "metadata": {},
   "outputs": [],
   "source": [
    "hack = spark.read.csv('/spring2021/project1/hacker_news_sample.csv', header=True, inferSchema=True)"
   ]
  },
  {
   "cell_type": "code",
   "execution_count": 5,
   "metadata": {},
   "outputs": [],
   "source": [
    "f1 = open(\"/spring2021/project1/comparison/Charles Dickens - Cities.txt\", 'r')"
   ]
  },
  {
   "cell_type": "code",
   "execution_count": 6,
   "metadata": {},
   "outputs": [],
   "source": [
    "f2 = open(\"/spring2021/project1/comparison/Conan Doyle - Sherlock.txt\", 'r')"
   ]
  },
  {
   "cell_type": "code",
   "execution_count": 7,
   "metadata": {},
   "outputs": [],
   "source": [
    "f3 = open(\"/spring2021/project1/comparison/Herman Melville - Moby.txt\", 'r')"
   ]
  },
  {
   "cell_type": "code",
   "execution_count": 8,
   "metadata": {},
   "outputs": [],
   "source": [
    "f4 = open(\"/spring2021/project1/comparison/Jane Austen - Pride.txt\", 'r')"
   ]
  },
  {
   "cell_type": "code",
   "execution_count": 9,
   "metadata": {},
   "outputs": [],
   "source": [
    "f5 = open(\"/spring2021/project1/comparison/Mary Shelley - Frankenstein.txt\", 'r')"
   ]
  },
  {
   "cell_type": "code",
   "execution_count": 10,
   "metadata": {},
   "outputs": [],
   "source": [
    "f6 = open(\"/spring2021/project1/comparison/Nathaniel Hawthorne - Scarlet.txt\", 'r')"
   ]
  },
  {
   "cell_type": "code",
   "execution_count": 11,
   "metadata": {},
   "outputs": [],
   "source": [
    "f7 = open(\"/spring2021/project1/comparison/Scott Fitzgerald - Gatsby.txt\", 'r')"
   ]
  },
  {
   "cell_type": "markdown",
   "metadata": {},
   "source": [
    "**Calculating Lexical Richness per book for Traditional Texts**"
   ]
  },
  {
   "cell_type": "code",
   "execution_count": 12,
   "metadata": {},
   "outputs": [],
   "source": [
    "tradRaws = [f.read() for f in [f1, f2, f3, f4, f5, f6, f7]]\n",
    "\n",
    "def returnLexical(raw):\n",
    "    # Clean Raw\n",
    "    startin = raw.find(\" ***\") + 4\n",
    "    endin = raw.rfind(\"End of the Project Gutenberg\")\n",
    "    raw = raw[startin:endin]\n",
    "    # tokenize\n",
    "    tokens = nltk.word_tokenize(raw)\n",
    "    text = nltk.Text(tokens)\n",
    "    words = [w.lower() for w in text]\n",
    "    vocab = len(set(words))\n",
    "    length = len(words)\n",
    "    return (vocab/length)\n",
    "\n",
    "tradFDs = [returnLexical(raw) for raw in tradRaws]"
   ]
  },
  {
   "cell_type": "code",
   "execution_count": 13,
   "metadata": {},
   "outputs": [
    {
     "name": "stdout",
     "output_type": "stream",
     "text": [
      "0.07948531416423567\n"
     ]
    }
   ],
   "source": [
    "#Average Lexical Richness\n",
    "avg1=(sum(tradFDs)/len(tradFDs))\n",
    "\n",
    "print(avg1)"
   ]
  },
  {
   "cell_type": "markdown",
   "metadata": {},
   "source": [
    "**Calculating Lexical Richness per post for Blog Texts**"
   ]
  },
  {
   "cell_type": "code",
   "execution_count": 14,
   "metadata": {},
   "outputs": [],
   "source": [
    "blogRDD = blog.select('text').rdd"
   ]
  },
  {
   "cell_type": "code",
   "execution_count": 15,
   "metadata": {},
   "outputs": [],
   "source": [
    "from operator import add\n",
    "def returnLexical2(x):\n",
    "    raw = x['text']\n",
    "    tokens = nltk.word_tokenize(raw)\n",
    "    text = nltk.Text(tokens)\n",
    "    words = [w.lower() for w in text]\n",
    "    score = 0\n",
    "    length=1\n",
    "    vocab=0\n",
    "    for word in words:\n",
    "        length+=1\n",
    "    for word in set(words):\n",
    "        vocab+=1\n",
    "    score=vocab/length\n",
    "    return score\n",
    "\n",
    "scoreRDD = blogRDD.map(returnLexical2)"
   ]
  },
  {
   "cell_type": "code",
   "execution_count": 16,
   "metadata": {},
   "outputs": [],
   "source": [
    "scoreRDD = blogRDD.map(returnLexical2)"
   ]
  },
  {
   "cell_type": "code",
   "execution_count": 17,
   "metadata": {},
   "outputs": [
    {
     "data": {
      "text/plain": [
       "430918.9636495318"
      ]
     },
     "execution_count": 17,
     "metadata": {},
     "output_type": "execute_result"
    }
   ],
   "source": [
    "cumulScore = scoreRDD.reduce(add)\n",
    "cumulScore"
   ]
  },
  {
   "cell_type": "code",
   "execution_count": 18,
   "metadata": {},
   "outputs": [
    {
     "data": {
      "text/plain": [
       "0.6325100305445773"
      ]
     },
     "execution_count": 18,
     "metadata": {},
     "output_type": "execute_result"
    }
   ],
   "source": [
    "def avgMap(x):\n",
    "    return (x,1)\n",
    "\n",
    "def avgRed(x,y):\n",
    "    return (x[0] + y[0], x[1] + y[1])\n",
    "\n",
    "avgRDD = scoreRDD.map(avgMap)\n",
    "\n",
    "avgTup = avgRDD.reduce(avgRed)\n",
    "\n",
    "avg2 = avgTup[0]/avgTup[1]\n",
    "\n",
    "avg2"
   ]
  },
  {
   "cell_type": "markdown",
   "metadata": {},
   "source": [
    "**Calculating Lexical Richness per Post for Hacker Texts**"
   ]
  },
  {
   "cell_type": "code",
   "execution_count": 19,
   "metadata": {},
   "outputs": [],
   "source": [
    "hackRDD = hack.select('text').rdd"
   ]
  },
  {
   "cell_type": "code",
   "execution_count": 20,
   "metadata": {},
   "outputs": [],
   "source": [
    "from bs4 import BeautifulSoup\n",
    "def returnLexical3(x):\n",
    "    if x['text'] != None:\n",
    "        bs = BeautifulSoup(x['text'], 'lxml')\n",
    "        raw = bs.get_text()\n",
    "        tokens = nltk.word_tokenize(raw)\n",
    "        text = nltk.Text(tokens)\n",
    "        words = [w.lower() for w in text]\n",
    "        vocab = len(set(words))\n",
    "        length = len(words)\n",
    "        score=vocab/length\n",
    "    else:\n",
    "        score=0\n",
    "    return score\n"
   ]
  },
  {
   "cell_type": "code",
   "execution_count": 21,
   "metadata": {},
   "outputs": [],
   "source": [
    "scoreHackRDD = hackRDD.map(returnLexical3)"
   ]
  },
  {
   "cell_type": "code",
   "execution_count": 22,
   "metadata": {},
   "outputs": [
    {
     "data": {
      "text/plain": [
       "134692.215181225"
      ]
     },
     "execution_count": 22,
     "metadata": {},
     "output_type": "execute_result"
    }
   ],
   "source": [
    "cumulScore2 = scoreHackRDD.reduce(add)\n",
    "cumulScore2"
   ]
  },
  {
   "cell_type": "code",
   "execution_count": 23,
   "metadata": {},
   "outputs": [
    {
     "data": {
      "text/plain": [
       "0.6262802530431215"
      ]
     },
     "execution_count": 23,
     "metadata": {},
     "output_type": "execute_result"
    }
   ],
   "source": [
    "def avgMap(x):\n",
    "    return (x,1)\n",
    "\n",
    "def avgRed(x,y):\n",
    "    return (x[0] + y[0], x[1] + y[1])\n",
    "\n",
    "avgHackRDD = scoreHackRDD.map(avgMap)\n",
    "\n",
    "avgHackTup = avgHackRDD.reduce(avgRed)\n",
    "\n",
    "avg3 = avgHackTup[0]/avgHackTup[1]\n",
    "\n",
    "avg3"
   ]
  },
  {
   "cell_type": "code",
   "execution_count": 24,
   "metadata": {},
   "outputs": [],
   "source": [
    "spark.stop()"
   ]
  },
  {
   "cell_type": "code",
   "execution_count": 25,
   "metadata": {},
   "outputs": [
    {
     "data": {
      "text/plain": [
       "Text(0.5, 1.0, 'Lexical Richness per Entry on Average')"
      ]
     },
     "execution_count": 25,
     "metadata": {},
     "output_type": "execute_result"
    },
    {
     "data": {
      "image/png": "[encoded data removed]",
      "text/plain": [
       "<Figure size 432x288 with 1 Axes>"
      ]
     },
     "metadata": {},
     "output_type": "display_data"
    }
   ],
   "source": [
    "plt.style.use('fivethirtyeight')\n",
    "plt.bar(['Traditional Text', 'Blog Text', 'Hacker Text'], [avg1*100,avg2*100,avg3*100], color = 'red')\n",
    "plt.xlabel('Era')\n",
    "plt.ylabel('Frequency (%)')\n",
    "plt.title('Lexical Richness per Post/Book on Average')"
   ]
  }
 ],
 "metadata": {
  "kernelspec": {
   "display_name": "Python 3 (ipykernel)",
   "language": "python",
   "name": "python3"
  },
  "language_info": {
   "codemirror_mode": {
    "name": "ipython",
    "version": 3
   },
   "file_extension": ".py",
   "mimetype": "text/x-python",
   "name": "python",
   "nbconvert_exporter": "python",
   "pygments_lexer": "ipython3",
   "version": "3.8.8"
  }
 },
 "nbformat": 4,
 "nbformat_minor": 4
}
