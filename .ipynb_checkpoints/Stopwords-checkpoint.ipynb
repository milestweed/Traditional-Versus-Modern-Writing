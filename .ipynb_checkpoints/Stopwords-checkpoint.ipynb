{
 "cells": [
  {
   "cell_type": "code",
   "execution_count": 24,
   "metadata": {},
   "outputs": [],
   "source": [
    "import nltk\n",
    "import matplotlib.pyplot as plt\n",
    "import seaborn as sns\n",
    "import re\n",
    "from operator import add\n",
    "from nltk.corpus import stopwords\n",
    "from pyspark.sql import SparkSession\n",
    "%matplotlib inline"
   ]
  },
  {
   "cell_type": "code",
   "execution_count": 32,
   "metadata": {},
   "outputs": [],
   "source": [
    "spark = SparkSession\\\n",
    "        .builder\\\n",
    "        .master('local[*]')\\\n",
    "        .appName('MvT')\\\n",
    "        .getOrCreate()"
   ]
  },
  {
   "cell_type": "code",
   "execution_count": 8,
   "metadata": {},
   "outputs": [],
   "source": [
    "stopWords = set(stopwords.words('english'))"
   ]
  },
  {
   "cell_type": "code",
   "execution_count": 9,
   "metadata": {},
   "outputs": [],
   "source": [
    "trad1 = open(\"/spring2021/project1/comparison/Charles Dickens - Cities.txt\", 'r')\n",
    "trad2 = open(\"/spring2021/project1/comparison/Mary Shelley - Frankenstein.txt\", 'r')\n",
    "trad3 = open(\"/spring2021/project1/comparison/Nathaniel Hawthorne - Scarlet.txt\", 'r')\n",
    "trad4 = open(\"/spring2021/project1/comparison/Herman Melville - Moby.txt\", 'r')\n",
    "trad5 = open(\"/spring2021/project1/comparison/Scott Fitzgerald - Gatsby.txt\", 'r')\n",
    "trad6 = open(\"/spring2021/project1/comparison/Jane Austen - Pride.txt\", 'r')\n",
    "trad3 = open(\"/spring2021/project1/comparison/Conan Doyle - Sherlock.txt\", 'r')"
   ]
  },
  {
   "cell_type": "code",
   "execution_count": 10,
   "metadata": {},
   "outputs": [],
   "source": [
    "def countStopWords(raw):\n",
    "    startin = raw.find(\" ***\") + 4\n",
    "    endin = raw.rfind(\"End of the Project Gutenberg\")\n",
    "    raw = raw[startin:endin]\n",
    "    sentences = nltk.sent_tokenize(raw)\n",
    "    sentences = sentences[1:]\n",
    "    tokens = []\n",
    "    for i in range(len(sentences)):\n",
    "        tokens.extend([w.lower() for w in nltk.Text(nltk.word_tokenize(sentences[i]))])\n",
    "    \n",
    "    total = len(tokens)\n",
    "    \n",
    "    stpWrds = 0\n",
    "    for word in tokens:\n",
    "        if word in stopWords:\n",
    "            stpWrds += 1\n",
    "\n",
    "    \n",
    "    return stpWrds/total"
   ]
  },
  {
   "cell_type": "code",
   "execution_count": 11,
   "metadata": {},
   "outputs": [],
   "source": [
    "tradRaws = [x.read() for x in [trad1, trad2, trad3, trad4, trad5, trad6]]"
   ]
  },
  {
   "cell_type": "code",
   "execution_count": 12,
   "metadata": {},
   "outputs": [],
   "source": [
    "stop_word_counts = [countStopWords(r) for r in tradRaws]"
   ]
  },
  {
   "cell_type": "code",
   "execution_count": 72,
   "metadata": {},
   "outputs": [],
   "source": [
    "avgTradSW = (sum(stop_word_counts)/len(stop_word_counts))"
   ]
  },
  {
   "cell_type": "markdown",
   "metadata": {},
   "source": [
    "## Blog Stopword Analysis"
   ]
  },
  {
   "cell_type": "code",
   "execution_count": 33,
   "metadata": {},
   "outputs": [],
   "source": [
    "blog = spark.read.csv('/spring2021/project1/blogtext.csv', header = True, inferSchema=True)"
   ]
  },
  {
   "cell_type": "code",
   "execution_count": 34,
   "metadata": {},
   "outputs": [],
   "source": [
    "blogRDD = blog.select('text').rdd"
   ]
  },
  {
   "cell_type": "code",
   "execution_count": 35,
   "metadata": {},
   "outputs": [],
   "source": [
    "def mapStopWords(x):\n",
    "    raw = x['text']\n",
    "    tokens = nltk.word_tokenize(raw)\n",
    "    text = nltk.Text(tokens)\n",
    "    words = [w.lower() for w in text]\n",
    "\n",
    "    total = len(words)\n",
    "    if total != 0:\n",
    "        stpWrds = 0\n",
    "        for word in words:\n",
    "            if word in stopWords:\n",
    "                stpWrds += 1\n",
    "\n",
    "    \n",
    "        return stpWrds/total\n",
    "    else:\n",
    "        return 0"
   ]
  },
  {
   "cell_type": "code",
   "execution_count": 36,
   "metadata": {},
   "outputs": [],
   "source": [
    "blogSwRDD = blogRDD.map(mapStopWords)"
   ]
  },
  {
   "cell_type": "code",
   "execution_count": null,
   "metadata": {},
   "outputs": [],
   "source": [
    "blogCount = blogRDD.count()"
   ]
  },
  {
   "cell_type": "code",
   "execution_count": 38,
   "metadata": {},
   "outputs": [],
   "source": [
    "BlogSw = blogSwRDD.reduce(add)"
   ]
  },
  {
   "cell_type": "code",
   "execution_count": 74,
   "metadata": {},
   "outputs": [],
   "source": [
    "avgBlogSw = (BlogSw/blogCount)"
   ]
  },
  {
   "cell_type": "markdown",
   "metadata": {},
   "source": [
    "## Hacker News Stopword Analysis"
   ]
  },
  {
   "cell_type": "code",
   "execution_count": 40,
   "metadata": {},
   "outputs": [],
   "source": [
    "hack = spark.read.csv('/spring2021/project1/hacker_news_sample.csv', header=True, inferSchema=True)"
   ]
  },
  {
   "cell_type": "code",
   "execution_count": 41,
   "metadata": {},
   "outputs": [],
   "source": [
    "hackRDD = hack.select('text').rdd"
   ]
  },
  {
   "cell_type": "code",
   "execution_count": 47,
   "metadata": {},
   "outputs": [],
   "source": [
    "from bs4 import BeautifulSoup"
   ]
  },
  {
   "cell_type": "code",
   "execution_count": 43,
   "metadata": {},
   "outputs": [],
   "source": [
    "def mapStopWordsHTML(x):\n",
    "    if x['text'] != None:\n",
    "        bs = BeautifulSoup(x['text'], 'lxml')\n",
    "        raw = bs.get_text()\n",
    "        tokens = nltk.word_tokenize(raw)\n",
    "        text = nltk.Text(tokens)\n",
    "        words = [w.lower() for w in text]\n",
    "\n",
    "        total = len(words)\n",
    "        if total != 0:\n",
    "            stpWrds = 0\n",
    "            for word in words:\n",
    "                if word in stopWords:\n",
    "                    stpWrds += 1\n",
    "\n",
    "\n",
    "            return stpWrds/total\n",
    "        else:\n",
    "            return 0\n",
    "    else:\n",
    "        return 0"
   ]
  },
  {
   "cell_type": "code",
   "execution_count": 44,
   "metadata": {},
   "outputs": [],
   "source": [
    "hackSwRDD = hackRDD.map(mapStopWordsHTML)"
   ]
  },
  {
   "cell_type": "code",
   "execution_count": 45,
   "metadata": {},
   "outputs": [],
   "source": [
    "count = hackRDD.count()"
   ]
  },
  {
   "cell_type": "code",
   "execution_count": 48,
   "metadata": {},
   "outputs": [],
   "source": [
    "hackSw = hackSwRDD.reduce(add)"
   ]
  },
  {
   "cell_type": "code",
   "execution_count": 70,
   "metadata": {},
   "outputs": [],
   "source": [
    "avgHackSw = (hackSw/count)"
   ]
  },
  {
   "cell_type": "code",
   "execution_count": 73,
   "metadata": {},
   "outputs": [
    {
     "data": {
      "text/plain": [
       "Text(0.5, 1.0, 'Percent of Stop Words')"
      ]
     },
     "execution_count": 73,
     "metadata": {},
     "output_type": "execute_result"
    },
    {
     "data": {
      "image/png": "[encoded data removed]",
      "text/plain": [
       "<Figure size 432x288 with 1 Axes>"
      ]
     },
     "metadata": {
      "needs_background": "light"
     },
     "output_type": "display_data"
    }
   ],
   "source": [
    "plt.bar(x = ['Traditional','Blog','Hacker News'], \n",
    "        height=[avgTradSW, avgBlogSw, avgHackSw],\n",
    "        color = ['green','cyan','purple'])\n",
    "plt.ylabel('Percent')\n",
    "plt.title(\"Percent of Stop Words\")"
   ]
  },
  {
   "cell_type": "code",
   "execution_count": null,
   "metadata": {},
   "outputs": [],
   "source": []
  }
 ],
 "metadata": {
  "kernelspec": {
   "display_name": "Python 3",
   "language": "python",
   "name": "python3"
  },
  "language_info": {
   "codemirror_mode": {
    "name": "ipython",
    "version": 3
   },
   "file_extension": ".py",
   "mimetype": "text/x-python",
   "name": "python",
   "nbconvert_exporter": "python",
   "pygments_lexer": "ipython3",
   "version": "3.8.8"
  }
 },
 "nbformat": 4,
 "nbformat_minor": 4
}
